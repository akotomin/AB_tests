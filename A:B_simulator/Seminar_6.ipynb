{
 "cells": [
  {
   "cell_type": "code",
   "execution_count": 1,
   "id": "c52ccf9e",
   "metadata": {},
   "outputs": [],
   "source": [
    "import pandas as pd\n",
    "import numpy as np\n",
    "import matplotlib.pyplot as plt\n",
    "import seaborn as sns\n",
    "import scipy.stats as stats"
   ]
  },
  {
   "cell_type": "markdown",
   "id": "d2af4059",
   "metadata": {},
   "source": [
    "# > Задача 1. Сколько выбросов удалять\n",
    "  \n",
    "\n",
    "С одной стороны, при удалении выбросов снижается дисперсия, что приводит к увеличению чувствительности теста. С другой стороны, при удалении выбросов уменьшается размер выборки, что приводит к уменьшению чувствительности.\n",
    "\n",
    "Сравните мощности тестов с разной долей удаляемых данных. Используйте данные о времени работы бэкенда `2022-04-01T12_df_web_logs.csv` в период с 2022-03-01 по 2022-03-08. Уровень значимости — 0.05. Размеры групп — 1000 человек (размер выборок будет больше, так как на одного человека приходится много значений). Проверяем гипотезу о равенстве средних с помощью теста Стьюдента. Ожидаемый эффект — увеличение времени обработки на 1%. Эффект в синтетических А/В-тестах добавляем умножением на константу.\n",
    "\n",
    "В ответ введите номера вариантов, упорядоченные по уменьшению мощности. Например, «12345» означает, что вариант 1 обладает наибольшей мощностью, а вариант 5 — наименьшей.\n",
    "\n",
    "1. Удалить 0.02% выбросов;\n",
    "\n",
    "2. Удалить 0.2% выбросов;\n",
    "\n",
    "3. Удалить 2% выбросов;\n",
    "\n",
    "4. Удалить 10% выбросов;\n",
    "\n",
    "5. Удалить 20% выбросов.\n",
    "\n",
    "Удалить 2% выбросов означает, что нужно убрать по 1% минимальных и максимальных значений выборки. То есть оставить значения, которые лежат между `np.quantile(values, 0.01)` и `np.quantile(values, 0.99)`. Квантили вычислять для каждой групп отдельно."
   ]
  },
  {
   "cell_type": "code",
   "execution_count": 2,
   "id": "3d8d112c",
   "metadata": {},
   "outputs": [
    {
     "data": {
      "text/html": [
       "<div>\n",
       "<style scoped>\n",
       "    .dataframe tbody tr th:only-of-type {\n",
       "        vertical-align: middle;\n",
       "    }\n",
       "\n",
       "    .dataframe tbody tr th {\n",
       "        vertical-align: top;\n",
       "    }\n",
       "\n",
       "    .dataframe thead th {\n",
       "        text-align: right;\n",
       "    }\n",
       "</style>\n",
       "<table border=\"1\" class=\"dataframe\">\n",
       "  <thead>\n",
       "    <tr style=\"text-align: right;\">\n",
       "      <th></th>\n",
       "      <th>user_id</th>\n",
       "      <th>page</th>\n",
       "      <th>date</th>\n",
       "      <th>load_time</th>\n",
       "    </tr>\n",
       "  </thead>\n",
       "  <tbody>\n",
       "    <tr>\n",
       "      <th>0</th>\n",
       "      <td>f25239</td>\n",
       "      <td>m</td>\n",
       "      <td>2022-02-03 23:45:37</td>\n",
       "      <td>80.8</td>\n",
       "    </tr>\n",
       "    <tr>\n",
       "      <th>1</th>\n",
       "      <td>06d6df</td>\n",
       "      <td>m</td>\n",
       "      <td>2022-02-03 23:49:56</td>\n",
       "      <td>70.5</td>\n",
       "    </tr>\n",
       "    <tr>\n",
       "      <th>2</th>\n",
       "      <td>06d6df</td>\n",
       "      <td>m</td>\n",
       "      <td>2022-02-03 23:51:16</td>\n",
       "      <td>89.7</td>\n",
       "    </tr>\n",
       "  </tbody>\n",
       "</table>\n",
       "</div>"
      ],
      "text/plain": [
       "  user_id page                 date  load_time\n",
       "0  f25239    m  2022-02-03 23:45:37       80.8\n",
       "1  06d6df    m  2022-02-03 23:49:56       70.5\n",
       "2  06d6df    m  2022-02-03 23:51:16       89.7"
      ]
     },
     "execution_count": 2,
     "metadata": {},
     "output_type": "execute_result"
    }
   ],
   "source": [
    "web_logs = pd.read_csv('2022-04-01T12_df_web_logs.csv')\n",
    "web_logs.head(3)"
   ]
  },
  {
   "cell_type": "code",
   "execution_count": 3,
   "id": "a006eb3d",
   "metadata": {},
   "outputs": [
    {
     "data": {
      "text/plain": [
       "(245851, 4)"
      ]
     },
     "execution_count": 3,
     "metadata": {},
     "output_type": "execute_result"
    }
   ],
   "source": [
    "# отсеиваем данные по датам конкретной недели\n",
    "web_logs_week = web_logs[\n",
    "    (web_logs['date'] >= '2022-03-01')\n",
    "    & (web_logs['date'] < '2022-03-08')\n",
    "]\n",
    "web_logs_week.shape"
   ]
  },
  {
   "cell_type": "code",
   "execution_count": 4,
   "id": "4987941e",
   "metadata": {},
   "outputs": [],
   "source": [
    "alpha = 0.05\n",
    "sample_size = 1000\n",
    "eff = 0.01\n",
    "\n",
    "# Отбираем только уникальных пользователей для нашего эксперимента.\n",
    "users = web_logs_week['user_id'].unique()"
   ]
  },
  {
   "cell_type": "code",
   "execution_count": 5,
   "id": "e5eed192",
   "metadata": {},
   "outputs": [
    {
     "name": "stdout",
     "output_type": "stream",
     "text": [
      "При удаленни 0.02% выбросов мощность теста равна 0.097\n",
      "При удаленни 0.2% выбросов мощность теста равна 0.338\n",
      "При удаленни 2.0% выбросов мощность теста равна 0.93\n",
      "При удаленни 10.0% выбросов мощность теста равна 0.947\n",
      "При удаленни 20.0% выбросов мощность теста равна 0.973\n",
      "\n",
      "ответ: 54321.\n",
      "\n"
     ]
    }
   ],
   "source": [
    "outliers = [0.0002, 0.002, 0.02, 0.1, 0.2]\n",
    "result = []\n",
    "\n",
    "for index, quant in enumerate(outliers):\n",
    "    pvalues = []\n",
    "\n",
    "    for _ in range(1000):\n",
    "        # Делаем две выборки размером 1000, которые не пересекаются между собой.\n",
    "        users_a, users_b = np.random.choice(users, (2, sample_size), replace=False)\n",
    "        # Отбираем необходимые данные для теста и добавляем в экспериментальную группу наш эффект.\n",
    "        a = web_logs_week.query('user_id in @users_a').load_time\n",
    "        b = web_logs_week.query('user_id in @users_b').load_time * (1 + eff)\n",
    "        \n",
    "        # Отсеиваем все что меньше нижнего квантиля и больше верхнего квантиля для наших распределений\n",
    "        a_mask = (a > np.quantile(a, quant / 2)) & (a < np.quantile(a, 1 - quant / 2))\n",
    "        b_mask = (b > np.quantile(b, quant / 2)) & (b < np.quantile(b, 1 - quant / 2))\n",
    "        group_a = a[a_mask]\n",
    "        group_b = b[b_mask]\n",
    "        \n",
    "        # Проводим t-test и записываем pvalue для рпоследующего рассчета мощности\n",
    "        pvalue = stats.ttest_ind(group_a, group_b).pvalue\n",
    "        pvalues.append(pvalue)\n",
    "\n",
    "    # Рассчитываем мощность при заданном квантиле\n",
    "    power = np.mean((np.array(pvalues) < alpha).astype(int))\n",
    "    result.append([index + 1, quant, power])\n",
    "\n",
    "    print(f'При удаленни {quant * 100}% выбросов мощность теста равна {power}')\n",
    "    \n",
    "result_sorted = sorted(result, key=lambda power: power[2])\n",
    "answer_list = [i[0] for i in result_sorted]\n",
    "print(f'''\n",
    "ответ: {''.join(map(str, reversed(answer_list)))}.\n",
    "''')"
   ]
  },
  {
   "cell_type": "markdown",
   "id": "4ab9ac87",
   "metadata": {},
   "source": [
    "# > Задача 2. Сколько выбросов удалять — 2\n",
    "  \n",
    "\n",
    "Выполните то же задание, изменив способ добавления эффекта. Эффект в синтетических А/В-тестах добавляем добавлением константы к 1% данных.\n",
    "\n",
    "В ответ введите номера вариантов упорядоченные по уменьшению мощности. Например, «12345» означает, что вариант 1 обладает наибольшей мощностью, а вариант 5 — наименьшей.\n",
    "\n",
    "1. Удалить 0.02% выбросов;\n",
    "\n",
    "2. Удалить 0.2% выбросов;\n",
    "\n",
    "3. Удалить 2% выбросов;\n",
    "\n",
    "4. Удалить 10% выбросов;\n",
    "\n",
    "5. Удалить 20% выбросов.\n",
    "\n",
    "Удалить 2% выбросов означает, что нужно убрать по 1% минимальных и максимальных значений выборки. То есть оставить значения, которые лежат между `np.quantile(values, 0.01)` и `np.quantile(values, 0.99)`. Квантили вычислять для каждой группы отдельно."
   ]
  },
  {
   "cell_type": "code",
   "execution_count": 7,
   "id": "fd0fdb7d",
   "metadata": {},
   "outputs": [
    {
     "name": "stdout",
     "output_type": "stream",
     "text": [
      "При удаленни 0.02% выбросов мощность теста равна 0.092\n",
      "При удаленни 0.2% выбросов мощность теста равна 0.349\n",
      "При удаленни 2.0% выбросов мощность теста равна 0.437\n",
      "При удаленни 10.0% выбросов мощность теста равна 0.312\n",
      "При удаленни 20.0% выбросов мощность теста равна 0.331\n",
      "\n",
      "ответ: 32541.\n",
      "\n"
     ]
    }
   ],
   "source": [
    "alpha = 0.05\n",
    "sample_size = 1000\n",
    "eff = 0.01\n",
    "\n",
    "outliers = [0.0002, 0.002, 0.02, 0.1, 0.2]\n",
    "result = []\n",
    "\n",
    "for index, quant in enumerate(outliers):\n",
    "    pvalues = []\n",
    "\n",
    "    for _ in range(1000):\n",
    "        # Делаем две выборки размером 1000, которые не пересекаются между собой.\n",
    "        users_a, users_b = np.random.choice(users, (2, sample_size), replace=False)\n",
    "        # Отбираем необходимые данные для теста и добавляем в экспериментальную группу наш эффект.\n",
    "        a = web_logs_week[web_logs_week['user_id'].isin(users_a)].load_time.values\n",
    "        b = web_logs_week[web_logs_week['user_id'].isin(users_b)].load_time.values\n",
    "        mean = np.mean(b)\n",
    "        # Рандомно выбираем индексы для нашей выборки в 1% от всех значений\n",
    "        indexes = np.random.choice(range(len(b)), int(len(b) * 0.01), False)\n",
    "        # Для равноммерного распределения эффекта делим его на количество значений, к которым мы его добавляем\n",
    "        b[indexes] += eff * mean * len(b) / len(indexes)\n",
    "        \n",
    "        # Отсеиваем все что меньше нижнего квантиля и больше верхнего квантиля для наших распределений\n",
    "        a_mask = (a > np.quantile(a, quant / 2)) & (a < np.quantile(a, 1 - quant / 2))\n",
    "        b_mask = (b > np.quantile(b, quant / 2)) & (b < np.quantile(b, 1 - quant / 2))\n",
    "        group_a = a[a_mask]\n",
    "        group_b = b[b_mask]\n",
    "        \n",
    "        # Проводим t-test и записываем pvalue для рпоследующего рассчета мощности\n",
    "        pvalue = stats.ttest_ind(group_a, group_b).pvalue\n",
    "        pvalues.append(pvalue)\n",
    "\n",
    "    # Рассчитываем мощность при заданном квантиле\n",
    "    power = np.mean((np.array(pvalues) < alpha).astype(int))\n",
    "    result.append([index + 1, quant, power])\n",
    "\n",
    "    print(f'При удаленни {quant * 100}% выбросов мощность теста равна {power}')\n",
    "    \n",
    "result_sorted = sorted(result, key=lambda power: power[2])\n",
    "answer_list = [i[0] for i in result_sorted]\n",
    "print(f'''\n",
    "ответ: {''.join(map(str, reversed(answer_list)))}.\n",
    "''')"
   ]
  },
  {
   "cell_type": "code",
   "execution_count": null,
   "id": "ee8fc1df",
   "metadata": {},
   "outputs": [],
   "source": []
  }
 ],
 "metadata": {
  "kernelspec": {
   "display_name": "Python 3 (ipykernel)",
   "language": "python",
   "name": "python3"
  },
  "language_info": {
   "codemirror_mode": {
    "name": "ipython",
    "version": 3
   },
   "file_extension": ".py",
   "mimetype": "text/x-python",
   "name": "python",
   "nbconvert_exporter": "python",
   "pygments_lexer": "ipython3",
   "version": "3.11.2"
  }
 },
 "nbformat": 4,
 "nbformat_minor": 5
}
