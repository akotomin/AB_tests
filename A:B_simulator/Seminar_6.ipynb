{
 "cells": [
  {
   "cell_type": "code",
   "execution_count": 1,
   "id": "c52ccf9e",
   "metadata": {},
   "outputs": [],
   "source": [
    "import pandas as pd\n",
    "import numpy as np\n",
    "import matplotlib.pyplot as plt\n",
    "import seaborn as sns\n",
    "import scipy.stats as stats\n",
    "from tqdm.notebook import tqdm"
   ]
  },
  {
   "cell_type": "code",
   "execution_count": 2,
   "id": "3d8d112c",
   "metadata": {},
   "outputs": [],
   "source": [
    "web_logs = pd.read_csv('2022-04-01T12_df_web_logs.csv')"
   ]
  },
  {
   "cell_type": "code",
   "execution_count": 3,
   "id": "3735884f",
   "metadata": {},
   "outputs": [
    {
     "data": {
      "text/html": [
       "<div>\n",
       "<style scoped>\n",
       "    .dataframe tbody tr th:only-of-type {\n",
       "        vertical-align: middle;\n",
       "    }\n",
       "\n",
       "    .dataframe tbody tr th {\n",
       "        vertical-align: top;\n",
       "    }\n",
       "\n",
       "    .dataframe thead th {\n",
       "        text-align: right;\n",
       "    }\n",
       "</style>\n",
       "<table border=\"1\" class=\"dataframe\">\n",
       "  <thead>\n",
       "    <tr style=\"text-align: right;\">\n",
       "      <th></th>\n",
       "      <th>user_id</th>\n",
       "      <th>page</th>\n",
       "      <th>date</th>\n",
       "      <th>load_time</th>\n",
       "    </tr>\n",
       "  </thead>\n",
       "  <tbody>\n",
       "    <tr>\n",
       "      <th>0</th>\n",
       "      <td>f25239</td>\n",
       "      <td>m</td>\n",
       "      <td>2022-02-03 23:45:37</td>\n",
       "      <td>80.8</td>\n",
       "    </tr>\n",
       "    <tr>\n",
       "      <th>1</th>\n",
       "      <td>06d6df</td>\n",
       "      <td>m</td>\n",
       "      <td>2022-02-03 23:49:56</td>\n",
       "      <td>70.5</td>\n",
       "    </tr>\n",
       "    <tr>\n",
       "      <th>2</th>\n",
       "      <td>06d6df</td>\n",
       "      <td>m</td>\n",
       "      <td>2022-02-03 23:51:16</td>\n",
       "      <td>89.7</td>\n",
       "    </tr>\n",
       "  </tbody>\n",
       "</table>\n",
       "</div>"
      ],
      "text/plain": [
       "  user_id page                 date  load_time\n",
       "0  f25239    m  2022-02-03 23:45:37       80.8\n",
       "1  06d6df    m  2022-02-03 23:49:56       70.5\n",
       "2  06d6df    m  2022-02-03 23:51:16       89.7"
      ]
     },
     "execution_count": 3,
     "metadata": {},
     "output_type": "execute_result"
    }
   ],
   "source": [
    "web_logs.head(3)"
   ]
  },
  {
   "cell_type": "code",
   "execution_count": 4,
   "id": "a006eb3d",
   "metadata": {},
   "outputs": [
    {
     "data": {
      "text/plain": [
       "(245851, 4)"
      ]
     },
     "execution_count": 4,
     "metadata": {},
     "output_type": "execute_result"
    }
   ],
   "source": [
    "web_logs_week = web_logs[\n",
    "    (web_logs['date'] >= '2022-03-01')\n",
    "    & (web_logs['date'] < '2022-03-08')\n",
    "]\n",
    "web_logs_week.shape"
   ]
  },
  {
   "cell_type": "code",
   "execution_count": 5,
   "id": "4987941e",
   "metadata": {},
   "outputs": [],
   "source": [
    "alpha = 0.05\n",
    "sample_size = 1000\n",
    "\n",
    "mean = web_logs_week['load_time'].mean()\n",
    "std = web_logs_week['load_time'].std()\n",
    "\n",
    "eff = 0.01\n",
    "users = web_logs_week['user_id'].unique()"
   ]
  },
  {
   "cell_type": "code",
   "execution_count": 44,
   "id": "e5eed192",
   "metadata": {},
   "outputs": [
    {
     "data": {
      "application/vnd.jupyter.widget-view+json": {
       "model_id": "4b87016b76364d5fae0e16b32119616a",
       "version_major": 2,
       "version_minor": 0
      },
      "text/plain": [
       "  0%|          | 0/5 [00:00<?, ?it/s]"
      ]
     },
     "metadata": {},
     "output_type": "display_data"
    },
    {
     "name": "stdout",
     "output_type": "stream",
     "text": [
      "Для значения квантиля в 0.0002 мощность теста равна 0.096\n",
      "Для значения квантиля в 0.002 мощность теста равна 0.359\n",
      "Для значения квантиля в 0.02 мощность теста равна 0.94\n",
      "Для значения квантиля в 0.1 мощность теста равна 0.952\n",
      "Для значения квантиля в 0.2 мощность теста равна 0.967\n",
      "\n",
      "ответ: 54321.\n",
      "\n"
     ]
    }
   ],
   "source": [
    "outliers = [0.0002, 0.002, 0.02, 0.1, 0.2]\n",
    "result = []\n",
    "\n",
    "for quant in tqdm(outliers):\n",
    "    pvalues = []\n",
    "\n",
    "    for _ in range(1000):\n",
    "        users_a, users_b = np.random.choice(users, (2, sample_size), replace=False)\n",
    "        a = web_logs_week.query('user_id in @users_a').load_time\n",
    "        b = web_logs_week.query('user_id in @users_b').load_time * (1 + eff)\n",
    "\n",
    "        a_mask = (a > np.quantile(a, quant / 2)) & (a < np.quantile(a, 1 - quant / 2))\n",
    "        b_mask = (b > np.quantile(b, quant / 2)) & (b < np.quantile(b, 1 - quant / 2))\n",
    "        group_a = a[a_mask]\n",
    "        group_b = b[b_mask]\n",
    "\n",
    "        pvalue = stats.ttest_ind(group_a, group_b).pvalue\n",
    "        pvalues.append(pvalue)\n",
    "\n",
    "    power = np.mean((np.array(pvalues) < alpha).astype(int))\n",
    "    result.append([quant, power])\n",
    "\n",
    "    print(f'Для значения квантиля в {quant} мощность теста равна {power}')\n",
    "    \n",
    "result_sorted = sorted(result, key=lambda power: power[1])\n",
    "answer_list = [i + 1 for i, v in enumerate(result_sorted)]\n",
    "print(f'''\n",
    "ответ: {\"\".join(map(str, reversed(answer_list)))}.\n",
    "''')"
   ]
  }
 ],
 "metadata": {
  "kernelspec": {
   "display_name": "Python 3 (ipykernel)",
   "language": "python",
   "name": "python3"
  },
  "language_info": {
   "codemirror_mode": {
    "name": "ipython",
    "version": 3
   },
   "file_extension": ".py",
   "mimetype": "text/x-python",
   "name": "python",
   "nbconvert_exporter": "python",
   "pygments_lexer": "ipython3",
   "version": "3.11.2"
  }
 },
 "nbformat": 4,
 "nbformat_minor": 5
}
