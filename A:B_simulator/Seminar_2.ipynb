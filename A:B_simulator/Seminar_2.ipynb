{
 "cells": [
  {
   "cell_type": "code",
   "execution_count": 25,
   "id": "7344fcf5",
   "metadata": {},
   "outputs": [],
   "source": [
    "import pandas as pd\n",
    "import numpy as np\n",
    "import scipy.stats as sc"
   ]
  },
  {
   "cell_type": "markdown",
   "id": "ac3af6a0",
   "metadata": {},
   "source": [
    "## Задача 1. Отличия до эксперимента\n",
    "  \n",
    "Возьмите те же группы, что и в эксперименте с изменением дизайна сайта, и проверьте значимость отличий средней выручки с пользователя на неделе перед экспериментом (c 2022.03.16 по 2022.03.23).\n",
    "\n",
    "В качестве ответа введите p-value, округлённое до 3-го знака после точки."
   ]
  },
  {
   "cell_type": "code",
   "execution_count": 2,
   "id": "3dfdcdf2",
   "metadata": {},
   "outputs": [],
   "source": [
    "groups = pd.read_csv('experiment_users.csv')"
   ]
  },
  {
   "cell_type": "code",
   "execution_count": 79,
   "id": "142ab220",
   "metadata": {},
   "outputs": [],
   "source": [
    "sales = pd.read_csv('2022-04-01T12_df_sales.csv')"
   ]
  },
  {
   "cell_type": "code",
   "execution_count": 80,
   "id": "fd201e3a",
   "metadata": {},
   "outputs": [],
   "source": [
    "sales['date'] = pd.to_datetime(sales['date'])"
   ]
  },
  {
   "cell_type": "code",
   "execution_count": 81,
   "id": "30d66bd9",
   "metadata": {},
   "outputs": [],
   "source": [
    "new_sales = sales[(sales['date'] >= '2022-03-16') & (sales['date'] < '2022-03-23')]"
   ]
  },
  {
   "cell_type": "code",
   "execution_count": 82,
   "id": "df9d2bc5",
   "metadata": {},
   "outputs": [],
   "source": [
    "df = pd.merge(groups, new_sales, on='user_id', how='left').fillna(0)"
   ]
  },
  {
   "cell_type": "code",
   "execution_count": 83,
   "id": "04185a13",
   "metadata": {},
   "outputs": [
    {
     "data": {
      "text/html": [
       "<div>\n",
       "<style scoped>\n",
       "    .dataframe tbody tr th:only-of-type {\n",
       "        vertical-align: middle;\n",
       "    }\n",
       "\n",
       "    .dataframe tbody tr th {\n",
       "        vertical-align: top;\n",
       "    }\n",
       "\n",
       "    .dataframe thead th {\n",
       "        text-align: right;\n",
       "    }\n",
       "</style>\n",
       "<table border=\"1\" class=\"dataframe\">\n",
       "  <thead>\n",
       "    <tr style=\"text-align: right;\">\n",
       "      <th></th>\n",
       "      <th>user_id</th>\n",
       "      <th>pilot</th>\n",
       "      <th>sale_id</th>\n",
       "      <th>date</th>\n",
       "      <th>count_pizza</th>\n",
       "      <th>count_drink</th>\n",
       "      <th>price</th>\n",
       "    </tr>\n",
       "  </thead>\n",
       "  <tbody>\n",
       "    <tr>\n",
       "      <th>0</th>\n",
       "      <td>0ffc65</td>\n",
       "      <td>0</td>\n",
       "      <td>0.0</td>\n",
       "      <td>0</td>\n",
       "      <td>0.0</td>\n",
       "      <td>0.0</td>\n",
       "      <td>0.0</td>\n",
       "    </tr>\n",
       "    <tr>\n",
       "      <th>1</th>\n",
       "      <td>b962b9</td>\n",
       "      <td>0</td>\n",
       "      <td>0.0</td>\n",
       "      <td>0</td>\n",
       "      <td>0.0</td>\n",
       "      <td>0.0</td>\n",
       "      <td>0.0</td>\n",
       "    </tr>\n",
       "    <tr>\n",
       "      <th>2</th>\n",
       "      <td>7ea63f</td>\n",
       "      <td>0</td>\n",
       "      <td>0.0</td>\n",
       "      <td>0</td>\n",
       "      <td>0.0</td>\n",
       "      <td>0.0</td>\n",
       "      <td>0.0</td>\n",
       "    </tr>\n",
       "    <tr>\n",
       "      <th>3</th>\n",
       "      <td>7f9a61</td>\n",
       "      <td>0</td>\n",
       "      <td>0.0</td>\n",
       "      <td>0</td>\n",
       "      <td>0.0</td>\n",
       "      <td>0.0</td>\n",
       "      <td>0.0</td>\n",
       "    </tr>\n",
       "    <tr>\n",
       "      <th>4</th>\n",
       "      <td>459e55</td>\n",
       "      <td>0</td>\n",
       "      <td>1170172.0</td>\n",
       "      <td>2022-03-22 18:12:12</td>\n",
       "      <td>3.0</td>\n",
       "      <td>1.0</td>\n",
       "      <td>2160.0</td>\n",
       "    </tr>\n",
       "    <tr>\n",
       "      <th>...</th>\n",
       "      <td>...</td>\n",
       "      <td>...</td>\n",
       "      <td>...</td>\n",
       "      <td>...</td>\n",
       "      <td>...</td>\n",
       "      <td>...</td>\n",
       "      <td>...</td>\n",
       "    </tr>\n",
       "    <tr>\n",
       "      <th>23389</th>\n",
       "      <td>b10ce5</td>\n",
       "      <td>1</td>\n",
       "      <td>0.0</td>\n",
       "      <td>0</td>\n",
       "      <td>0.0</td>\n",
       "      <td>0.0</td>\n",
       "      <td>0.0</td>\n",
       "    </tr>\n",
       "    <tr>\n",
       "      <th>23390</th>\n",
       "      <td>c5486d</td>\n",
       "      <td>1</td>\n",
       "      <td>0.0</td>\n",
       "      <td>0</td>\n",
       "      <td>0.0</td>\n",
       "      <td>0.0</td>\n",
       "      <td>0.0</td>\n",
       "    </tr>\n",
       "    <tr>\n",
       "      <th>23391</th>\n",
       "      <td>53bf9f</td>\n",
       "      <td>1</td>\n",
       "      <td>0.0</td>\n",
       "      <td>0</td>\n",
       "      <td>0.0</td>\n",
       "      <td>0.0</td>\n",
       "      <td>0.0</td>\n",
       "    </tr>\n",
       "    <tr>\n",
       "      <th>23392</th>\n",
       "      <td>405a2b</td>\n",
       "      <td>1</td>\n",
       "      <td>0.0</td>\n",
       "      <td>0</td>\n",
       "      <td>0.0</td>\n",
       "      <td>0.0</td>\n",
       "      <td>0.0</td>\n",
       "    </tr>\n",
       "    <tr>\n",
       "      <th>23393</th>\n",
       "      <td>a40e01</td>\n",
       "      <td>1</td>\n",
       "      <td>1158549.0</td>\n",
       "      <td>2022-03-19 16:03:07</td>\n",
       "      <td>4.0</td>\n",
       "      <td>0.0</td>\n",
       "      <td>3240.0</td>\n",
       "    </tr>\n",
       "  </tbody>\n",
       "</table>\n",
       "<p>23394 rows × 7 columns</p>\n",
       "</div>"
      ],
      "text/plain": [
       "      user_id  pilot    sale_id                 date  count_pizza   \n",
       "0      0ffc65      0        0.0                    0          0.0  \\\n",
       "1      b962b9      0        0.0                    0          0.0   \n",
       "2      7ea63f      0        0.0                    0          0.0   \n",
       "3      7f9a61      0        0.0                    0          0.0   \n",
       "4      459e55      0  1170172.0  2022-03-22 18:12:12          3.0   \n",
       "...       ...    ...        ...                  ...          ...   \n",
       "23389  b10ce5      1        0.0                    0          0.0   \n",
       "23390  c5486d      1        0.0                    0          0.0   \n",
       "23391  53bf9f      1        0.0                    0          0.0   \n",
       "23392  405a2b      1        0.0                    0          0.0   \n",
       "23393  a40e01      1  1158549.0  2022-03-19 16:03:07          4.0   \n",
       "\n",
       "       count_drink   price  \n",
       "0              0.0     0.0  \n",
       "1              0.0     0.0  \n",
       "2              0.0     0.0  \n",
       "3              0.0     0.0  \n",
       "4              1.0  2160.0  \n",
       "...            ...     ...  \n",
       "23389          0.0     0.0  \n",
       "23390          0.0     0.0  \n",
       "23391          0.0     0.0  \n",
       "23392          0.0     0.0  \n",
       "23393          0.0  3240.0  \n",
       "\n",
       "[23394 rows x 7 columns]"
      ]
     },
     "execution_count": 83,
     "metadata": {},
     "output_type": "execute_result"
    }
   ],
   "source": [
    "df"
   ]
  },
  {
   "cell_type": "code",
   "execution_count": 84,
   "id": "d938588f",
   "metadata": {},
   "outputs": [],
   "source": [
    "df = df.groupby('user_id', as_index=False).agg(revenue=('price', 'sum'), pilot=('pilot', 'min'))"
   ]
  },
  {
   "cell_type": "code",
   "execution_count": 85,
   "id": "676daee7",
   "metadata": {},
   "outputs": [],
   "source": [
    "stat, p_val = sc.ttest_ind(df[df['pilot'] == 0].revenue, df[df['pilot'] == 1].revenue)"
   ]
  },
  {
   "cell_type": "code",
   "execution_count": 86,
   "id": "d6d4ecd6",
   "metadata": {},
   "outputs": [
    {
     "data": {
      "text/plain": [
       "0.199"
      ]
     },
     "execution_count": 86,
     "metadata": {},
     "output_type": "execute_result"
    }
   ],
   "source": [
    "round(p_val, 3)"
   ]
  },
  {
   "cell_type": "markdown",
   "id": "9705e914",
   "metadata": {},
   "source": [
    "## Задача 2. Среднее время между покупками\n",
    "  \n",
    "\n",
    "При выполнении прошлого задания вы могли заметить, что в данных много нулей. Это значит, что большая часть пользователей, совершивших покупку во время эксперимента, не совершала покупок на неделе до эксперимента. Интересно, как часто наши клиенты делают покупки?\n",
    "\n",
    "Оцените среднее время между покупками. Возьмите всех клиентов, у которых 2 и более покупок. Вычислите время между покупками (для клиента с N покупками должно получиться N-1 значения времени). Объедините значения всех клиентов и вычислите среднее.\n",
    "\n",
    "В качестве ответа введите среднее количество дней между покупками, округлённое до целого значения."
   ]
  },
  {
   "cell_type": "code",
   "execution_count": 117,
   "id": "6536d30b",
   "metadata": {},
   "outputs": [],
   "source": [
    "more_two = sales.groupby('user_id', as_index=False).agg(buy_count=('sale_id', 'count')).query('buy_count > 1')"
   ]
  },
  {
   "cell_type": "code",
   "execution_count": 118,
   "id": "40dd8c8b",
   "metadata": {},
   "outputs": [],
   "source": [
    "df = sales.query('user_id in @more_two.user_id').sort_values(['user_id', 'date'])"
   ]
  },
  {
   "cell_type": "code",
   "execution_count": 119,
   "id": "f9af8a36",
   "metadata": {},
   "outputs": [],
   "source": [
    "min_time = df.groupby('user_id').agg({'date':'min'}).date\n",
    "max_time = df.groupby('user_id').agg({'date':'max'}).date\n",
    "transactions_count = df.groupby('user_id').agg({'date':'count'}).date"
   ]
  },
  {
   "cell_type": "code",
   "execution_count": 134,
   "id": "5ccc7f85",
   "metadata": {},
   "outputs": [
    {
     "data": {
      "text/plain": [
       "17"
      ]
     },
     "execution_count": 134,
     "metadata": {},
     "output_type": "execute_result"
    }
   ],
   "source": [
    "round(sum((max_time - min_time).dt.days)/(sum(transactions_count) - len(df.groupby('user_id').date)))"
   ]
  }
 ],
 "metadata": {
  "kernelspec": {
   "display_name": "Python 3 (ipykernel)",
   "language": "python",
   "name": "python3"
  },
  "language_info": {
   "codemirror_mode": {
    "name": "ipython",
    "version": 3
   },
   "file_extension": ".py",
   "mimetype": "text/x-python",
   "name": "python",
   "nbconvert_exporter": "python",
   "pygments_lexer": "ipython3",
   "version": "3.11.2"
  }
 },
 "nbformat": 4,
 "nbformat_minor": 5
}
