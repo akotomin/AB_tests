{
 "cells": [
  {
   "cell_type": "code",
   "execution_count": 27,
   "id": "7d4eab2b",
   "metadata": {},
   "outputs": [],
   "source": [
    "import pandas as pd\n",
    "import numpy as np\n",
    "from scipy.stats import norm, ttest_ind"
   ]
  },
  {
   "cell_type": "markdown",
   "id": "3aa33db2",
   "metadata": {},
   "source": [
    "## Задача 1. Оценить необходимый размер групп\n",
    "  \n",
    "Допустим, мы хотим провести эксперимент, в который попадают клиенты, совершившие покупку во время эксперимента.\n",
    "\n",
    "Метрика — средняя выручка с пользователя за время эксперимента;\n",
    "Продолжительность — одна неделя;\n",
    "Уровень значимости — 0.05;\n",
    "Допустимая вероятность ошибки II рода — 0.1;\n",
    "Ожидаемый эффект — 20 рублей.\n",
    "Оцените необходимый размер групп по данным о покупках за неделю с 21 по 28 февраля. Обратим внимание, что в выборку попадают события из полуинтервала `[datetime(2022, 2, 21), datetime(2022, 2, 28))`.\n",
    "\n",
    "В качестве ответа введите необходимый размер групп, округлённый до целого числа десятков `round(x, -1)`."
   ]
  },
  {
   "cell_type": "code",
   "execution_count": 28,
   "id": "94a33a7c",
   "metadata": {},
   "outputs": [],
   "source": [
    "sales = pd.read_csv('2022-04-01T12_df_sales.csv')"
   ]
  },
  {
   "cell_type": "code",
   "execution_count": 29,
   "id": "6ce419d1",
   "metadata": {},
   "outputs": [],
   "source": [
    "def get_sample_size_abs(epsilon, std, alpha=0.05, beta=0.2):\n",
    "    t_alpha = norm.ppf(1 - alpha / 2, loc=0, scale=1)\n",
    "    t_beta = norm.ppf(1 - beta, loc=0, scale=1)\n",
    "    z_scores_sum_squared = (t_alpha + t_beta) ** 2\n",
    "    sample_size = int(\n",
    "        np.ceil(\n",
    "            z_scores_sum_squared * (2 * std ** 2) / (epsilon ** 2)\n",
    "        )\n",
    "    )\n",
    "    return sample_size"
   ]
  },
  {
   "cell_type": "code",
   "execution_count": 60,
   "id": "64f5d6c9",
   "metadata": {},
   "outputs": [],
   "source": [
    "def get_sample_size_arb(mu, std, eff=1.01, alpha=0.05, beta=0.2):\n",
    "    epsilon = (eff - 1) * mu\n",
    "\n",
    "    return get_sample_size_abs(epsilon, std=std, alpha=alpha, beta=beta)"
   ]
  },
  {
   "cell_type": "code",
   "execution_count": 30,
   "id": "fb9be119",
   "metadata": {},
   "outputs": [],
   "source": [
    "sales['date'] = pd.to_datetime(sales['date'])"
   ]
  },
  {
   "cell_type": "code",
   "execution_count": 31,
   "id": "3eecfe75",
   "metadata": {},
   "outputs": [],
   "source": [
    "start_date = pd.to_datetime('2022.02.21')\n",
    "end_date = pd.to_datetime('2022.02.28')"
   ]
  },
  {
   "cell_type": "code",
   "execution_count": 32,
   "id": "c7ce81cf",
   "metadata": {},
   "outputs": [],
   "source": [
    "ab_sales = sales[(sales['date'] >= start_date) & (sales['date'] < end_date)]"
   ]
  },
  {
   "cell_type": "code",
   "execution_count": 83,
   "id": "eab1313e",
   "metadata": {},
   "outputs": [],
   "source": [
    "mu = ab_sales.groupby('user_id')['price'].sum().mean()\n",
    "effect_size = (mu+20)/mu\n",
    "std = ab_sales.groupby('user_id')['price'].sum().std()\n",
    "alpha = 0.05\n",
    "beta = 0.1"
   ]
  },
  {
   "cell_type": "code",
   "execution_count": 84,
   "id": "80dece81",
   "metadata": {},
   "outputs": [],
   "source": [
    "sample_size = get_sample_size_arb(mu, std, eff=effect_size, alpha=alpha, beta=beta)"
   ]
  },
  {
   "cell_type": "code",
   "execution_count": 87,
   "id": "686ad096",
   "metadata": {},
   "outputs": [
    {
     "name": "stdout",
     "output_type": "stream",
     "text": [
      "Размер выборки равен = 34570\n"
     ]
    }
   ],
   "source": [
    "n_users = round(sample_size, -1)\n",
    "print(f'Размер выборки равен = {n_users}')"
   ]
  }
 ],
 "metadata": {
  "kernelspec": {
   "display_name": "Python 3 (ipykernel)",
   "language": "python",
   "name": "python3"
  },
  "language_info": {
   "codemirror_mode": {
    "name": "ipython",
    "version": 3
   },
   "file_extension": ".py",
   "mimetype": "text/x-python",
   "name": "python",
   "nbconvert_exporter": "python",
   "pygments_lexer": "ipython3",
   "version": "3.11.2"
  }
 },
 "nbformat": 4,
 "nbformat_minor": 5
}
