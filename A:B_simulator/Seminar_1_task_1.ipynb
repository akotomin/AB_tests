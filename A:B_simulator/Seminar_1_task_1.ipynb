{
 "cells": [
  {
   "cell_type": "code",
   "execution_count": 1,
   "id": "9f3a398d",
   "metadata": {},
   "outputs": [],
   "source": [
    "import pandas as pd"
   ]
  },
  {
   "cell_type": "markdown",
   "id": "7dad8208",
   "metadata": {},
   "source": [
    "### Задача 1. Популярные товары\n",
    "\n",
    "Определите топ-3 товара по суммарной выручке."
   ]
  },
  {
   "cell_type": "code",
   "execution_count": 2,
   "id": "49df484c",
   "metadata": {},
   "outputs": [],
   "source": [
    "df_sales_detail = pd.read_csv('2022-04-01T12_df_sales_detail.csv')"
   ]
  },
  {
   "cell_type": "code",
   "execution_count": 3,
   "id": "b3758b6c",
   "metadata": {},
   "outputs": [],
   "source": [
    "top_3 = df_sales_detail.groupby('good').agg({'price':'sum'}).sort_values('price', ascending=False).reset_index().head(3)"
   ]
  },
  {
   "cell_type": "code",
   "execution_count": 4,
   "id": "56ab6aeb",
   "metadata": {},
   "outputs": [
    {
     "data": {
      "text/html": [
       "<div>\n",
       "<style scoped>\n",
       "    .dataframe tbody tr th:only-of-type {\n",
       "        vertical-align: middle;\n",
       "    }\n",
       "\n",
       "    .dataframe tbody tr th {\n",
       "        vertical-align: top;\n",
       "    }\n",
       "\n",
       "    .dataframe thead th {\n",
       "        text-align: right;\n",
       "    }\n",
       "</style>\n",
       "<table border=\"1\" class=\"dataframe\">\n",
       "  <thead>\n",
       "    <tr style=\"text-align: right;\">\n",
       "      <th></th>\n",
       "      <th>good</th>\n",
       "      <th>price</th>\n",
       "    </tr>\n",
       "  </thead>\n",
       "  <tbody>\n",
       "    <tr>\n",
       "      <th>0</th>\n",
       "      <td>chefs pizza</td>\n",
       "      <td>24558240</td>\n",
       "    </tr>\n",
       "    <tr>\n",
       "      <th>1</th>\n",
       "      <td>double pepperoni pizza</td>\n",
       "      <td>22558380</td>\n",
       "    </tr>\n",
       "    <tr>\n",
       "      <th>2</th>\n",
       "      <td>chicken bbq pizza</td>\n",
       "      <td>17622540</td>\n",
       "    </tr>\n",
       "  </tbody>\n",
       "</table>\n",
       "</div>"
      ],
      "text/plain": [
       "                     good     price\n",
       "0             chefs pizza  24558240\n",
       "1  double pepperoni pizza  22558380\n",
       "2       chicken bbq pizza  17622540"
      ]
     },
     "execution_count": 4,
     "metadata": {},
     "output_type": "execute_result"
    }
   ],
   "source": [
    "top_3"
   ]
  },
  {
   "cell_type": "markdown",
   "id": "f6f386d8",
   "metadata": {},
   "source": [
    "### Задача 2. Время от захода на сайт до покупки\n",
    "\n",
    "Оцените средний срок, который проходит от захода пользователя на сайт до совершения покупки. Будем считать, что заход на сайт относится к покупке, если он был совершён не ранее, чем за два часа до совершения покупки. Другими словами, для каждой покупки нужно посчитать время, которое проходит от покупки до первого захода на сайт того же пользователя в течение двух часов перед покупкой. И от полученных значений времени посчитать среднее."
   ]
  },
  {
   "cell_type": "code",
   "execution_count": 5,
   "id": "3c89b007",
   "metadata": {},
   "outputs": [],
   "source": [
    "df_sales = pd.read_csv('2022-04-01T12_df_sales.csv')"
   ]
  },
  {
   "cell_type": "code",
   "execution_count": 6,
   "id": "b326206d",
   "metadata": {},
   "outputs": [],
   "source": [
    "df_web_logs = pd.read_csv('2022-04-01T12_df_web_logs.csv')"
   ]
  },
  {
   "cell_type": "code",
   "execution_count": 7,
   "id": "7b54d3b9",
   "metadata": {},
   "outputs": [],
   "source": [
    "df_merged = df_web_logs.merge(df_sales, on='user_id', how='inner', suffixes=('_left', '_right'))"
   ]
  },
  {
   "cell_type": "code",
   "execution_count": 8,
   "id": "091e86cc",
   "metadata": {},
   "outputs": [],
   "source": [
    "df_merged[['date_right', 'date_left']] = df_merged[['date_right', 'date_left']].apply(pd.to_datetime)"
   ]
  },
  {
   "cell_type": "code",
   "execution_count": 9,
   "id": "94d4efd1",
   "metadata": {},
   "outputs": [],
   "source": [
    "df_delta = df_merged.groupby('user_id').agg(lend_date=('date_left', 'min'),\n",
    "                                buy_date=('date_right', 'min'))"
   ]
  },
  {
   "cell_type": "code",
   "execution_count": 10,
   "id": "40adefdc",
   "metadata": {},
   "outputs": [
    {
     "data": {
      "text/plain": [
       "17"
      ]
     },
     "execution_count": 10,
     "metadata": {},
     "output_type": "execute_result"
    }
   ],
   "source": [
    "df_delta['deliver_delta'] = df_delta['buy_date'] - df_delta['lend_date']\n",
    "round(df_delta.query('(buy_date - lend_date) <= \"2 hours\"').deliver_delta.mean().seconds / 60)"
   ]
  },
  {
   "cell_type": "markdown",
   "id": "0184f7b2",
   "metadata": {},
   "source": [
    "### Задача 3. Удержание клиентов\n",
    "\n",
    "Интересно, как много пользователей возвращается к нам из месяца в месяц. Какая доля пользователей, совершивших покупку в феврале, совершила покупку и в марте?\n",
    "\n",
    "Ответ округлите с точностью до 2-го знака после точки."
   ]
  },
  {
   "cell_type": "code",
   "execution_count": 14,
   "id": "7e959295",
   "metadata": {},
   "outputs": [],
   "source": [
    "df_sales['date'] = df_sales.date.apply(pd.to_datetime)"
   ]
  },
  {
   "cell_type": "code",
   "execution_count": 16,
   "id": "3d25df47",
   "metadata": {},
   "outputs": [
    {
     "data": {
      "text/html": [
       "<div>\n",
       "<style scoped>\n",
       "    .dataframe tbody tr th:only-of-type {\n",
       "        vertical-align: middle;\n",
       "    }\n",
       "\n",
       "    .dataframe tbody tr th {\n",
       "        vertical-align: top;\n",
       "    }\n",
       "\n",
       "    .dataframe thead th {\n",
       "        text-align: right;\n",
       "    }\n",
       "</style>\n",
       "<table border=\"1\" class=\"dataframe\">\n",
       "  <thead>\n",
       "    <tr style=\"text-align: right;\">\n",
       "      <th></th>\n",
       "      <th>sale_id</th>\n",
       "      <th>date</th>\n",
       "      <th>count_pizza</th>\n",
       "      <th>count_drink</th>\n",
       "      <th>price</th>\n",
       "      <th>user_id</th>\n",
       "    </tr>\n",
       "  </thead>\n",
       "  <tbody>\n",
       "    <tr>\n",
       "      <th>0</th>\n",
       "      <td>1000001</td>\n",
       "      <td>2022-02-04 10:00:24</td>\n",
       "      <td>1</td>\n",
       "      <td>0</td>\n",
       "      <td>720</td>\n",
       "      <td>1c1543</td>\n",
       "    </tr>\n",
       "    <tr>\n",
       "      <th>1</th>\n",
       "      <td>1000002</td>\n",
       "      <td>2022-02-04 10:02:28</td>\n",
       "      <td>1</td>\n",
       "      <td>1</td>\n",
       "      <td>930</td>\n",
       "      <td>a9a6e8</td>\n",
       "    </tr>\n",
       "    <tr>\n",
       "      <th>2</th>\n",
       "      <td>1000003</td>\n",
       "      <td>2022-02-04 10:02:35</td>\n",
       "      <td>3</td>\n",
       "      <td>1</td>\n",
       "      <td>1980</td>\n",
       "      <td>23420a</td>\n",
       "    </tr>\n",
       "    <tr>\n",
       "      <th>3</th>\n",
       "      <td>1000004</td>\n",
       "      <td>2022-02-04 10:03:06</td>\n",
       "      <td>1</td>\n",
       "      <td>1</td>\n",
       "      <td>750</td>\n",
       "      <td>3e8ed5</td>\n",
       "    </tr>\n",
       "    <tr>\n",
       "      <th>4</th>\n",
       "      <td>1000005</td>\n",
       "      <td>2022-02-04 10:03:23</td>\n",
       "      <td>1</td>\n",
       "      <td>1</td>\n",
       "      <td>870</td>\n",
       "      <td>cbc468</td>\n",
       "    </tr>\n",
       "    <tr>\n",
       "      <th>...</th>\n",
       "      <td>...</td>\n",
       "      <td>...</td>\n",
       "      <td>...</td>\n",
       "      <td>...</td>\n",
       "      <td>...</td>\n",
       "      <td>...</td>\n",
       "    </tr>\n",
       "    <tr>\n",
       "      <th>203842</th>\n",
       "      <td>1203843</td>\n",
       "      <td>2022-04-01 11:59:15</td>\n",
       "      <td>2</td>\n",
       "      <td>1</td>\n",
       "      <td>1410</td>\n",
       "      <td>7d3869</td>\n",
       "    </tr>\n",
       "    <tr>\n",
       "      <th>203843</th>\n",
       "      <td>1203844</td>\n",
       "      <td>2022-04-01 11:59:20</td>\n",
       "      <td>1</td>\n",
       "      <td>0</td>\n",
       "      <td>780</td>\n",
       "      <td>b7feae</td>\n",
       "    </tr>\n",
       "    <tr>\n",
       "      <th>203844</th>\n",
       "      <td>1203845</td>\n",
       "      <td>2022-04-01 11:59:43</td>\n",
       "      <td>1</td>\n",
       "      <td>0</td>\n",
       "      <td>600</td>\n",
       "      <td>7cdcc7</td>\n",
       "    </tr>\n",
       "    <tr>\n",
       "      <th>203845</th>\n",
       "      <td>1203846</td>\n",
       "      <td>2022-04-01 11:59:45</td>\n",
       "      <td>1</td>\n",
       "      <td>1</td>\n",
       "      <td>630</td>\n",
       "      <td>47b825</td>\n",
       "    </tr>\n",
       "    <tr>\n",
       "      <th>203846</th>\n",
       "      <td>1203847</td>\n",
       "      <td>2022-04-01 11:59:51</td>\n",
       "      <td>1</td>\n",
       "      <td>0</td>\n",
       "      <td>780</td>\n",
       "      <td>cdaabb</td>\n",
       "    </tr>\n",
       "  </tbody>\n",
       "</table>\n",
       "<p>203847 rows × 6 columns</p>\n",
       "</div>"
      ],
      "text/plain": [
       "        sale_id                date  count_pizza  count_drink  price user_id\n",
       "0       1000001 2022-02-04 10:00:24            1            0    720  1c1543\n",
       "1       1000002 2022-02-04 10:02:28            1            1    930  a9a6e8\n",
       "2       1000003 2022-02-04 10:02:35            3            1   1980  23420a\n",
       "3       1000004 2022-02-04 10:03:06            1            1    750  3e8ed5\n",
       "4       1000005 2022-02-04 10:03:23            1            1    870  cbc468\n",
       "...         ...                 ...          ...          ...    ...     ...\n",
       "203842  1203843 2022-04-01 11:59:15            2            1   1410  7d3869\n",
       "203843  1203844 2022-04-01 11:59:20            1            0    780  b7feae\n",
       "203844  1203845 2022-04-01 11:59:43            1            0    600  7cdcc7\n",
       "203845  1203846 2022-04-01 11:59:45            1            1    630  47b825\n",
       "203846  1203847 2022-04-01 11:59:51            1            0    780  cdaabb\n",
       "\n",
       "[203847 rows x 6 columns]"
      ]
     },
     "execution_count": 16,
     "metadata": {},
     "output_type": "execute_result"
    }
   ],
   "source": [
    "df_sales.query()"
   ]
  },
  {
   "cell_type": "code",
   "execution_count": null,
   "id": "ac0b6eb7",
   "metadata": {},
   "outputs": [],
   "source": []
  }
 ],
 "metadata": {
  "kernelspec": {
   "display_name": "Python 3 (ipykernel)",
   "language": "python",
   "name": "python3"
  },
  "language_info": {
   "codemirror_mode": {
    "name": "ipython",
    "version": 3
   },
   "file_extension": ".py",
   "mimetype": "text/x-python",
   "name": "python",
   "nbconvert_exporter": "python",
   "pygments_lexer": "ipython3",
   "version": "3.11.2"
  }
 },
 "nbformat": 4,
 "nbformat_minor": 5
}
