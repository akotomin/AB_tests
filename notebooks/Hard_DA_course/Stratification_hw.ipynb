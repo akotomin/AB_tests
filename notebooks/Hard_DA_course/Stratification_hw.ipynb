{
 "cells": [
  {
   "cell_type": "markdown",
   "id": "07ef40ae",
   "metadata": {},
   "source": [
    "Вы аналитик в команде монетизации классифайда. Ваша команда провела тест с экранами платных услуг в монетизации. Основная гипотеза заключалась в том, что мы сможем увеличить ARPU на +3.5 рубля.\n",
    "\n",
    "У нас есть данные по продавцам авто, участвующим в тесте:\n",
    "\n",
    "Будем анализировать этот тест.\n",
    "\n",
    "Схема данных:\n",
    "- `ARPU`: целевая метрика в тесте\n",
    "- `is_capital`: продавец авто из столицы (capital) или из регионов (region)\n",
    "- `is_pro`: профессиональный или нет продавец (1 — профи, 0 — простой)\n",
    "- `group`: группа в А/Б-тесте (1 — тестовая, 0 — контрольная)"
   ]
  },
  {
   "cell_type": "code",
   "execution_count": 1,
   "id": "8f358932",
   "metadata": {},
   "outputs": [],
   "source": [
    "import numpy as np\n",
    "import pandas as pd\n",
    "from scipy import stats\n",
    "from statsmodels.stats.power import tt_ind_solve_power"
   ]
  },
  {
   "cell_type": "markdown",
   "id": "3d176860",
   "metadata": {},
   "source": [
    "### Задание 1\n",
    "Проведите базовый t-test и сделайте вывод по его результатам.\n",
    "\n",
    "Введите значение p-value в поле ниже с точностью до трех знаков в десятичной части. Используйте точку для разделения целой и дробной части."
   ]
  },
  {
   "cell_type": "code",
   "execution_count": 2,
   "id": "2a961ed1",
   "metadata": {},
   "outputs": [],
   "source": [
    "df = pd.read_csv(\"stratification_homework_2.csv\")"
   ]
  },
  {
   "cell_type": "code",
   "execution_count": 3,
   "id": "1b8013de",
   "metadata": {},
   "outputs": [
    {
     "data": {
      "text/html": [
       "<div>\n",
       "<style scoped>\n",
       "    .dataframe tbody tr th:only-of-type {\n",
       "        vertical-align: middle;\n",
       "    }\n",
       "\n",
       "    .dataframe tbody tr th {\n",
       "        vertical-align: top;\n",
       "    }\n",
       "\n",
       "    .dataframe thead th {\n",
       "        text-align: right;\n",
       "    }\n",
       "</style>\n",
       "<table border=\"1\" class=\"dataframe\">\n",
       "  <thead>\n",
       "    <tr style=\"text-align: right;\">\n",
       "      <th></th>\n",
       "      <th>ARPU</th>\n",
       "      <th>is_capital</th>\n",
       "      <th>is_pro</th>\n",
       "      <th>group</th>\n",
       "    </tr>\n",
       "  </thead>\n",
       "  <tbody>\n",
       "    <tr>\n",
       "      <th>0</th>\n",
       "      <td>250.5</td>\n",
       "      <td>region</td>\n",
       "      <td>1</td>\n",
       "      <td>1</td>\n",
       "    </tr>\n",
       "    <tr>\n",
       "      <th>1</th>\n",
       "      <td>182.0</td>\n",
       "      <td>capital</td>\n",
       "      <td>0</td>\n",
       "      <td>1</td>\n",
       "    </tr>\n",
       "    <tr>\n",
       "      <th>2</th>\n",
       "      <td>75.0</td>\n",
       "      <td>region</td>\n",
       "      <td>0</td>\n",
       "      <td>0</td>\n",
       "    </tr>\n",
       "    <tr>\n",
       "      <th>3</th>\n",
       "      <td>532.5</td>\n",
       "      <td>capital</td>\n",
       "      <td>1</td>\n",
       "      <td>0</td>\n",
       "    </tr>\n",
       "    <tr>\n",
       "      <th>4</th>\n",
       "      <td>88.0</td>\n",
       "      <td>region</td>\n",
       "      <td>0</td>\n",
       "      <td>1</td>\n",
       "    </tr>\n",
       "  </tbody>\n",
       "</table>\n",
       "</div>"
      ],
      "text/plain": [
       "    ARPU is_capital  is_pro  group\n",
       "0  250.5     region       1      1\n",
       "1  182.0    capital       0      1\n",
       "2   75.0     region       0      0\n",
       "3  532.5    capital       1      0\n",
       "4   88.0     region       0      1"
      ]
     },
     "execution_count": 3,
     "metadata": {},
     "output_type": "execute_result"
    }
   ],
   "source": [
    "df.head()"
   ]
  },
  {
   "cell_type": "code",
   "execution_count": 4,
   "id": "06d69688",
   "metadata": {},
   "outputs": [],
   "source": [
    "group_a = df[df[\"group\"] == 0]\n",
    "group_b = df[df[\"group\"] == 1]"
   ]
  },
  {
   "cell_type": "code",
   "execution_count": 5,
   "id": "7d7c5a0c",
   "metadata": {},
   "outputs": [],
   "source": [
    "_, pval = stats.ttest_ind(group_a[\"ARPU\"], group_b[\"ARPU\"])"
   ]
  },
  {
   "cell_type": "code",
   "execution_count": 6,
   "id": "cb59a075",
   "metadata": {},
   "outputs": [
    {
     "data": {
      "text/plain": [
       "np.float64(0.065)"
      ]
     },
     "execution_count": 6,
     "metadata": {},
     "output_type": "execute_result"
    }
   ],
   "source": [
    "round(pval, 3)"
   ]
  },
  {
   "cell_type": "markdown",
   "id": "540f03a4",
   "metadata": {},
   "source": [
    "### Задание 2 (1/3)\n",
    "Найдите наилучшую для разбиения страту.\n",
    "\n",
    "Рассчитайте значение стратифицированной дисперсии для страты `is_capital` и введите его в поле ниже в формате целого числа."
   ]
  },
  {
   "cell_type": "code",
   "execution_count": 7,
   "id": "ea72d7e9",
   "metadata": {},
   "outputs": [],
   "source": [
    "def calculate_strat_var(data, strata_name, gen_pop_weights, target_value):\n",
    "    \"\"\"Вычисляет стратифицированную дисперсию.\"\"\"\n",
    "\n",
    "    strat_vars = data.groupby(strata_name)[target_value].var()\n",
    "\n",
    "    data_vars_weights = pd.merge(\n",
    "        pd.Series(strat_vars, name=\"value_vars\"),\n",
    "        pd.Series(gen_pop_weights, name=\"weight\"),\n",
    "        how=\"inner\",\n",
    "        left_index=True,\n",
    "        right_index=True,\n",
    "    )\n",
    "\n",
    "    var_strat = (\n",
    "        data_vars_weights[\"weight\"] * data_vars_weights[\"value_vars\"]\n",
    "    ).sum()\n",
    "    return var_strat"
   ]
  },
  {
   "cell_type": "code",
   "execution_count": 8,
   "id": "fcba91d6",
   "metadata": {},
   "outputs": [
    {
     "data": {
      "text/plain": [
       "np.float64(7480.429364766055)"
      ]
     },
     "execution_count": 8,
     "metadata": {},
     "output_type": "execute_result"
    }
   ],
   "source": [
    "df[\"ARPU\"].var()"
   ]
  },
  {
   "cell_type": "code",
   "execution_count": 9,
   "id": "048b3075",
   "metadata": {},
   "outputs": [
    {
     "data": {
      "text/plain": [
       "5790"
      ]
     },
     "execution_count": 9,
     "metadata": {},
     "output_type": "execute_result"
    }
   ],
   "source": [
    "capital_wght = len(df[df[\"is_capital\"] == \"capital\"]) / len(df)\n",
    "\n",
    "round(\n",
    "    calculate_strat_var(\n",
    "        df,\n",
    "        \"is_capital\",\n",
    "        {\"capital\": capital_wght, \"region\": (1 - capital_wght)},\n",
    "        \"ARPU\",\n",
    "    )\n",
    ")"
   ]
  },
  {
   "cell_type": "markdown",
   "id": "22ad22ec",
   "metadata": {},
   "source": [
    "### Задание 2 (2/3)\n",
    "\n",
    "Рассчитайте значение стратифицированной дисперсии для страты `is_pro` и введите его в поле ниже в формате целого числа."
   ]
  },
  {
   "cell_type": "code",
   "execution_count": 10,
   "id": "6edde2c6",
   "metadata": {},
   "outputs": [
    {
     "data": {
      "text/plain": [
       "6194"
      ]
     },
     "execution_count": 10,
     "metadata": {},
     "output_type": "execute_result"
    }
   ],
   "source": [
    "not_pro_wght = len(df[df[\"is_pro\"] == 0]) / len(df)\n",
    "\n",
    "round(\n",
    "    calculate_strat_var(\n",
    "        df,\n",
    "        \"is_pro\",\n",
    "        {0: not_pro_wght, 1: (1 - not_pro_wght)},\n",
    "        \"ARPU\",\n",
    "    )\n",
    ")"
   ]
  },
  {
   "cell_type": "markdown",
   "id": "2f39c6c2",
   "metadata": {},
   "source": [
    "### Задание 2 (3/3)\n",
    "Укажите страту, при которой дисперсия сокращается максимально.\n",
    "\n",
    "**Ответ:** `is_capital`\n",
    "\n",
    "### Задание 3\n",
    "Используя наилучшую страту, примените постстратификацию к данным и пересчитайте результаты t-test.\n",
    "\n",
    "Введите значение p-value в поле ниже с точностью до трех знаков в десятичной части. Используйте точку для разделения целой и дробной части.\n"
   ]
  },
  {
   "cell_type": "code",
   "execution_count": 11,
   "id": "db6e4ebe",
   "metadata": {},
   "outputs": [],
   "source": [
    "def calculate_strat_mean(data, strata_name, gen_pop_weights, target_value):\n",
    "    \"\"\"Вычисляет стратифицированное среднее. использует веса из генеральной популяции (передаются как словарь)\"\"\"\n",
    "    strats_means = data.groupby(strata_name)[target_value].mean()\n",
    "\n",
    "    data_means_weights = pd.merge(\n",
    "        pd.Series(strats_means, name=\"value_means\"),\n",
    "        pd.Series(gen_pop_weights, name=\"weight\"),\n",
    "        how=\"inner\",\n",
    "        left_index=True,\n",
    "        right_index=True,\n",
    "    )\n",
    "\n",
    "    mean_strat = (\n",
    "        data_means_weights[\"weight\"] * data_means_weights[\"value_means\"]\n",
    "    ).sum()\n",
    "    return mean_strat\n",
    "\n",
    "\n",
    "def get_strat_ttest(df_A, df_B, strata_name, target_value, gen_pop_weights):\n",
    "    \"\"\"Проверяет гипотезу о равенстве средних для стратифицированного среднего и стратифицировнной дисперсии.\n",
    "\n",
    "    return - pvalue.\n",
    "    \"\"\"\n",
    "    mean_strat_A = calculate_strat_mean(\n",
    "        df_A, strata_name, gen_pop_weights, target_value\n",
    "    )\n",
    "    mean_strat_B = calculate_strat_mean(\n",
    "        df_B, strata_name, gen_pop_weights, target_value\n",
    "    )\n",
    "\n",
    "    var_strat_A = calculate_strat_var(\n",
    "        df_A, strata_name, gen_pop_weights, target_value\n",
    "    )\n",
    "    var_strat_B = calculate_strat_var(\n",
    "        df_B, strata_name, gen_pop_weights, target_value\n",
    "    )\n",
    "\n",
    "    delta_mean_strat = mean_strat_A - mean_strat_B\n",
    "    std_mean_strat = np.sqrt(var_strat_A / len(df_A) + var_strat_B / len(df_B))\n",
    "    t_stat_strat = delta_mean_strat / std_mean_strat\n",
    "    p_value = 2 * (1 - stats.norm.cdf(np.abs(t_stat_strat)))\n",
    "\n",
    "    inference = {\"t_stat\": t_stat_strat, \"p_value\": p_value}\n",
    "    return inference"
   ]
  },
  {
   "cell_type": "code",
   "execution_count": 12,
   "id": "cc54ad3d",
   "metadata": {},
   "outputs": [],
   "source": [
    "strat_pval_rs = get_strat_ttest(\n",
    "    group_a,\n",
    "    group_b,\n",
    "    \"is_capital\",\n",
    "    \"ARPU\",\n",
    "    {\"capital\": capital_wght, \"region\": (1 - capital_wght)},\n",
    ")[\"p_value\"]"
   ]
  },
  {
   "cell_type": "code",
   "execution_count": 13,
   "id": "62d74ace",
   "metadata": {},
   "outputs": [
    {
     "data": {
      "text/plain": [
       "np.float64(0.018)"
      ]
     },
     "execution_count": 13,
     "metadata": {},
     "output_type": "execute_result"
    }
   ],
   "source": [
    "round(strat_pval_rs, 3)"
   ]
  },
  {
   "cell_type": "markdown",
   "id": "edba36f9",
   "metadata": {},
   "source": [
    "### Задание 4 (1/2)\n",
    "Возьмите за основу данные по контрольной группе (group = 0) и рассчитайте необходимый размер выборки, чтобы найти абсолютный MDE, равный наблюдаемой разнице средних, между тестовой и контрольной группами.\n",
    "\n",
    "Параметры эксперимента:\n",
    "\n",
    "- `alpha` = 0.05\n",
    "- `beta` = 0.2\n",
    "- критерий двусторонний\n",
    "- выборка 50/50\n",
    "\n",
    "Каким будет размер группы для простого t-test?\n",
    "\n",
    "Введите ответ в поле ниже в формате целого числа."
   ]
  },
  {
   "cell_type": "code",
   "execution_count": 14,
   "id": "e7319e29",
   "metadata": {},
   "outputs": [],
   "source": [
    "abs_MDE = group_b[\"ARPU\"].mean() - group_a[\"ARPU\"].mean()\n",
    "basic_cohen_D_effect_size = abs_MDE / group_a[\"ARPU\"].std()\n",
    "\n",
    "basic_sample_size = int(\n",
    "    tt_ind_solve_power(\n",
    "        effect_size=basic_cohen_D_effect_size,\n",
    "        alpha=0.05,\n",
    "        power=0.8,\n",
    "        nobs1=None,\n",
    "        ratio=1,\n",
    "    )\n",
    ")"
   ]
  },
  {
   "cell_type": "code",
   "execution_count": 15,
   "id": "08772716",
   "metadata": {},
   "outputs": [
    {
     "data": {
      "text/plain": [
       "11368"
      ]
     },
     "execution_count": 15,
     "metadata": {},
     "output_type": "execute_result"
    }
   ],
   "source": [
    "basic_sample_size"
   ]
  },
  {
   "cell_type": "markdown",
   "id": "fa1fdb4f",
   "metadata": {},
   "source": [
    "### Задание 4 (2/2)\n",
    "Каким будет размер группы для стратифицированного t-test?\n",
    "\n",
    "Введите ответ в поле ниже в формате целого числа."
   ]
  },
  {
   "cell_type": "code",
   "execution_count": 16,
   "id": "c7703700",
   "metadata": {},
   "outputs": [],
   "source": [
    "capital_wght = len(group_a[group_a[\"is_capital\"] == \"capital\"]) / len(group_a)\n",
    "\n",
    "strat_std = (\n",
    "    calculate_strat_var(\n",
    "        group_a,\n",
    "        \"is_capital\",\n",
    "        {\"capital\": capital_wght, \"region\": (1 - capital_wght)},\n",
    "        \"ARPU\",\n",
    "    )\n",
    "    ** 0.5\n",
    ")\n",
    "\n",
    "strat_cohen_D_effect_size = abs_MDE / strat_std\n",
    "\n",
    "strat_sample_size = int(\n",
    "    tt_ind_solve_power(\n",
    "        effect_size=strat_cohen_D_effect_size,\n",
    "        alpha=0.05,\n",
    "        power=0.8,\n",
    "        nobs1=None,\n",
    "        ratio=1,\n",
    "    )\n",
    ")"
   ]
  },
  {
   "cell_type": "code",
   "execution_count": 17,
   "id": "fe97f50f",
   "metadata": {},
   "outputs": [
    {
     "data": {
      "text/plain": [
       "8660"
      ]
     },
     "execution_count": 17,
     "metadata": {},
     "output_type": "execute_result"
    }
   ],
   "source": [
    "strat_sample_size"
   ]
  }
 ],
 "metadata": {
  "kernelspec": {
   "display_name": "Python 3",
   "language": "python",
   "name": "python3"
  },
  "language_info": {
   "codemirror_mode": {
    "name": "ipython",
    "version": 3
   },
   "file_extension": ".py",
   "mimetype": "text/x-python",
   "name": "python",
   "nbconvert_exporter": "python",
   "pygments_lexer": "ipython3",
   "version": "3.11.2"
  }
 },
 "nbformat": 4,
 "nbformat_minor": 5
}
