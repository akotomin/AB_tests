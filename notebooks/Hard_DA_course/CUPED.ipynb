{
 "cells": [
  {
   "cell_type": "markdown",
   "id": "cea94ef3",
   "metadata": {},
   "source": [
    "# Задание\n",
    "Вы работаете аналитиком команды монетизации. Тестируете новую систему цен на очень небольшую аудиторию – профессионалы в небольшом городе.\n",
    "\n",
    "Аудитория достаточно пассивная, поэтому в ней редко \"прокрашиваются\" фичи. Каждая потенциальная фича на вес золота.\n",
    "\n",
    "Менеджеры имеют большие надежды на эту фичу.\n",
    "\n",
    "Основная метрика ARPPU. Даже такое небольшое повышение позволит начать зарабатывать больше.\n",
    "\n",
    "**Вам нужно**\n",
    "\n",
    "- провести первичный анализ и найти наблюдаемый эффект между группами\n",
    "- проанализировать базовый A/B-тест и понять есть ли стат. значимое изменение в post данных после внедрения новых цен\n",
    "- провести CUPED t-test\n",
    "- рассчитать размер выборки для CUPED t-test\n",
    "\n",
    "**Описание данных**\n",
    "\n",
    "Данные содержат поюзерную пару ARPPU до теста (pre_ARPPU) и ARPU после тесте (post_ARPU)"
   ]
  },
  {
   "cell_type": "code",
   "execution_count": 1,
   "id": "2277d7e7",
   "metadata": {},
   "outputs": [],
   "source": [
    "import pandas as pd\n",
    "import numpy as np\n",
    "from scipy import stats"
   ]
  },
  {
   "cell_type": "code",
   "execution_count": 2,
   "id": "51fc9645",
   "metadata": {},
   "outputs": [],
   "source": [
    "df = pd.read_csv(\"cuped_homework.csv\")"
   ]
  },
  {
   "cell_type": "code",
   "execution_count": 3,
   "id": "24d884bd",
   "metadata": {},
   "outputs": [
    {
     "data": {
      "text/html": [
       "<div>\n",
       "<style scoped>\n",
       "    .dataframe tbody tr th:only-of-type {\n",
       "        vertical-align: middle;\n",
       "    }\n",
       "\n",
       "    .dataframe tbody tr th {\n",
       "        vertical-align: top;\n",
       "    }\n",
       "\n",
       "    .dataframe thead th {\n",
       "        text-align: right;\n",
       "    }\n",
       "</style>\n",
       "<table border=\"1\" class=\"dataframe\">\n",
       "  <thead>\n",
       "    <tr style=\"text-align: right;\">\n",
       "      <th></th>\n",
       "      <th>post_ARPPU</th>\n",
       "      <th>pre_ARPPU</th>\n",
       "      <th>group</th>\n",
       "    </tr>\n",
       "  </thead>\n",
       "  <tbody>\n",
       "    <tr>\n",
       "      <th>0</th>\n",
       "      <td>660.0</td>\n",
       "      <td>595.0</td>\n",
       "      <td>A</td>\n",
       "    </tr>\n",
       "    <tr>\n",
       "      <th>1</th>\n",
       "      <td>540.0</td>\n",
       "      <td>621.0</td>\n",
       "      <td>A</td>\n",
       "    </tr>\n",
       "    <tr>\n",
       "      <th>2</th>\n",
       "      <td>863.0</td>\n",
       "      <td>782.0</td>\n",
       "      <td>A</td>\n",
       "    </tr>\n",
       "    <tr>\n",
       "      <th>3</th>\n",
       "      <td>431.0</td>\n",
       "      <td>567.0</td>\n",
       "      <td>A</td>\n",
       "    </tr>\n",
       "    <tr>\n",
       "      <th>4</th>\n",
       "      <td>434.0</td>\n",
       "      <td>473.0</td>\n",
       "      <td>A</td>\n",
       "    </tr>\n",
       "  </tbody>\n",
       "</table>\n",
       "</div>"
      ],
      "text/plain": [
       "   post_ARPPU  pre_ARPPU group\n",
       "0       660.0      595.0     A\n",
       "1       540.0      621.0     A\n",
       "2       863.0      782.0     A\n",
       "3       431.0      567.0     A\n",
       "4       434.0      473.0     A"
      ]
     },
     "execution_count": 3,
     "metadata": {},
     "output_type": "execute_result"
    }
   ],
   "source": [
    "df.head()"
   ]
  },
  {
   "cell_type": "markdown",
   "id": "a00f4b00",
   "metadata": {},
   "source": [
    "### Задание 1. Первичный анализ (1/2)\n",
    "Найдите наблюдаемую абсолютную разницу между средними у Б и А групп.\n",
    "\n",
    "Введите значение в поле ниже с точностью до трех знаков в десятичной части. Используйте точку для разделения целой и дробной части."
   ]
  },
  {
   "cell_type": "code",
   "execution_count": 4,
   "id": "a85c96fd",
   "metadata": {},
   "outputs": [],
   "source": [
    "group_a = df[df[\"group\"] == \"A\"]\n",
    "group_b = df[df[\"group\"] == \"B\"]"
   ]
  },
  {
   "cell_type": "code",
   "execution_count": 5,
   "id": "43211c50",
   "metadata": {},
   "outputs": [
    {
     "data": {
      "text/plain": [
       "np.float64(5.356)"
      ]
     },
     "execution_count": 5,
     "metadata": {},
     "output_type": "execute_result"
    }
   ],
   "source": [
    "mean_diff = group_b[\"post_ARPPU\"].mean() - group_a[\"post_ARPPU\"].mean()\n",
    "\n",
    "round(mean_diff, 3)"
   ]
  },
  {
   "cell_type": "markdown",
   "id": "98aa902b",
   "metadata": {},
   "source": [
    "### Задание 1. Первичный анализ (2/2)\n",
    "Укажите наблюдаемый `effect size Cohen D`. Для расчетов используйте абсолютную разницу и стандартное отклонение в pre данных в группе А.\n",
    "\n",
    "Введите значение в поле ниже с точностью до трех знаков в десятичной части. Используйте точку для разделения целой и дробной части."
   ]
  },
  {
   "cell_type": "code",
   "execution_count": 6,
   "id": "cfc60eff",
   "metadata": {},
   "outputs": [
    {
     "data": {
      "text/plain": [
       "np.float64(0.054)"
      ]
     },
     "execution_count": 6,
     "metadata": {},
     "output_type": "execute_result"
    }
   ],
   "source": [
    "cohen_d = mean_diff / group_a[\"pre_ARPPU\"].std()\n",
    "\n",
    "round(cohen_d, 3)"
   ]
  },
  {
   "cell_type": "markdown",
   "id": "e783d116",
   "metadata": {},
   "source": [
    "### Задание 2. Простой t-test\n",
    "Найдите p-value, полученное при проведении простого t-test на post данных.\n",
    "\n",
    "Введите значение в поле ниже с точностью до трех знаков в десятичной части. Используйте точку для разделения целой и дробной части."
   ]
  },
  {
   "cell_type": "code",
   "execution_count": 7,
   "id": "c0855314",
   "metadata": {},
   "outputs": [],
   "source": [
    "_, pval = stats.ttest_ind(group_a[\"post_ARPPU\"], group_b[\"post_ARPPU\"])"
   ]
  },
  {
   "cell_type": "code",
   "execution_count": 8,
   "id": "ccc93495",
   "metadata": {},
   "outputs": [
    {
     "data": {
      "text/plain": [
       "np.float64(0.074)"
      ]
     },
     "execution_count": 8,
     "metadata": {},
     "output_type": "execute_result"
    }
   ],
   "source": [
    "round(pval, 3)"
   ]
  },
  {
   "cell_type": "markdown",
   "id": "aa9bf7bf",
   "metadata": {},
   "source": [
    "### Задание 3. CUPED t-test (1/2)\n",
    "Найдите долю пустых значений в pre данных.\n",
    "\n",
    "Введите значение в поле ниже с точностью до трех знаков в десятичной части. Используйте точку для разделения целой и дробной части."
   ]
  },
  {
   "cell_type": "code",
   "execution_count": 9,
   "id": "2eafd5c4",
   "metadata": {},
   "outputs": [
    {
     "data": {
      "text/plain": [
       "np.float64(0.133)"
      ]
     },
     "execution_count": 9,
     "metadata": {},
     "output_type": "execute_result"
    }
   ],
   "source": [
    "round(df[\"pre_ARPPU\"].isnull().sum() / len(df), 3)"
   ]
  },
  {
   "cell_type": "markdown",
   "id": "07f0b679",
   "metadata": {},
   "source": [
    "### Задание 3. CUPED t-test (2/2)\n",
    "Найдите p-value в проведенном CUPED t-test. Предварительно заполните пустые значения средней на pre периоде.\n",
    "\n",
    "Введите значение в поле ниже с точностью до трех знаков в десятичной части. Используйте точку для разделения целой и дробной части."
   ]
  },
  {
   "cell_type": "code",
   "execution_count": 10,
   "id": "359dc16c",
   "metadata": {},
   "outputs": [
    {
     "name": "stderr",
     "output_type": "stream",
     "text": [
      "/var/folders/m6/gnxqn1753_g808tzdcqqmdq80000gn/T/ipykernel_35951/505537658.py:1: FutureWarning: A value is trying to be set on a copy of a DataFrame or Series through chained assignment using an inplace method.\n",
      "The behavior will change in pandas 3.0. This inplace method will never work because the intermediate object on which we are setting values always behaves as a copy.\n",
      "\n",
      "For example, when doing 'df[col].method(value, inplace=True)', try using 'df.method({col: value}, inplace=True)' or df[col] = df[col].method(value) instead, to perform the operation inplace on the original object.\n",
      "\n",
      "\n",
      "  df[\"pre_ARPPU\"].fillna(df[\"pre_ARPPU\"].mean(), inplace=True)\n"
     ]
    }
   ],
   "source": [
    "df[\"pre_ARPPU\"].fillna(df[\"pre_ARPPU\"].mean(), inplace=True)"
   ]
  },
  {
   "cell_type": "code",
   "execution_count": 11,
   "id": "d3eb24e8",
   "metadata": {},
   "outputs": [
    {
     "data": {
      "text/plain": [
       "np.int64(0)"
      ]
     },
     "execution_count": 11,
     "metadata": {},
     "output_type": "execute_result"
    }
   ],
   "source": [
    "df[\"pre_ARPPU\"].isnull().sum()"
   ]
  },
  {
   "cell_type": "code",
   "execution_count": 12,
   "id": "e9570fd7",
   "metadata": {},
   "outputs": [],
   "source": [
    "def calculate_theta_for_test(control_pre, control_post, test_pre, test_post):\n",
    "    theta = (\n",
    "        np.cov(control_post, control_pre)[0, 1]\n",
    "        + np.cov(test_post, test_pre)[0, 1]\n",
    "    ) / (np.var(control_pre) + np.var(test_pre))\n",
    "    return theta\n",
    "\n",
    "\n",
    "def get_basic_ttest(group_A, group_B):\n",
    "    \"\"\"Проверяет гипотезу о равенстве средних для обычного среднего.\n",
    "    return - t_stat, p_value\"\"\"\n",
    "\n",
    "    t_stat, p_value = stats.ttest_ind(group_A, group_B)\n",
    "    inference = {\"t_stat\": t_stat, \"p_value\": p_value}\n",
    "    return inference\n",
    "\n",
    "\n",
    "def get_cuped_ttest(control_pre, control_post, test_pre, test_post):\n",
    "    \"\"\"Проверяет гипотезу о равенстве средних CUPED вариант\n",
    "    return - t_stat, p_value\"\"\"\n",
    "\n",
    "    theta = calculate_theta_for_test(\n",
    "        control_pre, control_post, test_pre, test_post\n",
    "    )\n",
    "\n",
    "    control_cuped = control_post - theta * control_pre\n",
    "    test_cuped = test_post - theta * test_pre\n",
    "\n",
    "    inference = get_basic_ttest(control_cuped, test_cuped)\n",
    "\n",
    "    return inference"
   ]
  },
  {
   "cell_type": "code",
   "execution_count": 13,
   "id": "81a19d32",
   "metadata": {},
   "outputs": [],
   "source": [
    "group_a = df[df[\"group\"] == \"A\"]\n",
    "group_b = df[df[\"group\"] == \"B\"]"
   ]
  },
  {
   "cell_type": "code",
   "execution_count": 14,
   "id": "e631d617",
   "metadata": {},
   "outputs": [],
   "source": [
    "cuped_test = get_cuped_ttest(\n",
    "    group_a[\"pre_ARPPU\"],\n",
    "    group_a[\"post_ARPPU\"],\n",
    "    group_b[\"pre_ARPPU\"],\n",
    "    group_b[\"post_ARPPU\"],\n",
    ")"
   ]
  },
  {
   "cell_type": "code",
   "execution_count": 15,
   "id": "d104f726",
   "metadata": {},
   "outputs": [
    {
     "data": {
      "text/plain": [
       "np.float64(0.032)"
      ]
     },
     "execution_count": 15,
     "metadata": {},
     "output_type": "execute_result"
    }
   ],
   "source": [
    "round(cuped_test[\"p_value\"], 3)"
   ]
  }
 ],
 "metadata": {
  "kernelspec": {
   "display_name": "Python 3",
   "language": "python",
   "name": "python3"
  },
  "language_info": {
   "codemirror_mode": {
    "name": "ipython",
    "version": 3
   },
   "file_extension": ".py",
   "mimetype": "text/x-python",
   "name": "python",
   "nbconvert_exporter": "python",
   "pygments_lexer": "ipython3",
   "version": "3.11.2"
  }
 },
 "nbformat": 4,
 "nbformat_minor": 5
}
