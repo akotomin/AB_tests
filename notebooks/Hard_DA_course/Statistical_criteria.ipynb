{
 "cells": [
  {
   "cell_type": "markdown",
   "id": "32c807a4",
   "metadata": {},
   "source": [
    "### Кейс\n",
    "Вы работаете в команде монетизации автоклассифайда. Команда раскатила новую ценовую политику на продавцов (листеров) в Новосибирске: повысили цены для всех на 10%. Основная гипотеза была в том, что вырастет месячный ARPPU (средняя выручка на одного платящего пользователя). Ожидаемое изменение ARPPU +/- 5%. Нововведение раскатили через АБ-тест, но период теста был ограничен, тест длился всего один месяц. Поэтому размер выборки в тесте тоже оказался ограничен.\n",
    "\n",
    "Это первые тесты с ценами в Новосибирске, поэтому менеджер помимо ответа на основной вопрос (про рост ARPU на 5%) хочет найти дополнительные инсайты в реакции пользователей на новую ценовую политику.\n",
    "\n",
    "Вам нужно проанализировать результаты теста, выполнив четыре задания, и помочь менеджеру лучше понять, как \"зашли\" новые цены в Новосибирске.\n",
    "\n",
    "Данные представляют из себя таблицу с тратами пользователей (`revenue`) за период проведения теста. В таблице представлены только пользователи с тратами больше 0.\n",
    "\n",
    "В колонке `group` показано, к какой группе относится пользователь:\n",
    "\n",
    "`group` = 0 - контрольная группа со старыми ценами,\n",
    "\n",
    "`group` = 1 - тестовая группа с новыми ценами.\n",
    "\n",
    "### Задание 1. Размер эффекта (1/4)\n",
    "Для начала попробуем определить размер эффекта. Для этого найдем несколько ключевых значений.\n",
    "\n",
    "Найдите среднее значение revenue для группы 0.\n",
    "\n",
    "Введите ответ в поле ниже с точностью до одного знака в десятичной части.\n",
    "\n",
    "Используйте точку для разделения целой и дробной части.\n",
    "\n",
    "### Задание 1. Размер эффекта (2/4)\n",
    "Найдите среднее значение revenue для группы 1.\n",
    "\n",
    "Введите ответ в поле ниже с точностью до одного знака в десятичной части.\n",
    "\n",
    "Используйте точку для разделения целой и дробной части."
   ]
  },
  {
   "cell_type": "code",
   "execution_count": 10,
   "id": "6fa997a4",
   "metadata": {},
   "outputs": [],
   "source": [
    "import pandas as pd\n",
    "import numpy as np\n",
    "import matplotlib.pyplot as plt\n",
    "import seaborn as sns\n",
    "from tqdm.notebook import tqdm\n",
    "from statsmodels.stats.power import tt_ind_solve_power\n",
    "from scipy.stats import mannwhitneyu\n",
    "from statsmodels.stats.proportion import proportion_confint"
   ]
  },
  {
   "cell_type": "code",
   "execution_count": 2,
   "id": "dcc78ae6",
   "metadata": {},
   "outputs": [
    {
     "data": {
      "text/html": [
       "<div>\n",
       "<style scoped>\n",
       "    .dataframe tbody tr th:only-of-type {\n",
       "        vertical-align: middle;\n",
       "    }\n",
       "\n",
       "    .dataframe tbody tr th {\n",
       "        vertical-align: top;\n",
       "    }\n",
       "\n",
       "    .dataframe thead th {\n",
       "        text-align: right;\n",
       "    }\n",
       "</style>\n",
       "<table border=\"1\" class=\"dataframe\">\n",
       "  <thead>\n",
       "    <tr style=\"text-align: right;\">\n",
       "      <th></th>\n",
       "      <th>passport_id</th>\n",
       "      <th>region</th>\n",
       "      <th>revenue</th>\n",
       "      <th>group</th>\n",
       "    </tr>\n",
       "  </thead>\n",
       "  <tbody>\n",
       "    <tr>\n",
       "      <th>0</th>\n",
       "      <td>135342321</td>\n",
       "      <td>Новосибирск</td>\n",
       "      <td>320</td>\n",
       "      <td>0</td>\n",
       "    </tr>\n",
       "    <tr>\n",
       "      <th>1</th>\n",
       "      <td>142791180</td>\n",
       "      <td>Новосибирск</td>\n",
       "      <td>2173</td>\n",
       "      <td>1</td>\n",
       "    </tr>\n",
       "    <tr>\n",
       "      <th>2</th>\n",
       "      <td>123514803</td>\n",
       "      <td>Новосибирск</td>\n",
       "      <td>215</td>\n",
       "      <td>0</td>\n",
       "    </tr>\n",
       "    <tr>\n",
       "      <th>3</th>\n",
       "      <td>124568474</td>\n",
       "      <td>Новосибирск</td>\n",
       "      <td>1720</td>\n",
       "      <td>0</td>\n",
       "    </tr>\n",
       "    <tr>\n",
       "      <th>4</th>\n",
       "      <td>141887661</td>\n",
       "      <td>Новосибирск</td>\n",
       "      <td>645</td>\n",
       "      <td>0</td>\n",
       "    </tr>\n",
       "  </tbody>\n",
       "</table>\n",
       "</div>"
      ],
      "text/plain": [
       "   passport_id       region  revenue  group\n",
       "0    135342321  Новосибирск      320      0\n",
       "1    142791180  Новосибирск     2173      1\n",
       "2    123514803  Новосибирск      215      0\n",
       "3    124568474  Новосибирск     1720      0\n",
       "4    141887661  Новосибирск      645      0"
      ]
     },
     "execution_count": 2,
     "metadata": {},
     "output_type": "execute_result"
    }
   ],
   "source": [
    "df = pd.read_csv(\"bootstrap_homework.csv\")\n",
    "df.head()"
   ]
  },
  {
   "cell_type": "code",
   "execution_count": 3,
   "id": "c87b0bda",
   "metadata": {},
   "outputs": [
    {
     "name": "stdout",
     "output_type": "stream",
     "text": [
      "Средняя выручка в контрльной группе равна:1534.6\n",
      "Средняя выручка в тестовой группе равна:1587.8\n"
     ]
    }
   ],
   "source": [
    "describe_df = df.groupby(\"group\", as_index=False).agg(\n",
    "    mean_rev=(\"revenue\", \"mean\"),\n",
    "    std=(\"revenue\", \"std\"),\n",
    "    person_qty=(\"passport_id\", \"nunique\"),\n",
    ")\n",
    "control_group_mean = describe_df[describe_df[\"group\"] == 0].mean_rev.values[0]\n",
    "test_group_mean = describe_df[describe_df[\"group\"] == 1].mean_rev.values[0]\n",
    "\n",
    "print(f\"Средняя выручка в контрльной группе равна:{control_group_mean:0.1f}\")\n",
    "print(f\"Средняя выручка в тестовой группе равна:{test_group_mean:0.1f}\")"
   ]
  },
  {
   "cell_type": "markdown",
   "id": "f3d177ec",
   "metadata": {},
   "source": [
    "### Задание 1. Размер эффекта (3/4)\n",
    "Рассчитайте абсолютный наблюдаемый эффект между двумя группами.\n",
    "\n",
    "Введите ответ в поле ниже с точностью до одного знака в десятичной части.\n",
    "\n",
    "Используйте точку для разделения целой и дробной части."
   ]
  },
  {
   "cell_type": "code",
   "execution_count": 4,
   "id": "0a209d50",
   "metadata": {},
   "outputs": [
    {
     "data": {
      "text/plain": [
       "53.2"
      ]
     },
     "execution_count": 4,
     "metadata": {},
     "output_type": "execute_result"
    }
   ],
   "source": [
    "round(\n",
    "    test_group_mean - control_group_mean,\n",
    "    1,\n",
    ")"
   ]
  },
  {
   "cell_type": "markdown",
   "id": "57981883",
   "metadata": {},
   "source": [
    "### Задание 1. Размер эффекта (4/4)\n",
    "Чему равен стандартизированный effect size Cohen D, найденный между группами, если std брать только по группе 0?\n",
    "\n",
    "Введите ответ в поле ниже с точностью до трех знаков после запятой.\n",
    "\n",
    "Используйте точку для разделения целой и дробной части.\n",
    "\n",
    "Формула для расчета индекса d Коэна:\n",
    "\n",
    "$$\\Large d=\\frac{M_{1}-M_{2}}{\\sqrt{\\frac{S_{1}^2+S_{1}^2}{2}}}$$"
   ]
  },
  {
   "cell_type": "code",
   "execution_count": 5,
   "id": "5db95c3c",
   "metadata": {},
   "outputs": [
    {
     "data": {
      "text/plain": [
       "0.007"
      ]
     },
     "execution_count": 5,
     "metadata": {},
     "output_type": "execute_result"
    }
   ],
   "source": [
    "var_control_group = (\n",
    "    describe_df[describe_df[\"group\"] == 0][\"std\"].values[0] ** 2\n",
    ")\n",
    "\n",
    "cohen_d = (\n",
    "    (control_group_mean - test_group_mean)\n",
    "    / ((var_control_group + var_control_group) / 2) ** 0.5\n",
    "    * -1\n",
    ")\n",
    "\n",
    "round(cohen_d, 3)"
   ]
  },
  {
   "cell_type": "markdown",
   "id": "95b91b0a",
   "metadata": {},
   "source": [
    "### Задание 2. Размер выборки (1/4)\n",
    "Определим, какая выборка нам была бы нужна для детекции 5% относительного эффекта в средних между группами.\n",
    "\n",
    "Рассчитайте размер выборки, необходимый для детекции 5% относительных процентов в двустороннем t-test с alpha = 0.05, power = 0.8. За основу для расчета нужных параметров (mean, lift, std) используйте данные по группе 0.\n",
    "\n",
    "Введите ответ в виде целого числа поле ниже."
   ]
  },
  {
   "cell_type": "code",
   "execution_count": 6,
   "id": "848049bf",
   "metadata": {},
   "outputs": [
    {
     "name": "stdout",
     "output_type": "stream",
     "text": [
      "Для детекции 5% изменения средней с помощью t-test нужна выборка: 162949\n"
     ]
    }
   ],
   "source": [
    "hist_data = df[\"revenue\"][df[\"group\"] == 0]\n",
    "lift_1 = hist_data.mean() * (0.05)\n",
    "std_1 = hist_data.std()\n",
    "cohen_d_1 = lift_1 / std_1\n",
    "\n",
    "sample_size_1 = round(\n",
    "    tt_ind_solve_power(\n",
    "        effect_size=cohen_d_1, alpha=0.05, power=0.8, nobs1=None, ratio=1\n",
    "    )\n",
    ")\n",
    "print(\n",
    "    \"Для детекции 5% изменения средней с помощью t-test нужна выборка:\",\n",
    "    sample_size_1,\n",
    ")"
   ]
  },
  {
   "cell_type": "markdown",
   "id": "37311f64",
   "metadata": {},
   "source": [
    "### Задание 2. Размер выборки (2/4)\n",
    "А какая выборка нам была бы нужна, если бы мы использовали критерий Манна-Уитни?\n",
    "\n",
    "Попробуем рассчитать с помощью симуляции размер выборки, для того чтобы задетектить те же 5%, но с помощью критерия Манна-Уитни.\n",
    "\n",
    "Перед стартом симуляции укажите:\n",
    "\n",
    "```python\n",
    "np.random.seed(1)\n",
    "```\n",
    "\n",
    "\n",
    "Массив для перебора размера выборок начните с 500 до 5000 с шагом 100:\n",
    "\n",
    "```python\n",
    "sample_size_list = np.arange(500, 5000, 100)\n",
    "```\n",
    "\n",
    "Введите ответ в виде целого числа поле ниже.\n",
    "\n"
   ]
  },
  {
   "cell_type": "code",
   "execution_count": 7,
   "id": "e8bfb911",
   "metadata": {},
   "outputs": [
    {
     "data": {
      "text/plain": [
       "array([ 500,  600,  700,  800,  900, 1000, 1100, 1200, 1300, 1400, 1500,\n",
       "       1600, 1700, 1800, 1900, 2000, 2100, 2200, 2300, 2400, 2500, 2600,\n",
       "       2700, 2800, 2900, 3000, 3100, 3200, 3300, 3400, 3500, 3600, 3700,\n",
       "       3800, 3900, 4000, 4100, 4200, 4300, 4400, 4500, 4600, 4700, 4800,\n",
       "       4900])"
      ]
     },
     "execution_count": 7,
     "metadata": {},
     "output_type": "execute_result"
    }
   ],
   "source": [
    "sample_size_list = np.arange(500, 5000, 100)\n",
    "sample_size_list"
   ]
  },
  {
   "cell_type": "code",
   "execution_count": 8,
   "id": "17ee1db3",
   "metadata": {},
   "outputs": [],
   "source": [
    "def get_beta_many_mw_ab_tests(hist_data, rel_lift, sample_size, n_sim):\n",
    "    \"\"\"\n",
    "    функция проводящая многократно Манна_Уитни тесты с заданными параметрами\n",
    "    hist_data - исторические данные, которые используем для генерации выборок А и Б\n",
    "    rel_lift - относительный рост средней, задаваемый для проверки мощности. Относительный MDE\n",
    "    sample_size - размер выборки в тесте\n",
    "    n_sim - кол-во симуляций для одного размера выборки\n",
    "    output - возвращает alpha, beta и 95%-доверительные интервалы\n",
    "    \"\"\"\n",
    "    aa_means_diff_list = []\n",
    "    ab_means_diff_list = []\n",
    "    aa_p_val_list = []\n",
    "    ab_p_val_list = []\n",
    "\n",
    "    for i in tqdm(range(n_sim), disable=True):\n",
    "        sample_a_1 = np.random.choice(\n",
    "            hist_data, size=sample_size\n",
    "        )  # контрольная группа без эффекта\n",
    "        sample_a_2 = np.random.choice(\n",
    "            hist_data, size=sample_size\n",
    "        )  # тестовая группа без эффекта\n",
    "        sample_b = np.random.choice(hist_data, size=sample_size) * (\n",
    "            1 + rel_lift\n",
    "        )  # тестовая группа c эффектом\n",
    "\n",
    "        aa_means_diff = sample_a_1.mean() - sample_a_2.mean()\n",
    "        ab_means_diff = sample_a_1.mean() - sample_b.mean()\n",
    "        aa_p_val = mannwhitneyu(sample_a_1, sample_a_2)[\n",
    "            1\n",
    "        ]  # применем MW для АА версии\n",
    "        ab_p_val = mannwhitneyu(sample_a_1, sample_b)[1]  # применяем MW для AB\n",
    "\n",
    "        aa_means_diff_list.append(aa_means_diff)\n",
    "        ab_means_diff_list.append(ab_means_diff)\n",
    "        aa_p_val_list.append(aa_p_val)\n",
    "        ab_p_val_list.append(ab_p_val)\n",
    "\n",
    "    alpha = np.sum(np.array(aa_p_val_list) < 0.05) / n_sim\n",
    "    power = np.sum(np.array(ab_p_val_list) < 0.05) / n_sim\n",
    "\n",
    "    alpha_ci = proportion_confint(\n",
    "        np.sum(np.array(aa_p_val_list) < 0.05), n_sim, alpha=0.05\n",
    "    )\n",
    "    power_ci = proportion_confint(\n",
    "        np.sum(np.array(ab_p_val_list) < 0.05), n_sim, alpha=0.05\n",
    "    )\n",
    "\n",
    "    output = {\n",
    "        \"alpha\": alpha,\n",
    "        \"power\": power,\n",
    "        \"alpha_ci\": alpha_ci,\n",
    "        \"power_ci\": power_ci,\n",
    "    }\n",
    "\n",
    "    return output"
   ]
  },
  {
   "cell_type": "code",
   "execution_count": 9,
   "id": "7cddbc6c",
   "metadata": {},
   "outputs": [
    {
     "data": {
      "application/vnd.jupyter.widget-view+json": {
       "model_id": "6a8475fc47124c03b08eeefe8cc39237",
       "version_major": 2,
       "version_minor": 0
      },
      "text/plain": [
       "  0%|          | 0/45 [00:00<?, ?it/s]"
      ]
     },
     "metadata": {},
     "output_type": "display_data"
    }
   ],
   "source": [
    "sample_size_list = np.arange(\n",
    "    500, 5000, 100\n",
    ")  # зададим линейное пространство размера выборок, по которому мы будем перебирать\n",
    "\n",
    "mw_power_list = []\n",
    "mw_lower_power_ci_list = []\n",
    "mw_upper_power_ci_list = []\n",
    "\n",
    "np.random.seed(1)\n",
    "# прогоним циклом, где для каждого размера выборки мы численно находим мощность и другие параметры\n",
    "for i in tqdm(sample_size_list):\n",
    "    mw_output = get_beta_many_mw_ab_tests(hist_data, 0.05, i, 1000)\n",
    "\n",
    "    mw_alpha = mw_output[\"alpha\"]\n",
    "    mw_power = mw_output[\"power\"]\n",
    "    mw_power_ci = mw_output[\"power_ci\"]\n",
    "    mw_power_list.append(mw_power)\n",
    "    mw_lower_power_ci_list.append(mw_power_ci[0])\n",
    "    mw_upper_power_ci_list.append(mw_power_ci[1])"
   ]
  },
  {
   "cell_type": "code",
   "execution_count": 11,
   "id": "11e9af0a",
   "metadata": {},
   "outputs": [
    {
     "data": {
      "text/plain": [
       "<matplotlib.legend.Legend at 0x135608710>"
      ]
     },
     "execution_count": 11,
     "metadata": {},
     "output_type": "execute_result"
    },
    {
     "data": {
      "image/png": "[encoded data removed]",
      "text/plain": [
       "<Figure size 1600x1000 with 1 Axes>"
      ]
     },
     "metadata": {},
     "output_type": "display_data"
    }
   ],
   "source": [
    "mw_power_est_index = np.argmax(np.array(mw_power_list) >= 0.8)\n",
    "\n",
    "plt.figure(figsize=(16, 10))\n",
    "sns.lineplot(x=sample_size_list, y=mw_power_list, label=\"Power of MW AB test\")\n",
    "\n",
    "plt.axhline(0.8, color=\"red\", linestyle=\"--\")\n",
    "plt.axvline(\n",
    "    sample_size_list[mw_power_est_index],\n",
    "    color=\"blue\",\n",
    "    linestyle=\"--\",\n",
    "    label=\"mean beta est. = 0.8\",\n",
    ")\n",
    "plt.text(\n",
    "    sample_size_list[mw_power_est_index] + 30,\n",
    "    np.min(mw_power_list),\n",
    "    \"Sample size est. for 0.8 power MW-test = {}\".format(\n",
    "        sample_size_list[mw_power_est_index]\n",
    "    ),\n",
    "    rotation=\"vertical\",\n",
    "    color=\"blue\",\n",
    ")\n",
    "\n",
    "plt.legend()"
   ]
  },
  {
   "cell_type": "markdown",
   "id": "97d798fd",
   "metadata": {},
   "source": [
    "### Задание 2. Размер выборки (3/4)\n",
    "Хорошо, мы поняли какая выборка нужна была бы для детекции 5%, но наблюдаемый эффект у нас меньше относительного MDE. Интересно понять, какая выборка нам была бы нужна, чтобы задетектить MDE такого размера.\n",
    "\n",
    "Рассчитайте размер выборки, необходимый для детекции наблюдаемого эффекта, найденного в задании 1, через двусторонний t-test. С альфа = 0.05 и мощностью 0.8. Выборка 50/50. Для определения cohen_D эффекта используйте std только по контрольной группе.\n",
    "\n",
    "Введите ответ в виде целого числа поле ниже."
   ]
  },
  {
   "cell_type": "code",
   "execution_count": 30,
   "id": "50bfe086",
   "metadata": {},
   "outputs": [
    {
     "name": "stdout",
     "output_type": "stream",
     "text": [
      "Для детекции 0.7% изменения средней с помощью t-test нужна выборка: 338943.0\n"
     ]
    }
   ],
   "source": [
    "alpha = 0.05\n",
    "power = 0.8\n",
    "\n",
    "sample_size_test = np.ceil(\n",
    "    tt_ind_solve_power(\n",
    "        effect_size=cohen_d, alpha=alpha, power=power, nobs1=None, ratio=1\n",
    "    )\n",
    ")\n",
    "print(\n",
    "    f\"Для детекции {round(cohen_d * 100, 1)}% изменения средней с помощью t-test нужна выборка:\",\n",
    "    sample_size_test,\n",
    ")"
   ]
  },
  {
   "cell_type": "markdown",
   "id": "178ffb82",
   "metadata": {},
   "source": [
    "### Задание 2. Размер выборки (4/4)\n",
    "Мы поняли, что наблюдаемый эффект меньше желаемого MDE, при этом и выборка у нас меньше нужного размера. Давайте посмотрим, какой MDE мы можем себе позволить на имеющейся выборке при проверке разницы средних через двусторонний t-test. Параметры дизайна теста те же самые.\n",
    "\n",
    "Рассчитайте, какой абсолютный MDE вы можете себе позволить с датасетом имеющегося размера и std равным std в группе 0. \n",
    "\n",
    "Введите ответ в поле ниже с точностью до одного знака в десятичной части.\n",
    "\n",
    "Используйте точку для разделения целой и дробной части.\n",
    "\n"
   ]
  },
  {
   "cell_type": "code",
   "execution_count": 36,
   "id": "c1becce7",
   "metadata": {},
   "outputs": [
    {
     "data": {
      "text/plain": [
       "244.9"
      ]
     },
     "execution_count": 36,
     "metadata": {},
     "output_type": "execute_result"
    }
   ],
   "source": [
    "MDE = tt_ind_solve_power(\n",
    "    effect_size=None,\n",
    "    alpha=alpha,\n",
    "    power=power,\n",
    "    nobs1=describe_df.person_qty[0],\n",
    "    ratio=1,\n",
    "    alternative=\"two-sided\",\n",
    ")\n",
    "round(MDE * describe_df[\"std\"][0], 1)"
   ]
  },
  {
   "cell_type": "code",
   "execution_count": null,
   "id": "005d78ac",
   "metadata": {},
   "outputs": [],
   "source": []
  }
 ],
 "metadata": {
  "kernelspec": {
   "display_name": ".venv",
   "language": "python",
   "name": "python3"
  },
  "language_info": {
   "codemirror_mode": {
    "name": "ipython",
    "version": 3
   },
   "file_extension": ".py",
   "mimetype": "text/x-python",
   "name": "python",
   "nbconvert_exporter": "python",
   "pygments_lexer": "ipython3",
   "version": "3.11.2"
  }
 },
 "nbformat": 4,
 "nbformat_minor": 5
}
