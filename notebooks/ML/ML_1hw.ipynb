{
 "cells": [
  {
   "cell_type": "markdown",
   "id": "cb54509d-eef2-4b0a-9260-d4e76c70c4e3",
   "metadata": {
    "tags": []
   },
   "source": [
    "### Практическое задание\n",
    "В этом практическом задании мы попробуем решить задачу прогнозирования временного ряда, а именно выручки нашего сервиса \"через 30 дней\".\n",
    "\n",
    "Обычно аналитику того или иного сервиса интересно делать предсказание тренда, то есть средних или кумулятивных значений метрики. Тем не менее иногда нужен и точечный прогноз. Например, для оценки потенциальной нагруженности сервиса в те или иные дни. Точечный ответ в данном случае может помочь принять своевременные решения о проведении плановых работ.\n",
    "\n",
    "Задача, которую мы сейчас планируем решать, имеет некоторую особенность: из данных у нас будет только история значений выручки в предыдущие дни. Иными словами, мы хотим прогнозировать временной ряд.\n",
    "\n",
    "В этом задании мы потренируемся выгружать данные, создавать признаки, считать метрики, залезать внутрь обученной модели и искать альтернативные пути. Заложим основу для того, что будем делать дальше, и даже обнаружим некоторые вещи, которых нам сейчас не хватает. Поехали!\n",
    "\n",
    "### Задача 1. Выгрузка данных\n",
    "Вам предстоит работать с данными классифайда – таблицей `user_transactions`, которая доступна в Clickhouse (в базе hardda).\n",
    "\n",
    "##### Запрос для получения данных\n",
    "Соберём датасет с суммарной выручкой за каждый день. Для этого напишем SQL-запрос к указанной таблице:\n",
    "\n",
    "- Возьмите только транзакции трёх типов: `'basic sale'`, `'fast sale'`, `'quick sale'`. По датам фильтровать не нужно: берём все доступные даты. Фильтр по столбцу `sign` тоже не нужен: нас будет интересовать чистая выручка за вычетом возвратов и т.п.\n",
    "- Сгруппируйте по `payment_date`. Чуть позже, в другой части задания, мы поработаем с данными отдельно по каждому типу транзакции. И будем группировать как по дате, так и по типу. Но тут пока будем использовать данные с суммарной выручкой, без разбиения на отдельные типы.\n",
    "- Для каждой даты посчитайте `-sum(amount)`, получившийся столбец назовите `volume`. Обратите внимание, что `amount` в таблице лежит с отрицательным знаком, т.к. деньги списываются со счета. Мы инвертируем знак, чтобы привести к более интуитивно понятному виду.\n",
    "- Отсортируйте результат по `payment_date`, чтобы даты шли по порядку.\n",
    "\n",
    "Запрос можно выполнять непосредственно с помощью `client.execute`, но может пригодиться вспомогательная функция, возвращающая результат сразу в виде датафрейма:\n",
    "\n",
    "После запроса примените `pd.to_datetime` к столбцу с датами.\n",
    "\n",
    "На данном этапе у вас должен получиться датафрейм с 2 столбцами. А сколько в нём получилось строк?"
   ]
  },
  {
   "cell_type": "code",
   "execution_count": 20,
   "id": "cebf4d1b-97ba-496a-94c1-a6147ba7cb1d",
   "metadata": {},
   "outputs": [],
   "source": [
    "import pandas as pd\n",
    "import numpy as np\n",
    "from clickhouse_driver import Client\n",
    "from config import user_id, password\n",
    "from sklearn.linear_model import LinearRegression\n",
    "from sklearn.metrics import mean_squared_error, mean_absolute_error\n",
    "\n",
    "# работаем с двумя БД, поэтому создаем два подключения.\n",
    "readDB = 'hardda'\n",
    "readWriteDB = 'hardda_student_data'\n",
    "\n",
    "\n",
    "# Создаем соединение с ClickHouse\n",
    "client = Client(\n",
    "    host='clickhouse.lab.karpov.courses',\n",
    "    port=9000,\n",
    "    user=user_id,\n",
    "    password=password,\n",
    "    database=readDB\n",
    ")\n",
    "\n",
    "def get_data(query):\n",
    "    \"\"\"\n",
    "    Вытягивает данные из clickhouse в виде Dataframe\n",
    "    \n",
    "    query - запрос\n",
    "    \"\"\"\n",
    "    result, columns = client.execute(query, with_column_types=True)\n",
    "    return pd.DataFrame(result, columns=[tuple[0] for tuple in columns])"
   ]
  },
  {
   "cell_type": "code",
   "execution_count": 2,
   "id": "7434f1b1-b53a-4bef-8ac3-d7ac6d52374f",
   "metadata": {},
   "outputs": [
    {
     "data": {
      "text/plain": [
       "511"
      ]
     },
     "execution_count": 2,
     "metadata": {},
     "output_type": "execute_result"
    }
   ],
   "source": [
    "query = \"\"\"\n",
    "    SELECT payment_date, \n",
    "      -SUM(amount) AS volume\n",
    "    FROM user_transactions\n",
    "    WHERE type IN ('basic sale', 'fast sale', 'quick sale')\n",
    "    GROUP BY payment_date\n",
    "\"\"\"\n",
    "\n",
    "df = get_data(query)\n",
    "df.shape[0]"
   ]
  },
  {
   "cell_type": "markdown",
   "id": "0f796134-64af-49eb-aa53-b8019e0ca71e",
   "metadata": {},
   "source": [
    "### Задача 2. Исправление проблемы в данных\n",
    "Посмотрите, всё ли в порядке с полученным датафреймом (подсказка: если вызвать .head(), вроде бы всё ок, но проблема видна, если вызвать .head(10)).\n",
    "\n",
    "В датафрейме отсутствуют некоторые даты (например, 2021-02-08).\n",
    "\n",
    "В реальной жизни мы бы обязательно постарались разобраться в природе этого. Возможно, у нас неполные или некорректные данные, и можно получить более полные. Возможно, транзакции в эти дни были, но по какой-то причине данных по ним нет. Тогда можно было бы попробовать заполнять эти пропуски (например, средним или предыдущим значением).\n",
    "\n",
    "В нашей задаче будем считать, что транзакций в эти дни действительно не было. В этом случае нужно сделать так, чтобы отсутствующие даты появились в датафрейме со значением 0.\n",
    "\n",
    "Добавьте пропущенные даты со значением volume равным 0. После этого снова вызовите .head(10) и убедитесь, что строка с датой 2021-02-08 теперь есть.\n",
    "\n",
    "Сколько строк в датафрейме после добавления пропущенных дат?"
   ]
  },
  {
   "cell_type": "code",
   "execution_count": 3,
   "id": "1b0c152c-237c-42b9-93d0-b5b1d6c90037",
   "metadata": {},
   "outputs": [],
   "source": [
    "df['payment_date'] = pd.to_datetime(df['payment_date'], format='%Y-%m-%d')"
   ]
  },
  {
   "cell_type": "code",
   "execution_count": 4,
   "id": "c40786a5-c5b8-4565-ac7d-6a81190e1407",
   "metadata": {},
   "outputs": [
    {
     "data": {
      "text/html": [
       "<div>\n",
       "<style scoped>\n",
       "    .dataframe tbody tr th:only-of-type {\n",
       "        vertical-align: middle;\n",
       "    }\n",
       "\n",
       "    .dataframe tbody tr th {\n",
       "        vertical-align: top;\n",
       "    }\n",
       "\n",
       "    .dataframe thead th {\n",
       "        text-align: right;\n",
       "    }\n",
       "</style>\n",
       "<table border=\"1\" class=\"dataframe\">\n",
       "  <thead>\n",
       "    <tr style=\"text-align: right;\">\n",
       "      <th></th>\n",
       "      <th>payment_date</th>\n",
       "      <th>volume</th>\n",
       "    </tr>\n",
       "  </thead>\n",
       "  <tbody>\n",
       "    <tr>\n",
       "      <th>0</th>\n",
       "      <td>2021-02-02</td>\n",
       "      <td>3396867</td>\n",
       "    </tr>\n",
       "    <tr>\n",
       "      <th>1</th>\n",
       "      <td>2021-02-03</td>\n",
       "      <td>3504675</td>\n",
       "    </tr>\n",
       "    <tr>\n",
       "      <th>2</th>\n",
       "      <td>2021-02-04</td>\n",
       "      <td>3321098</td>\n",
       "    </tr>\n",
       "    <tr>\n",
       "      <th>3</th>\n",
       "      <td>2021-02-05</td>\n",
       "      <td>3317318</td>\n",
       "    </tr>\n",
       "    <tr>\n",
       "      <th>4</th>\n",
       "      <td>2021-02-06</td>\n",
       "      <td>2763316</td>\n",
       "    </tr>\n",
       "    <tr>\n",
       "      <th>5</th>\n",
       "      <td>2021-02-07</td>\n",
       "      <td>2996701</td>\n",
       "    </tr>\n",
       "    <tr>\n",
       "      <th>6</th>\n",
       "      <td>2021-02-09</td>\n",
       "      <td>2956741</td>\n",
       "    </tr>\n",
       "    <tr>\n",
       "      <th>7</th>\n",
       "      <td>2021-02-10</td>\n",
       "      <td>3053434</td>\n",
       "    </tr>\n",
       "    <tr>\n",
       "      <th>8</th>\n",
       "      <td>2021-02-11</td>\n",
       "      <td>2854137</td>\n",
       "    </tr>\n",
       "    <tr>\n",
       "      <th>9</th>\n",
       "      <td>2021-02-12</td>\n",
       "      <td>3030957</td>\n",
       "    </tr>\n",
       "  </tbody>\n",
       "</table>\n",
       "</div>"
      ],
      "text/plain": [
       "  payment_date   volume\n",
       "0   2021-02-02  3396867\n",
       "1   2021-02-03  3504675\n",
       "2   2021-02-04  3321098\n",
       "3   2021-02-05  3317318\n",
       "4   2021-02-06  2763316\n",
       "5   2021-02-07  2996701\n",
       "6   2021-02-09  2956741\n",
       "7   2021-02-10  3053434\n",
       "8   2021-02-11  2854137\n",
       "9   2021-02-12  3030957"
      ]
     },
     "execution_count": 4,
     "metadata": {},
     "output_type": "execute_result"
    }
   ],
   "source": [
    "df.head(10)"
   ]
  },
  {
   "cell_type": "code",
   "execution_count": 5,
   "id": "054a05f7-f23c-479b-812e-b03e2fa0661a",
   "metadata": {},
   "outputs": [
    {
     "data": {
      "text/plain": [
       "DatetimeIndex(['2021-02-08', '2021-02-13', '2021-02-19', '2021-02-20',\n",
       "               '2021-02-24', '2021-02-26', '2021-02-28', '2021-03-11',\n",
       "               '2021-03-20', '2021-03-21',\n",
       "               ...\n",
       "               '2023-01-03', '2023-01-05', '2023-01-06', '2023-01-09',\n",
       "               '2023-01-13', '2023-01-19', '2023-01-20', '2023-01-22',\n",
       "               '2023-01-24', '2023-01-25'],\n",
       "              dtype='datetime64[ns]', length=218, freq=None)"
      ]
     },
     "execution_count": 5,
     "metadata": {},
     "output_type": "execute_result"
    }
   ],
   "source": [
    "missing_dates = (\n",
    "    pd.date_range(start=df['payment_date'].min(), end=df['payment_date'].max())\n",
    "    .difference(df['payment_date'])\n",
    ")\n",
    "\n",
    "missing_dates"
   ]
  },
  {
   "cell_type": "code",
   "execution_count": 6,
   "id": "d579673c-4eba-4169-9f0e-3ddf7aa90f4e",
   "metadata": {},
   "outputs": [
    {
     "data": {
      "text/plain": [
       "DatetimeIndex(['2021-02-02', '2021-02-03', '2021-02-04', '2021-02-05',\n",
       "               '2021-02-06', '2021-02-07', '2021-02-08', '2021-02-09',\n",
       "               '2021-02-10', '2021-02-11',\n",
       "               ...\n",
       "               '2023-01-22', '2023-01-23', '2023-01-24', '2023-01-25',\n",
       "               '2023-01-26', '2023-01-27', '2023-01-28', '2023-01-29',\n",
       "               '2023-01-30', '2023-01-31'],\n",
       "              dtype='datetime64[ns]', length=729, freq='D')"
      ]
     },
     "execution_count": 6,
     "metadata": {},
     "output_type": "execute_result"
    }
   ],
   "source": [
    "all_dates = pd.date_range(start=df['payment_date'].min(), end=df['payment_date'].max())\n",
    "all_dates"
   ]
  },
  {
   "cell_type": "code",
   "execution_count": 7,
   "id": "ae59cfd0-2939-41de-9275-0377bf7be325",
   "metadata": {},
   "outputs": [
    {
     "data": {
      "text/html": [
       "<div>\n",
       "<style scoped>\n",
       "    .dataframe tbody tr th:only-of-type {\n",
       "        vertical-align: middle;\n",
       "    }\n",
       "\n",
       "    .dataframe tbody tr th {\n",
       "        vertical-align: top;\n",
       "    }\n",
       "\n",
       "    .dataframe thead th {\n",
       "        text-align: right;\n",
       "    }\n",
       "</style>\n",
       "<table border=\"1\" class=\"dataframe\">\n",
       "  <thead>\n",
       "    <tr style=\"text-align: right;\">\n",
       "      <th></th>\n",
       "      <th>payment_date</th>\n",
       "      <th>volume</th>\n",
       "    </tr>\n",
       "  </thead>\n",
       "  <tbody>\n",
       "    <tr>\n",
       "      <th>0</th>\n",
       "      <td>2021-02-02</td>\n",
       "      <td>3396867</td>\n",
       "    </tr>\n",
       "    <tr>\n",
       "      <th>1</th>\n",
       "      <td>2021-02-03</td>\n",
       "      <td>3504675</td>\n",
       "    </tr>\n",
       "    <tr>\n",
       "      <th>2</th>\n",
       "      <td>2021-02-04</td>\n",
       "      <td>3321098</td>\n",
       "    </tr>\n",
       "    <tr>\n",
       "      <th>3</th>\n",
       "      <td>2021-02-05</td>\n",
       "      <td>3317318</td>\n",
       "    </tr>\n",
       "    <tr>\n",
       "      <th>4</th>\n",
       "      <td>2021-02-06</td>\n",
       "      <td>2763316</td>\n",
       "    </tr>\n",
       "    <tr>\n",
       "      <th>5</th>\n",
       "      <td>2021-02-07</td>\n",
       "      <td>2996701</td>\n",
       "    </tr>\n",
       "    <tr>\n",
       "      <th>6</th>\n",
       "      <td>2021-02-08</td>\n",
       "      <td>0</td>\n",
       "    </tr>\n",
       "    <tr>\n",
       "      <th>7</th>\n",
       "      <td>2021-02-09</td>\n",
       "      <td>2956741</td>\n",
       "    </tr>\n",
       "    <tr>\n",
       "      <th>8</th>\n",
       "      <td>2021-02-10</td>\n",
       "      <td>3053434</td>\n",
       "    </tr>\n",
       "    <tr>\n",
       "      <th>9</th>\n",
       "      <td>2021-02-11</td>\n",
       "      <td>2854137</td>\n",
       "    </tr>\n",
       "  </tbody>\n",
       "</table>\n",
       "</div>"
      ],
      "text/plain": [
       "  payment_date   volume\n",
       "0   2021-02-02  3396867\n",
       "1   2021-02-03  3504675\n",
       "2   2021-02-04  3321098\n",
       "3   2021-02-05  3317318\n",
       "4   2021-02-06  2763316\n",
       "5   2021-02-07  2996701\n",
       "6   2021-02-08        0\n",
       "7   2021-02-09  2956741\n",
       "8   2021-02-10  3053434\n",
       "9   2021-02-11  2854137"
      ]
     },
     "execution_count": 7,
     "metadata": {},
     "output_type": "execute_result"
    }
   ],
   "source": [
    "df2 = all_dates.to_frame(name='payment_date').merge(df, on='payment_date', how='left').fillna(0)\n",
    "df2['volume'] = df2['volume'].astype(int)\n",
    "df2.head(10)"
   ]
  },
  {
   "cell_type": "code",
   "execution_count": 8,
   "id": "6a268382-c14a-4346-9eff-6bd4929232d7",
   "metadata": {},
   "outputs": [
    {
     "data": {
      "text/plain": [
       "729"
      ]
     },
     "execution_count": 8,
     "metadata": {},
     "output_type": "execute_result"
    }
   ],
   "source": [
    "df2.shape[0]"
   ]
  },
  {
   "cell_type": "markdown",
   "id": "33d2b0f8-3c34-4e43-a320-7791704d411a",
   "metadata": {},
   "source": [
    "### Задача 3. Подготовка признаков\n",
    "\n",
    "Инструменты ML очень универсальны и могут применяться в том числе и в прогнозировании TS (Time Series). Многие из вас ранее могли уже работать с TS и использовать классические эконометрические подходы. Вы, наверное, не удивитесь, когда узнаете, что под капотом этих подходов зачастую используется линейная регрессия, поэтому не стоит игнорировать этот базовый подход, когда работаете с данными с временной структурой.\n",
    "\n",
    "Есть целое семейство стратегий \"как свести задачу прогнозирования TS к классической регрессионной ML задаче\". Подход, который мы предлагаем реализовать вам — лишь один из многих.\n",
    "\n",
    "##### В чём идея\n",
    "\n",
    "Наша задача — предсказать выручку в конкретный день через 30 дней. Например, представим, что сейчас 1 августа, а мы хотим предсказать выручку за 31 августа. Что мы можем для этого использовать:\n",
    "\n",
    "- Мы знаем, какой будет день недели 31 августа. Из этого можно вытащить какие-то признаки.\n",
    "- Можно использовать выручку за конкретный день в прошлом. Т.к. мы предсказываем \"через 30 дней\", нельзя брать данные за дни ближе, чем 30 дней. В нашем примере мы уже знаем выручку за 1 августа, за любой день в июле, июне, мае. Но мы не можем брать выручку за 29 августа, 15 августа или 2 августа. Они ещё не наступили. Таким образом, если мы собираем фичи для таргета 31 августа, мы можем брать дни за 30 дней и более до него: 1 августа и раньше.\n",
    "- Конечно, из прошлого мы можем брать не только выручку за конкретные дни. Можно посчитать агрегированные или скользящие значения.\n",
    "\n",
    "##### Признаки\n",
    "Итак, для каждой даты `payment_date` у нас есть таргет, `volume` (истинное значение выручки). Чтобы предсказать это значение, соберём признаки (используя идеи, которые обсудили выше):\n",
    "\n",
    "На основе дня недели посчитаем один признак — является ли этот день выходным (1, если суббота или воскресенье; 0, если нет).\n",
    "Возьмём три значения выручки за какой-то день в прошлом: 30 дней назад, 61 день назад и 91 день назад (выбор конкретных значений тут довольно произвольный). Это ещё три признака.\n",
    "Помимо \"точечных\" значений за конкретные дни в прошлом, возьмём экспоненциальные скользящие средние. Начиная с дня 30 дней назад и дальше в прошлое (на 7 дней, на 30 дней и на 91 день).\n",
    "В некоторых случаях может не хватить глубины данных, чтобы посчитать все признаки. Это будет выглядеть как признаки со значением `NaN`. Строки, содержащие такие значения, мы просто удалим (могут быть и другие подходы, но мы используем самый простой).\n",
    "\n",
    "Итого, для каждой даты у нас помимо таргета появится 7 признаков, которые можно использовать для предсказания этого значения.\n",
    "\n",
    "Дальше решаем как обычную задачу обучения с учителем. Такой сетап позволит нам прогнозировать на 30 дней вперед из любой доступной на текущий момент даты.\n",
    "\n",
    "##### Функция для подготовки признаков\n",
    "\n",
    "Обязательно попробуйте самостоятельно посчитать хотя бы часть признаков, описанных выше.\n",
    "\n",
    "Но для итогового решения можете взять готовую функцию `generate_features_for_series`, которая делает всё описанное.\n",
    "\n",
    "Убедитесь, что понимаете, как она работает. Не забудьте перед её применением добавить отсутствующие даты (см. предыдущий степ).\n",
    "\n",
    "```python\n",
    "def generate_features_for_series(\n",
    "    data: pd.DataFrame,\n",
    "    date_colname='payment_date',\n",
    "    value_colname='volume'\n",
    "):\n",
    "\n",
    "\n",
    "    data_ = data.copy()\n",
    "    data_.sort_values(date_colname, inplace=True)\n",
    "   \n",
    "    ### 1)\n",
    "    data_['weekday'] = data_[date_colname].dt.weekday\n",
    "    data_.loc[data_['weekday'].isin([5, 6]), 'is_holiday'] = 1\n",
    "    data_['is_holiday'] = data_['is_holiday'].fillna(0)\n",
    "    data_.drop('weekday', axis=1, inplace=True)\n",
    "\n",
    "\n",
    "    ### 2, 3, 4)\n",
    "    data_['lag_30d'] = data_[value_colname].shift(30)\n",
    "    data_['lag_61d'] = data_[value_colname].shift(61)\n",
    "    data_['lag_91d'] = data_[value_colname].shift(91)\n",
    "\n",
    "\n",
    "    ### 5, 6, 7)\n",
    "    data_['rolling_7d'] = data_['lag_30d'].ewm(span=7).mean()\n",
    "    data_['rolling_30d'] = data_['lag_30d'].ewm(span=30).mean()\n",
    "    data_['rolling_91d'] = data_['lag_30d'].ewm(span=91).mean()\n",
    "\n",
    "\n",
    "   \n",
    "    ### Уберем Nan'ы\n",
    "    data_.dropna(inplace=True)\n",
    "   \n",
    "    return data_\n",
    "```\n",
    "\n",
    "Обратите внимание, что при проверке, что день недели является выходным, используем [5, 6], а не [6, 7], т.к. нумерация дней недели начинается с нуля (см. pandas.Series.dt.weekday).\n",
    "\n",
    " Сколько строк получилось после применения функции генерации признаков?"
   ]
  },
  {
   "cell_type": "code",
   "execution_count": 9,
   "id": "69866584-e1b6-4a60-9f5c-00466cbeaa43",
   "metadata": {},
   "outputs": [],
   "source": [
    "def generate_features_for_series(\n",
    "        data: pd.DataFrame,\n",
    "        date_colname='payment_date',\n",
    "        value_colname='volume'\n",
    "    ):\n",
    "\n",
    "    data_ = data.copy()\n",
    "    data_.sort_values(date_colname, inplace=True)\n",
    "   \n",
    "    ### 1)\n",
    "    data_['weekday'] = data_[date_colname].dt.weekday\n",
    "    data_.loc[data_['weekday'].isin([5, 6]), 'is_holiday'] = 1\n",
    "    data_['is_holiday'] = data_['is_holiday'].fillna(0)\n",
    "    data_.drop('weekday', axis=1, inplace=True)\n",
    "\n",
    "    ### 2, 3, 4)\n",
    "    data_['lag_30d'] = data_[value_colname].shift(30)\n",
    "    data_['lag_61d'] = data_[value_colname].shift(61)\n",
    "    data_['lag_91d'] = data_[value_colname].shift(91)\n",
    "\n",
    "    ### 5, 6, 7)\n",
    "    data_['rolling_7d'] = data_['lag_30d'].ewm(span=7).mean()\n",
    "    data_['rolling_30d'] = data_['lag_30d'].ewm(span=30).mean()\n",
    "    data_['rolling_91d'] = data_['lag_30d'].ewm(span=91).mean()\n",
    "\n",
    "   \n",
    "    ### Уберем Nan'ы\n",
    "    data_.dropna(inplace=True)\n",
    "   \n",
    "    return data_"
   ]
  },
  {
   "cell_type": "code",
   "execution_count": 10,
   "id": "bdc06485-9912-4edf-96b9-92c87a7943a5",
   "metadata": {},
   "outputs": [],
   "source": [
    "data = generate_features_for_series(df2)"
   ]
  },
  {
   "cell_type": "code",
   "execution_count": 11,
   "id": "3e51a4c0-9482-488a-8cd2-84f94e5eaff3",
   "metadata": {},
   "outputs": [
    {
     "data": {
      "text/html": [
       "<div>\n",
       "<style scoped>\n",
       "    .dataframe tbody tr th:only-of-type {\n",
       "        vertical-align: middle;\n",
       "    }\n",
       "\n",
       "    .dataframe tbody tr th {\n",
       "        vertical-align: top;\n",
       "    }\n",
       "\n",
       "    .dataframe thead th {\n",
       "        text-align: right;\n",
       "    }\n",
       "</style>\n",
       "<table border=\"1\" class=\"dataframe\">\n",
       "  <thead>\n",
       "    <tr style=\"text-align: right;\">\n",
       "      <th></th>\n",
       "      <th>payment_date</th>\n",
       "      <th>volume</th>\n",
       "      <th>is_holiday</th>\n",
       "      <th>lag_30d</th>\n",
       "      <th>lag_61d</th>\n",
       "      <th>lag_91d</th>\n",
       "      <th>rolling_7d</th>\n",
       "      <th>rolling_30d</th>\n",
       "      <th>rolling_91d</th>\n",
       "    </tr>\n",
       "  </thead>\n",
       "  <tbody>\n",
       "    <tr>\n",
       "      <th>91</th>\n",
       "      <td>2021-05-04</td>\n",
       "      <td>4585501</td>\n",
       "      <td>0.0</td>\n",
       "      <td>0.0</td>\n",
       "      <td>3298677.0</td>\n",
       "      <td>3396867.0</td>\n",
       "      <td>1.052007e+06</td>\n",
       "      <td>1.837514e+06</td>\n",
       "      <td>2.137795e+06</td>\n",
       "    </tr>\n",
       "    <tr>\n",
       "      <th>92</th>\n",
       "      <td>2021-05-05</td>\n",
       "      <td>4842622</td>\n",
       "      <td>0.0</td>\n",
       "      <td>3707972.0</td>\n",
       "      <td>2632327.0</td>\n",
       "      <td>3504675.0</td>\n",
       "      <td>1.715998e+06</td>\n",
       "      <td>1.960023e+06</td>\n",
       "      <td>2.183332e+06</td>\n",
       "    </tr>\n",
       "    <tr>\n",
       "      <th>93</th>\n",
       "      <td>2021-05-06</td>\n",
       "      <td>4289897</td>\n",
       "      <td>0.0</td>\n",
       "      <td>3929579.0</td>\n",
       "      <td>2489894.0</td>\n",
       "      <td>3321098.0</td>\n",
       "      <td>2.269393e+06</td>\n",
       "      <td>2.088896e+06</td>\n",
       "      <td>2.233610e+06</td>\n",
       "    </tr>\n",
       "    <tr>\n",
       "      <th>94</th>\n",
       "      <td>2021-05-07</td>\n",
       "      <td>0</td>\n",
       "      <td>0.0</td>\n",
       "      <td>3719324.0</td>\n",
       "      <td>2604353.0</td>\n",
       "      <td>3317318.0</td>\n",
       "      <td>2.631876e+06</td>\n",
       "      <td>2.195482e+06</td>\n",
       "      <td>2.276087e+06</td>\n",
       "    </tr>\n",
       "    <tr>\n",
       "      <th>95</th>\n",
       "      <td>2021-05-08</td>\n",
       "      <td>0</td>\n",
       "      <td>1.0</td>\n",
       "      <td>0.0</td>\n",
       "      <td>2141489.0</td>\n",
       "      <td>2763316.0</td>\n",
       "      <td>1.973907e+06</td>\n",
       "      <td>2.052080e+06</td>\n",
       "      <td>2.211456e+06</td>\n",
       "    </tr>\n",
       "    <tr>\n",
       "      <th>...</th>\n",
       "      <td>...</td>\n",
       "      <td>...</td>\n",
       "      <td>...</td>\n",
       "      <td>...</td>\n",
       "      <td>...</td>\n",
       "      <td>...</td>\n",
       "      <td>...</td>\n",
       "      <td>...</td>\n",
       "      <td>...</td>\n",
       "    </tr>\n",
       "    <tr>\n",
       "      <th>724</th>\n",
       "      <td>2023-01-27</td>\n",
       "      <td>7606314</td>\n",
       "      <td>0.0</td>\n",
       "      <td>5576730.0</td>\n",
       "      <td>5560131.0</td>\n",
       "      <td>6605566.0</td>\n",
       "      <td>4.042208e+06</td>\n",
       "      <td>4.284195e+06</td>\n",
       "      <td>4.362926e+06</td>\n",
       "    </tr>\n",
       "    <tr>\n",
       "      <th>725</th>\n",
       "      <td>2023-01-28</td>\n",
       "      <td>6243591</td>\n",
       "      <td>1.0</td>\n",
       "      <td>4879158.0</td>\n",
       "      <td>6110948.0</td>\n",
       "      <td>5888153.0</td>\n",
       "      <td>4.251446e+06</td>\n",
       "      <td>4.322580e+06</td>\n",
       "      <td>4.374148e+06</td>\n",
       "    </tr>\n",
       "    <tr>\n",
       "      <th>726</th>\n",
       "      <td>2023-01-29</td>\n",
       "      <td>6866600</td>\n",
       "      <td>1.0</td>\n",
       "      <td>3997769.0</td>\n",
       "      <td>6505339.0</td>\n",
       "      <td>6081790.0</td>\n",
       "      <td>4.188027e+06</td>\n",
       "      <td>4.301624e+06</td>\n",
       "      <td>4.365966e+06</td>\n",
       "    </tr>\n",
       "    <tr>\n",
       "      <th>727</th>\n",
       "      <td>2023-01-30</td>\n",
       "      <td>8337223</td>\n",
       "      <td>0.0</td>\n",
       "      <td>2698006.0</td>\n",
       "      <td>0.0</td>\n",
       "      <td>0.0</td>\n",
       "      <td>3.815521e+06</td>\n",
       "      <td>4.198165e+06</td>\n",
       "      <td>4.329706e+06</td>\n",
       "    </tr>\n",
       "    <tr>\n",
       "      <th>728</th>\n",
       "      <td>2023-01-31</td>\n",
       "      <td>8643241</td>\n",
       "      <td>0.0</td>\n",
       "      <td>0.0</td>\n",
       "      <td>0.0</td>\n",
       "      <td>7244990.0</td>\n",
       "      <td>2.861641e+06</td>\n",
       "      <td>3.927316e+06</td>\n",
       "      <td>4.235582e+06</td>\n",
       "    </tr>\n",
       "  </tbody>\n",
       "</table>\n",
       "<p>638 rows × 9 columns</p>\n",
       "</div>"
      ],
      "text/plain": [
       "    payment_date   volume  is_holiday    lag_30d    lag_61d    lag_91d  \\\n",
       "91    2021-05-04  4585501         0.0        0.0  3298677.0  3396867.0   \n",
       "92    2021-05-05  4842622         0.0  3707972.0  2632327.0  3504675.0   \n",
       "93    2021-05-06  4289897         0.0  3929579.0  2489894.0  3321098.0   \n",
       "94    2021-05-07        0         0.0  3719324.0  2604353.0  3317318.0   \n",
       "95    2021-05-08        0         1.0        0.0  2141489.0  2763316.0   \n",
       "..           ...      ...         ...        ...        ...        ...   \n",
       "724   2023-01-27  7606314         0.0  5576730.0  5560131.0  6605566.0   \n",
       "725   2023-01-28  6243591         1.0  4879158.0  6110948.0  5888153.0   \n",
       "726   2023-01-29  6866600         1.0  3997769.0  6505339.0  6081790.0   \n",
       "727   2023-01-30  8337223         0.0  2698006.0        0.0        0.0   \n",
       "728   2023-01-31  8643241         0.0        0.0        0.0  7244990.0   \n",
       "\n",
       "       rolling_7d   rolling_30d   rolling_91d  \n",
       "91   1.052007e+06  1.837514e+06  2.137795e+06  \n",
       "92   1.715998e+06  1.960023e+06  2.183332e+06  \n",
       "93   2.269393e+06  2.088896e+06  2.233610e+06  \n",
       "94   2.631876e+06  2.195482e+06  2.276087e+06  \n",
       "95   1.973907e+06  2.052080e+06  2.211456e+06  \n",
       "..            ...           ...           ...  \n",
       "724  4.042208e+06  4.284195e+06  4.362926e+06  \n",
       "725  4.251446e+06  4.322580e+06  4.374148e+06  \n",
       "726  4.188027e+06  4.301624e+06  4.365966e+06  \n",
       "727  3.815521e+06  4.198165e+06  4.329706e+06  \n",
       "728  2.861641e+06  3.927316e+06  4.235582e+06  \n",
       "\n",
       "[638 rows x 9 columns]"
      ]
     },
     "execution_count": 11,
     "metadata": {},
     "output_type": "execute_result"
    }
   ],
   "source": [
    "data"
   ]
  },
  {
   "cell_type": "markdown",
   "id": "e9fcf59b-0b70-4578-bb7e-d901261fc859",
   "metadata": {},
   "source": [
    "### Задача 4. Обучение модели (1/2)\n",
    "Наконец добрались до самого интересного. Вам предстоит обучить модель линейной регрессии и замерить качество работы вашей модели!\n",
    "\n",
    "Вообще говоря, для корректного замера качества нужно было бы разделить выборку на несколько частей. Обучать модель на одних данных, а проверять качество на других данных, которые модель ещё не видела. Но об этом мы поговорим на следующем уроке. А пока просто выполним вычисления на всем датафрейме и найдем MSE и MAE.\n",
    "\n",
    "- Разделите данные на X и y.\n",
    "- Создайте экземпляр LinearRegression, обучите его.\n",
    "- Получите предсказания (пока для тех же X и y). Посчитайте метрики качества.\n",
    "\n",
    "Округлите значение MSE до миллионов и введите полученное значение (\"в миллионах\") в поле ниже. Например, если у вас получилось 123 876 000, введите 124."
   ]
  },
  {
   "cell_type": "code",
   "execution_count": 13,
   "id": "e003e122-44df-4dcb-b4a4-7f6c87539640",
   "metadata": {},
   "outputs": [],
   "source": [
    "model = LinearRegression()"
   ]
  },
  {
   "cell_type": "code",
   "execution_count": 16,
   "id": "6890062e-81cb-4a0f-9115-92fd3f763837",
   "metadata": {},
   "outputs": [
    {
     "name": "stdout",
     "output_type": "stream",
     "text": [
      "Матрица объектов и фичей: \n",
      "\n",
      "     is_holiday    lag_30d    lag_61d    lag_91d    rolling_7d   rolling_30d  \\\n",
      "91          0.0        0.0  3298677.0  3396867.0  1.052007e+06  1.837514e+06   \n",
      "92          0.0  3707972.0  2632327.0  3504675.0  1.715998e+06  1.960023e+06   \n",
      "93          0.0  3929579.0  2489894.0  3321098.0  2.269393e+06  2.088896e+06   \n",
      "94          0.0  3719324.0  2604353.0  3317318.0  2.631876e+06  2.195482e+06   \n",
      "95          1.0        0.0  2141489.0  2763316.0  1.973907e+06  2.052080e+06   \n",
      "..          ...        ...        ...        ...           ...           ...   \n",
      "724         0.0  5576730.0  5560131.0  6605566.0  4.042208e+06  4.284195e+06   \n",
      "725         1.0  4879158.0  6110948.0  5888153.0  4.251446e+06  4.322580e+06   \n",
      "726         1.0  3997769.0  6505339.0  6081790.0  4.188027e+06  4.301624e+06   \n",
      "727         0.0  2698006.0        0.0        0.0  3.815521e+06  4.198165e+06   \n",
      "728         0.0        0.0        0.0  7244990.0  2.861641e+06  3.927316e+06   \n",
      "\n",
      "      rolling_91d  \n",
      "91   2.137795e+06  \n",
      "92   2.183332e+06  \n",
      "93   2.233610e+06  \n",
      "94   2.276087e+06  \n",
      "95   2.211456e+06  \n",
      "..            ...  \n",
      "724  4.362926e+06  \n",
      "725  4.374148e+06  \n",
      "726  4.365966e+06  \n",
      "727  4.329706e+06  \n",
      "728  4.235582e+06  \n",
      "\n",
      "[638 rows x 7 columns]\n",
      "\n",
      " И вектор таргетной переменной: \n",
      "\n",
      "91     4585501\n",
      "92     4842622\n",
      "93     4289897\n",
      "94           0\n",
      "95           0\n",
      "        ...   \n",
      "724    7606314\n",
      "725    6243591\n",
      "726    6866600\n",
      "727    8337223\n",
      "728    8643241\n",
      "Name: volume, Length: 638, dtype: int64\n"
     ]
    }
   ],
   "source": [
    "X_objects = data.drop(['payment_date', 'volume'], axis=1)\n",
    "Y_targets = data['volume']\n",
    "\n",
    "print(\"Матрица объектов и фичей: \\n\")\n",
    "print(X_objects)\n",
    "print(\"\\n И вектор таргетной переменной: \\n\")\n",
    "print(Y_targets)"
   ]
  },
  {
   "cell_type": "code",
   "execution_count": 17,
   "id": "bbb12f26-25df-43a1-a778-b410eefa4b03",
   "metadata": {},
   "outputs": [
    {
     "data": {
      "text/html": [
       "<style>#sk-container-id-1 {color: black;}#sk-container-id-1 pre{padding: 0;}#sk-container-id-1 div.sk-toggleable {background-color: white;}#sk-container-id-1 label.sk-toggleable__label {cursor: pointer;display: block;width: 100%;margin-bottom: 0;padding: 0.3em;box-sizing: border-box;text-align: center;}#sk-container-id-1 label.sk-toggleable__label-arrow:before {content: \"▸\";float: left;margin-right: 0.25em;color: #696969;}#sk-container-id-1 label.sk-toggleable__label-arrow:hover:before {color: black;}#sk-container-id-1 div.sk-estimator:hover label.sk-toggleable__label-arrow:before {color: black;}#sk-container-id-1 div.sk-toggleable__content {max-height: 0;max-width: 0;overflow: hidden;text-align: left;background-color: #f0f8ff;}#sk-container-id-1 div.sk-toggleable__content pre {margin: 0.2em;color: black;border-radius: 0.25em;background-color: #f0f8ff;}#sk-container-id-1 input.sk-toggleable__control:checked~div.sk-toggleable__content {max-height: 200px;max-width: 100%;overflow: auto;}#sk-container-id-1 input.sk-toggleable__control:checked~label.sk-toggleable__label-arrow:before {content: \"▾\";}#sk-container-id-1 div.sk-estimator input.sk-toggleable__control:checked~label.sk-toggleable__label {background-color: #d4ebff;}#sk-container-id-1 div.sk-label input.sk-toggleable__control:checked~label.sk-toggleable__label {background-color: #d4ebff;}#sk-container-id-1 input.sk-hidden--visually {border: 0;clip: rect(1px 1px 1px 1px);clip: rect(1px, 1px, 1px, 1px);height: 1px;margin: -1px;overflow: hidden;padding: 0;position: absolute;width: 1px;}#sk-container-id-1 div.sk-estimator {font-family: monospace;background-color: #f0f8ff;border: 1px dotted black;border-radius: 0.25em;box-sizing: border-box;margin-bottom: 0.5em;}#sk-container-id-1 div.sk-estimator:hover {background-color: #d4ebff;}#sk-container-id-1 div.sk-parallel-item::after {content: \"\";width: 100%;border-bottom: 1px solid gray;flex-grow: 1;}#sk-container-id-1 div.sk-label:hover label.sk-toggleable__label {background-color: #d4ebff;}#sk-container-id-1 div.sk-serial::before {content: \"\";position: absolute;border-left: 1px solid gray;box-sizing: border-box;top: 0;bottom: 0;left: 50%;z-index: 0;}#sk-container-id-1 div.sk-serial {display: flex;flex-direction: column;align-items: center;background-color: white;padding-right: 0.2em;padding-left: 0.2em;position: relative;}#sk-container-id-1 div.sk-item {position: relative;z-index: 1;}#sk-container-id-1 div.sk-parallel {display: flex;align-items: stretch;justify-content: center;background-color: white;position: relative;}#sk-container-id-1 div.sk-item::before, #sk-container-id-1 div.sk-parallel-item::before {content: \"\";position: absolute;border-left: 1px solid gray;box-sizing: border-box;top: 0;bottom: 0;left: 50%;z-index: -1;}#sk-container-id-1 div.sk-parallel-item {display: flex;flex-direction: column;z-index: 1;position: relative;background-color: white;}#sk-container-id-1 div.sk-parallel-item:first-child::after {align-self: flex-end;width: 50%;}#sk-container-id-1 div.sk-parallel-item:last-child::after {align-self: flex-start;width: 50%;}#sk-container-id-1 div.sk-parallel-item:only-child::after {width: 0;}#sk-container-id-1 div.sk-dashed-wrapped {border: 1px dashed gray;margin: 0 0.4em 0.5em 0.4em;box-sizing: border-box;padding-bottom: 0.4em;background-color: white;}#sk-container-id-1 div.sk-label label {font-family: monospace;font-weight: bold;display: inline-block;line-height: 1.2em;}#sk-container-id-1 div.sk-label-container {text-align: center;}#sk-container-id-1 div.sk-container {/* jupyter's `normalize.less` sets `[hidden] { display: none; }` but bootstrap.min.css set `[hidden] { display: none !important; }` so we also need the `!important` here to be able to override the default hidden behavior on the sphinx rendered scikit-learn.org. See: https://github.com/scikit-learn/scikit-learn/issues/21755 */display: inline-block !important;position: relative;}#sk-container-id-1 div.sk-text-repr-fallback {display: none;}</style><div id=\"sk-container-id-1\" class=\"sk-top-container\"><div class=\"sk-text-repr-fallback\"><pre>LinearRegression()</pre><b>In a Jupyter environment, please rerun this cell to show the HTML representation or trust the notebook. <br />On GitHub, the HTML representation is unable to render, please try loading this page with nbviewer.org.</b></div><div class=\"sk-container\" hidden><div class=\"sk-item\"><div class=\"sk-estimator sk-toggleable\"><input class=\"sk-toggleable__control sk-hidden--visually\" id=\"sk-estimator-id-1\" type=\"checkbox\" checked><label for=\"sk-estimator-id-1\" class=\"sk-toggleable__label sk-toggleable__label-arrow\">LinearRegression</label><div class=\"sk-toggleable__content\"><pre>LinearRegression()</pre></div></div></div></div></div>"
      ],
      "text/plain": [
       "LinearRegression()"
      ]
     },
     "execution_count": 17,
     "metadata": {},
     "output_type": "execute_result"
    }
   ],
   "source": [
    "model.fit(X_objects, Y_targets)"
   ]
  },
  {
   "cell_type": "code",
   "execution_count": 19,
   "id": "f9b762cd-125d-4f19-92bb-77f48831510b",
   "metadata": {},
   "outputs": [],
   "source": [
    "preds = model.predict(X_objects)"
   ]
  },
  {
   "cell_type": "code",
   "execution_count": 21,
   "id": "55c879e1-458a-4ab7-aad0-1f5959de67c7",
   "metadata": {},
   "outputs": [],
   "source": [
    "MSE = mean_squared_error(Y_targets, preds)"
   ]
  },
  {
   "cell_type": "code",
   "execution_count": 24,
   "id": "14a9eaed-f657-4241-9f9a-38bd73031821",
   "metadata": {},
   "outputs": [
    {
     "data": {
      "text/plain": [
       "7659275"
      ]
     },
     "execution_count": 24,
     "metadata": {},
     "output_type": "execute_result"
    }
   ],
   "source": [
    "round(MSE / 1000000)"
   ]
  },
  {
   "cell_type": "markdown",
   "id": "0f495999-c897-4735-914e-af78a0e2183e",
   "metadata": {},
   "source": [
    "### Задача 4. Обучение модели (2/2)\n",
    "Округлите значение метрики MAE до миллионов и введите полученное значение в поле ниже. Например, если у вас получилось 123 876 000, введите 124."
   ]
  },
  {
   "cell_type": "code",
   "execution_count": 25,
   "id": "21d32f77-6f18-43d0-b1dc-8df019171cf4",
   "metadata": {},
   "outputs": [
    {
     "data": {
      "text/plain": [
       "2"
      ]
     },
     "execution_count": 25,
     "metadata": {},
     "output_type": "execute_result"
    }
   ],
   "source": [
    "round(mean_absolute_error(Y_targets, preds) / 1000000)"
   ]
  },
  {
   "cell_type": "markdown",
   "id": "2ab54ab3-bc63-43f9-b267-c2fe43238426",
   "metadata": {},
   "source": [
    "### Задача 5. Асимметричные метрики качества (1/2)\n",
    "В машинном обучении бывает полезно считать асимметричные метрики. Особенно в случаях, когда мы хотим дать лишь нижнюю или верхнюю оценку при прогнозировании. Прекрасный пример такой метрики — применение квадратичной ошибки при перепрогнозе, а абсолютной при недопрогнозе на каждом объекте (или наоборот). Далее — усреднение посчитанных по каждому объекту loss'ов. Формулу можно было бы записать следующим образом:\n",
    "$$Asymetric=[Prediction>Target]*(Prediction-Target)^2+[Prediction<Target]*|Prediction-Target|$$\n",
    "\n",
    "Здесь `[Prediction>Target]` равно 1, если условие выполняется, и 0 в противном случае. В коде можно либо использовать такой же подход, либо просто посчитать нужное выражение только для тех строк, где соответствующее условие выполняется, а потом сложить обе части.\n",
    "\n",
    "Метрика, упомянутая выше, сильнее штрафует за перепрогноз, чем за недопрогноз, т.к. в случае перепрогноза (предсказание больше, чем таргет) ошибка возводится в квадрат.\n",
    "\n",
    "Такая метрика может быть полезна, например, при закупке скоропортящихся продуктов. Если мы закупим намного меньше, чем нужно, это неприятно, но решаемо (можно дозаказать, либо в крайнем случае клиент купит альтернативный продукт). Если же мы закупим намного больше, чем нужно, то еда просто испортится.\n",
    "\n",
    "Посчитайте эту метрику. Округлите значение до миллионов и введите полученное значение в поле ниже."
   ]
  },
  {
   "cell_type": "code",
   "execution_count": 37,
   "id": "3f6cff0a-d6b7-4dc4-babd-a3ab140cdcf3",
   "metadata": {},
   "outputs": [],
   "source": [
    "def assymetric_error(\n",
    "        targ: np.array,\n",
    "        pred: np.array,\n",
    "        punish_mode='overestimation'\n",
    "    ):\n",
    "    under_est = (pred - targ)[pred < targ]\n",
    "    over_est = (pred - targ)[pred > targ]\n",
    "    \n",
    "    if punish_mode == 'overestimation':\n",
    "        return (sum(abs(under_est)) + sum(over_est ** 2)) / pred.shape[0]\n",
    "    elif punish_mode == 'underestimation':\n",
    "        return (sum(abs(over_est)) + sum(under_est ** 2)) / pred.shape[0]\n",
    "    else:\n",
    "        raise ValueError('Unknown mode')"
   ]
  },
  {
   "cell_type": "code",
   "execution_count": 38,
   "id": "797774ed-6eb2-4ef3-b466-ffb173fc1a1a",
   "metadata": {},
   "outputs": [
    {
     "data": {
      "text/plain": [
       "4838182"
      ]
     },
     "execution_count": 38,
     "metadata": {},
     "output_type": "execute_result"
    }
   ],
   "source": [
    "round(assymetric_error(Y_targets, preds) / 1_000_000)"
   ]
  },
  {
   "cell_type": "markdown",
   "id": "0106df2a-1948-432e-b315-8490f4b7a887",
   "metadata": {},
   "source": [
    "### Задача 5. Асимметричные метрики качества (2/2)\n",
    "Если мы захотим наоборот сильнее штрафовать модель за недопрогноз, чем за перепрогноз, то знаки больше-меньше в формуле изменятся на противоположные:\n",
    "$$Asymetric=[Prediction<Target]*(Prediction-Target)^2+[Prediction>Target]*|Prediction-Target|$$\n",
    "\n",
    "Продолжая пример с закупками, предположим теперь, что мы закупаем не скоропортящуюся еду, а жизненно необходимые препараты для больницы. Закупить намного больше необходимого тоже нехорошо, т.к. будет лежать без дела. Но закупить намного меньше, чем нужно, — может стоить жизней. Модель нужно сильнее штрафовать за недопрогноз, чем за перепрогноз.\n",
    "\n",
    "Подумайте, в каких ещё задачах есть смысл сильнее штрафовать модель за недопрогноз или наоборот за перепрогноз.\n",
    "\n",
    "Посчитайте и эту асимметричную метрику. Округлите значение до миллионов и введите полученное значение в поле ниже."
   ]
  },
  {
   "cell_type": "code",
   "execution_count": 39,
   "id": "4e44d626-e069-4185-bedb-05b8999b61f9",
   "metadata": {},
   "outputs": [
    {
     "data": {
      "text/plain": [
       "2821095"
      ]
     },
     "execution_count": 39,
     "metadata": {},
     "output_type": "execute_result"
    }
   ],
   "source": [
    "round(assymetric_error(Y_targets, preds, punish_mode='underestimation') / 1_000_000)"
   ]
  },
  {
   "cell_type": "markdown",
   "id": "ef1c5e51-676e-4f5a-ae50-efd32a5c772c",
   "metadata": {},
   "source": [
    "### Задача 6. Интерпретация коэффициентов обученной модели (1/3)\n",
    "Теперь перейдем к интерпретации коэффициентов модели.\n",
    "\n",
    "У каких топ-3 фичей наибольший негативный вклад в формирование прогноза? Иными словами, выберите те фичи, увеличение которых на единицу (при прочих равных) приведет к наибольшему снижению прогноза."
   ]
  },
  {
   "cell_type": "code",
   "execution_count": 43,
   "id": "32e82a6f-cf4d-4b0a-9f32-abe1dc6057f0",
   "metadata": {},
   "outputs": [
    {
     "data": {
      "text/html": [
       "<div>\n",
       "<style scoped>\n",
       "    .dataframe tbody tr th:only-of-type {\n",
       "        vertical-align: middle;\n",
       "    }\n",
       "\n",
       "    .dataframe tbody tr th {\n",
       "        vertical-align: top;\n",
       "    }\n",
       "\n",
       "    .dataframe thead th {\n",
       "        text-align: right;\n",
       "    }\n",
       "</style>\n",
       "<table border=\"1\" class=\"dataframe\">\n",
       "  <thead>\n",
       "    <tr style=\"text-align: right;\">\n",
       "      <th></th>\n",
       "      <th>feature</th>\n",
       "      <th>coef</th>\n",
       "    </tr>\n",
       "  </thead>\n",
       "  <tbody>\n",
       "    <tr>\n",
       "      <th>0</th>\n",
       "      <td>is_holiday</td>\n",
       "      <td>-255284.496169</td>\n",
       "    </tr>\n",
       "    <tr>\n",
       "      <th>1</th>\n",
       "      <td>rolling_30d</td>\n",
       "      <td>-1.581143</td>\n",
       "    </tr>\n",
       "    <tr>\n",
       "      <th>2</th>\n",
       "      <td>lag_91d</td>\n",
       "      <td>-0.073367</td>\n",
       "    </tr>\n",
       "    <tr>\n",
       "      <th>3</th>\n",
       "      <td>lag_61d</td>\n",
       "      <td>-0.054020</td>\n",
       "    </tr>\n",
       "    <tr>\n",
       "      <th>4</th>\n",
       "      <td>lag_30d</td>\n",
       "      <td>-0.025142</td>\n",
       "    </tr>\n",
       "    <tr>\n",
       "      <th>5</th>\n",
       "      <td>rolling_7d</td>\n",
       "      <td>0.320666</td>\n",
       "    </tr>\n",
       "    <tr>\n",
       "      <th>6</th>\n",
       "      <td>rolling_91d</td>\n",
       "      <td>2.042672</td>\n",
       "    </tr>\n",
       "  </tbody>\n",
       "</table>\n",
       "</div>"
      ],
      "text/plain": [
       "       feature           coef\n",
       "0   is_holiday -255284.496169\n",
       "1  rolling_30d      -1.581143\n",
       "2      lag_91d      -0.073367\n",
       "3      lag_61d      -0.054020\n",
       "4      lag_30d      -0.025142\n",
       "5   rolling_7d       0.320666\n",
       "6  rolling_91d       2.042672"
      ]
     },
     "execution_count": 43,
     "metadata": {},
     "output_type": "execute_result"
    }
   ],
   "source": [
    "pd.DataFrame({'feature': X_objects.columns, 'coef': model.coef_}).sort_values('coef').reset_index(drop=True)"
   ]
  },
  {
   "cell_type": "markdown",
   "id": "01acfd9e-51ea-4a94-bd78-8f6ea178ad1e",
   "metadata": {},
   "source": [
    "### Задача 6. Интерпретация коэффициентов обученной модели (2/3)\n",
    "У нас есть обученная модель. Представим, мы используем её для предсказания выручки в такой день, у которого все признаки равны 1. Чему будет равен прогноз модели в этом случае?\n",
    "\n",
    "Это вопрос на понимание того, как работают линейные модели. Постарайтесь ответить на него, не вызывая predict. Только на основе коэффициентов обученной модели.\n",
    "\n",
    "Получив ответ, перепроверьте себя, вызвав `.predict([[1,1,1,1,1,1,1]])`. Убедитесь, что понимаете, почему ответы получаются одинаковыми.\n",
    "\n",
    "Введите ответ в поле ниже с точностью до трех знаков в десятичной части. Используйте точку для разделения целой и дробной части."
   ]
  },
  {
   "cell_type": "code",
   "execution_count": 51,
   "id": "ac8c4dc4-719c-49f5-9a87-1d9d192a3319",
   "metadata": {},
   "outputs": [
    {
     "data": {
      "text/plain": [
       "1486271.702"
      ]
     },
     "execution_count": 51,
     "metadata": {},
     "output_type": "execute_result"
    }
   ],
   "source": [
    "round(model.coef_.sum() + model.intercept_, 3)"
   ]
  },
  {
   "cell_type": "markdown",
   "id": "63048fe6-d81c-4459-852e-0d97d6dba508",
   "metadata": {},
   "source": [
    "### Задача 6. Интерпретация коэффициентов обученной модели (3/3)\n",
    "В продолжение предыдущего вопроса. Каким прогноз окажется, если выбранный день не был выходным? То есть теперь один из признаков равен 0, т.к. день не выходной.\n",
    "\n",
    "Так же, как на предыдущем степе, попробуйте ответить, используя только коэффициенты обученной модели и не вызывая `predict`. А потом перепроверьте себя, используя `predict`. И убедитесь, что  понимаете, почему ответы совпадают.\n",
    "\n",
    "Введите ответ в поле ниже с точностью до трех знаков в десятичной части. Используйте точку для разделения целой и дробной части."
   ]
  },
  {
   "cell_type": "code",
   "execution_count": 54,
   "id": "68e8875c-5a4b-466c-a8f0-f72414ce3698",
   "metadata": {},
   "outputs": [
    {
     "data": {
      "text/plain": [
       "1741556.199"
      ]
     },
     "execution_count": 54,
     "metadata": {},
     "output_type": "execute_result"
    }
   ],
   "source": [
    "round(model.coef_.sum() - model.coef_[0] + model.intercept_, 3)"
   ]
  },
  {
   "cell_type": "markdown",
   "id": "4c0294c5-249a-4a2e-9cb6-e7fd6baf74a9",
   "metadata": {},
   "source": [
    "### Задача 7. Отдельные модели по типам транзакций (1/2)\n",
    "Мы везде использовали данные с суммарной выручкой за день. Но в данных у нас были транзакции 3 типов: 'basic sale', 'fast sale', 'quick sale'. Что если эти три типа \"ведут себя по-разному\", и мы теряем важную информацию, просто складывая их все вместе?\n",
    "\n",
    "### В чём идея\n",
    "Попробуем другой подход. Сейчас наш временной ряд (time series, TS) по сути является суммой трёх рядов по типам транзакций:\n",
    "\n",
    "$$TS=TS_1+TS_2+TS_3$$\n",
    " \n",
    "\n",
    "Например, для даты `2021-02-02` суммарная выручка равна 3396867, но она складывается из 830390 для `basic sale`, 1352338 для `fast sale` и 1214139 для `quick sale`. Так же для остальных дат.\n",
    "\n",
    "---\n",
    "\n",
    "Вместо того, чтобы работать с общей суммой, можно попробовать предсказать выручку отдельно по каждому типу, а потом сложить и получить итоговый результат.\n",
    "\n",
    "Например, если для какой-то даты модель для `basic sale` выдаст предсказание 2 миллиона, модель для `fast sale` предскажет 3 миллиона, а модель для `quick sale` 1 миллион, то можем считать, что итоговым предсказанием для этой даты будет 2 + 3 + 1 = 6 миллионов.\n",
    "\n",
    "Другими словами, если наш временной ряд TS является суммой рядов $TS_1$, $TS_2$, $TS_3$ и для каждого из них есть своя модель, то общее предсказание можно посчитать как сумму предсказаний этих моделей:\n",
    "$$a(TS) = a_1(TS_1)+a_2(TS_2)+a_3(TS_3)$$\n",
    "\n",
    "### Реализация\n",
    "Заново соберите данные, на этот раз с группировкой не только по дате, но и по типу.\n",
    "\n",
    "Дальше для каждого типа транзакции нужно повторить все те же шаги, которые были до этого:\n",
    "\n",
    "1. Возьмите датафрейм с данными по конкретному типу.\n",
    "2. Добавьте недостающие даты со значением 0. Обратите внимание, что после этого этапа могут появиться пропуски в столбце type, что может привести к некорректной работе функции `generate_features_for_series`. Либо удалите этот столбец совсем (мы его уже использовали для фильтрации данных по типу, и он больше не нужен), либо заполните пропуски в нём.\n",
    "3. Вызовите функцию `generate_features_for_series` для генерации признаков.\n",
    "4. Обучите модель.\n",
    "5. Используйте модель для получения предсказаний (тут снова напоминание, что, вообще говоря, неправильно проверять качество модели на той же выборке, на которой мы обучались, но в этом уроке пока делаем так).\n",
    "Можете попробовать для какого-то одного типа транзакций, а потом написать цикл по всем 3 типам.\n",
    "\n",
    "Дальше предсказания всех 3 моделей нужно сложить, как мы обсуждали выше. Для каждой даты предсказанием будет сумма 3 предсказаний по типам транзакций.\n",
    "\n",
    "Для итогового прогноза посчитайте MSE. При подсчёте метрики используйте тот же \"суммарный\" таргет y, что и до этого. Несмотря на то, что мы используем другой подход к решению, сама задача осталась прежней: предсказание суммарной выручки.\n",
    "\n",
    "Округлите значение до миллионов и введите полученное значение в поле ниже."
   ]
  },
  {
   "cell_type": "code",
   "execution_count": 55,
   "id": "99499d7c-a356-44f7-ba84-48629a969069",
   "metadata": {},
   "outputs": [
    {
     "data": {
      "text/plain": [
       "1531"
      ]
     },
     "execution_count": 55,
     "metadata": {},
     "output_type": "execute_result"
    }
   ],
   "source": [
    "query = \"\"\"\n",
    "    SELECT payment_date, \n",
    "        type,\n",
    "        -SUM(amount) AS volume\n",
    "    FROM user_transactions\n",
    "    WHERE type IN ('basic sale', 'fast sale', 'quick sale')\n",
    "    GROUP BY payment_date, type\n",
    "\"\"\"\n",
    "\n",
    "new_df = get_data(query)\n",
    "new_df.shape[0]"
   ]
  },
  {
   "cell_type": "code",
   "execution_count": 57,
   "id": "7fc2cec0-8d2d-4d3b-805d-e69cd8656df1",
   "metadata": {},
   "outputs": [],
   "source": [
    "new_df['payment_date'] = pd.to_datetime(new_df['payment_date'], format='%Y-%m-%d')"
   ]
  },
  {
   "cell_type": "code",
   "execution_count": 58,
   "id": "9a7a0b57-5b0d-4ec0-a6a7-dbd5eaa26419",
   "metadata": {},
   "outputs": [
    {
     "data": {
      "text/html": [
       "<div>\n",
       "<style scoped>\n",
       "    .dataframe tbody tr th:only-of-type {\n",
       "        vertical-align: middle;\n",
       "    }\n",
       "\n",
       "    .dataframe tbody tr th {\n",
       "        vertical-align: top;\n",
       "    }\n",
       "\n",
       "    .dataframe thead th {\n",
       "        text-align: right;\n",
       "    }\n",
       "</style>\n",
       "<table border=\"1\" class=\"dataframe\">\n",
       "  <thead>\n",
       "    <tr style=\"text-align: right;\">\n",
       "      <th></th>\n",
       "      <th>payment_date</th>\n",
       "      <th>type</th>\n",
       "      <th>volume</th>\n",
       "    </tr>\n",
       "  </thead>\n",
       "  <tbody>\n",
       "    <tr>\n",
       "      <th>0</th>\n",
       "      <td>2021-04-27</td>\n",
       "      <td>quick sale</td>\n",
       "      <td>1566030</td>\n",
       "    </tr>\n",
       "    <tr>\n",
       "      <th>1</th>\n",
       "      <td>2021-12-29</td>\n",
       "      <td>quick sale</td>\n",
       "      <td>1237786</td>\n",
       "    </tr>\n",
       "    <tr>\n",
       "      <th>2</th>\n",
       "      <td>2022-07-11</td>\n",
       "      <td>fast sale</td>\n",
       "      <td>2461446</td>\n",
       "    </tr>\n",
       "    <tr>\n",
       "      <th>3</th>\n",
       "      <td>2023-01-08</td>\n",
       "      <td>quick sale</td>\n",
       "      <td>1436429</td>\n",
       "    </tr>\n",
       "    <tr>\n",
       "      <th>4</th>\n",
       "      <td>2022-11-27</td>\n",
       "      <td>fast sale</td>\n",
       "      <td>1771166</td>\n",
       "    </tr>\n",
       "    <tr>\n",
       "      <th>...</th>\n",
       "      <td>...</td>\n",
       "      <td>...</td>\n",
       "      <td>...</td>\n",
       "    </tr>\n",
       "    <tr>\n",
       "      <th>1526</th>\n",
       "      <td>2022-11-20</td>\n",
       "      <td>fast sale</td>\n",
       "      <td>1534786</td>\n",
       "    </tr>\n",
       "    <tr>\n",
       "      <th>1527</th>\n",
       "      <td>2021-04-26</td>\n",
       "      <td>quick sale</td>\n",
       "      <td>1752833</td>\n",
       "    </tr>\n",
       "    <tr>\n",
       "      <th>1528</th>\n",
       "      <td>2021-10-21</td>\n",
       "      <td>fast sale</td>\n",
       "      <td>1880598</td>\n",
       "    </tr>\n",
       "    <tr>\n",
       "      <th>1529</th>\n",
       "      <td>2022-09-28</td>\n",
       "      <td>basic sale</td>\n",
       "      <td>2617040</td>\n",
       "    </tr>\n",
       "    <tr>\n",
       "      <th>1530</th>\n",
       "      <td>2022-05-12</td>\n",
       "      <td>basic sale</td>\n",
       "      <td>2779630</td>\n",
       "    </tr>\n",
       "  </tbody>\n",
       "</table>\n",
       "<p>1531 rows × 3 columns</p>\n",
       "</div>"
      ],
      "text/plain": [
       "     payment_date        type   volume\n",
       "0      2021-04-27  quick sale  1566030\n",
       "1      2021-12-29  quick sale  1237786\n",
       "2      2022-07-11   fast sale  2461446\n",
       "3      2023-01-08  quick sale  1436429\n",
       "4      2022-11-27   fast sale  1771166\n",
       "...           ...         ...      ...\n",
       "1526   2022-11-20   fast sale  1534786\n",
       "1527   2021-04-26  quick sale  1752833\n",
       "1528   2021-10-21   fast sale  1880598\n",
       "1529   2022-09-28  basic sale  2617040\n",
       "1530   2022-05-12  basic sale  2779630\n",
       "\n",
       "[1531 rows x 3 columns]"
      ]
     },
     "execution_count": 58,
     "metadata": {},
     "output_type": "execute_result"
    }
   ],
   "source": [
    "new_df"
   ]
  },
  {
   "cell_type": "code",
   "execution_count": 60,
   "id": "bb6db2a9-243c-4e11-b655-3034ef67cd0a",
   "metadata": {},
   "outputs": [
    {
     "data": {
      "text/html": [
       "<div>\n",
       "<style scoped>\n",
       "    .dataframe tbody tr th:only-of-type {\n",
       "        vertical-align: middle;\n",
       "    }\n",
       "\n",
       "    .dataframe tbody tr th {\n",
       "        vertical-align: top;\n",
       "    }\n",
       "\n",
       "    .dataframe thead th {\n",
       "        text-align: right;\n",
       "    }\n",
       "</style>\n",
       "<table border=\"1\" class=\"dataframe\">\n",
       "  <thead>\n",
       "    <tr style=\"text-align: right;\">\n",
       "      <th></th>\n",
       "      <th>payment_date</th>\n",
       "      <th>type</th>\n",
       "      <th>volume</th>\n",
       "    </tr>\n",
       "  </thead>\n",
       "  <tbody>\n",
       "    <tr>\n",
       "      <th>0</th>\n",
       "      <td>2021-02-02</td>\n",
       "      <td>fast sale</td>\n",
       "      <td>1352338</td>\n",
       "    </tr>\n",
       "    <tr>\n",
       "      <th>1</th>\n",
       "      <td>2021-02-02</td>\n",
       "      <td>basic sale</td>\n",
       "      <td>830390</td>\n",
       "    </tr>\n",
       "    <tr>\n",
       "      <th>2</th>\n",
       "      <td>2021-02-02</td>\n",
       "      <td>quick sale</td>\n",
       "      <td>1214139</td>\n",
       "    </tr>\n",
       "    <tr>\n",
       "      <th>3</th>\n",
       "      <td>2021-02-03</td>\n",
       "      <td>fast sale</td>\n",
       "      <td>1438638</td>\n",
       "    </tr>\n",
       "    <tr>\n",
       "      <th>4</th>\n",
       "      <td>2021-02-03</td>\n",
       "      <td>basic sale</td>\n",
       "      <td>791210</td>\n",
       "    </tr>\n",
       "    <tr>\n",
       "      <th>5</th>\n",
       "      <td>2021-02-03</td>\n",
       "      <td>quick sale</td>\n",
       "      <td>1274827</td>\n",
       "    </tr>\n",
       "    <tr>\n",
       "      <th>6</th>\n",
       "      <td>2021-02-04</td>\n",
       "      <td>fast sale</td>\n",
       "      <td>1229778</td>\n",
       "    </tr>\n",
       "    <tr>\n",
       "      <th>7</th>\n",
       "      <td>2021-02-04</td>\n",
       "      <td>basic sale</td>\n",
       "      <td>819105</td>\n",
       "    </tr>\n",
       "    <tr>\n",
       "      <th>8</th>\n",
       "      <td>2021-02-04</td>\n",
       "      <td>quick sale</td>\n",
       "      <td>1272215</td>\n",
       "    </tr>\n",
       "    <tr>\n",
       "      <th>9</th>\n",
       "      <td>2021-02-05</td>\n",
       "      <td>fast sale</td>\n",
       "      <td>1436396</td>\n",
       "    </tr>\n",
       "  </tbody>\n",
       "</table>\n",
       "</div>"
      ],
      "text/plain": [
       "  payment_date        type   volume\n",
       "0   2021-02-02   fast sale  1352338\n",
       "1   2021-02-02  basic sale   830390\n",
       "2   2021-02-02  quick sale  1214139\n",
       "3   2021-02-03   fast sale  1438638\n",
       "4   2021-02-03  basic sale   791210\n",
       "5   2021-02-03  quick sale  1274827\n",
       "6   2021-02-04   fast sale  1229778\n",
       "7   2021-02-04  basic sale   819105\n",
       "8   2021-02-04  quick sale  1272215\n",
       "9   2021-02-05   fast sale  1436396"
      ]
     },
     "execution_count": 60,
     "metadata": {},
     "output_type": "execute_result"
    }
   ],
   "source": [
    "new_df2 = all_dates.to_frame(name='payment_date').merge(new_df, on='payment_date', how='left').fillna(0)\n",
    "new_df2['volume'] = new_df2['volume'].astype(int)\n",
    "new_df2.head(10)"
   ]
  },
  {
   "cell_type": "code",
   "execution_count": null,
   "id": "dc1448d8-0ca8-4932-b068-aef8e3dacbf5",
   "metadata": {},
   "outputs": [],
   "source": []
  },
  {
   "cell_type": "code",
   "execution_count": null,
   "id": "8833db94-5579-4c17-9007-3170be4d635b",
   "metadata": {},
   "outputs": [],
   "source": [
    "# Отбросим столбец с типом, т.к. он больше не нужен, а пропуски в нём могут вызвать проблемы\n"
   ]
  },
  {
   "cell_type": "code",
   "execution_count": 76,
   "id": "556f0d28-8e6e-49a6-bcc8-90a7a79d10bf",
   "metadata": {},
   "outputs": [],
   "source": [
    "preds = {}\n",
    "targets = {}\n",
    "\n",
    "for type_ in new_df2.type.unique()[:3]:\n",
    "    data_ = new_df2[new_df2['type'] == type_]\n",
    "    data = data_.drop('type', axis=1)\n",
    "    \n",
    "    data = all_dates.to_frame(name='payment_date').merge(data, on='payment_date', how='left').fillna(0)\n",
    "    data['volume'] = data['volume'].astype(int)\n",
    "    data = generate_features_for_series(data)\n",
    "    \n",
    "    X_ = data.drop(['payment_date', 'volume'], axis=1)\n",
    "    Y_ = data['volume']\n",
    "\n",
    "    model = LinearRegression()\n",
    "\n",
    "    model.fit(X_, Y_)\n",
    "    \n",
    "    targets[type_] = Y_\n",
    "    preds[type_] = model.predict(X_)"
   ]
  },
  {
   "cell_type": "code",
   "execution_count": 79,
   "id": "4e47fa91-923e-4405-83f9-87bf916f3410",
   "metadata": {},
   "outputs": [
    {
     "data": {
      "text/plain": [
       "7648099"
      ]
     },
     "execution_count": 79,
     "metadata": {},
     "output_type": "execute_result"
    }
   ],
   "source": [
    "MSE = round(mean_squared_error(sum(targets.values()), sum(preds.values())) / 1_000_000)\n",
    "MSE"
   ]
  },
  {
   "cell_type": "markdown",
   "id": "43718865-f7c7-4e2f-9b31-74718c46a1d4",
   "metadata": {},
   "source": [
    "### Задача 7. Отдельные модели по типам транзакций (2/2)\n",
    "Сравните полученные значения MSE для сегментированной и несегментированной моделей.\n",
    "\n",
    "Почему разница в качестве работы моделей такая мизерная?"
   ]
  },
  {
   "cell_type": "code",
   "execution_count": null,
   "id": "9498a180-a61d-406e-89c6-0dab8e475e3a",
   "metadata": {},
   "outputs": [],
   "source": []
  }
 ],
 "metadata": {
  "kernelspec": {
   "display_name": "Python 3 (ipykernel)",
   "language": "python",
   "name": "python3"
  },
  "language_info": {
   "codemirror_mode": {
    "name": "ipython",
    "version": 3
   },
   "file_extension": ".py",
   "mimetype": "text/x-python",
   "name": "python",
   "nbconvert_exporter": "python",
   "pygments_lexer": "ipython3",
   "version": "3.8.10"
  }
 },
 "nbformat": 4,
 "nbformat_minor": 5
}
