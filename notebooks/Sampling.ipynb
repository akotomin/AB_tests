{
 "cells": [
  {
   "cell_type": "markdown",
   "id": "752f552c",
   "metadata": {},
   "source": [
    "Домашняя работа по этому уроку будет выстроена вокруг двух кейсов. Первые три задания — по первому кейсу. Четвертое и пятое задание — по второму.\n",
    "\n",
    "Общее количество баллов за задания: 106.\n",
    "\n",
    "В первых трех заданиях вам нужно самому подготовить выборку для возможного воздействия (например, рассылки пушей). Для этого вам в начале нужно сформировать стратифицированную выборку, а после проверить, репрезентативна ли она.\n",
    "\n",
    "В качестве генеральной совокупности используйте следующий датасет: `homework_task_2.csv`. Обратите внимание, что в данных есть строки с пустыми значениями. Удалите их перед тем, как приступать к следующим заданиям.\n",
    "\n",
    "В четвертом и пятом заданиях вам нужно будет проверить, есть ли проблемы в уже сформированных выборках. Будем работать с новыми данными: `homework_task_3.csv`"
   ]
  },
  {
   "cell_type": "code",
   "execution_count": 1,
   "id": "abd48a8b",
   "metadata": {},
   "outputs": [],
   "source": [
    "import pandas as pd\n",
    "import numpy as np\n",
    "from statsmodels.stats.proportion import proportions_ztest\n",
    "import scipy.stats as ss"
   ]
  },
  {
   "cell_type": "code",
   "execution_count": 2,
   "id": "fb3c92a0",
   "metadata": {},
   "outputs": [],
   "source": [
    "df = pd.read_csv(\"homework_task_2.csv\")"
   ]
  },
  {
   "cell_type": "code",
   "execution_count": 3,
   "id": "9d413319",
   "metadata": {},
   "outputs": [
    {
     "name": "stdout",
     "output_type": "stream",
     "text": [
      "136584 0\n"
     ]
    }
   ],
   "source": [
    "print(df.shape[0], df[\"passport_id\"].isna().sum())"
   ]
  },
  {
   "cell_type": "code",
   "execution_count": 4,
   "id": "58714f87",
   "metadata": {},
   "outputs": [],
   "source": [
    "df.dropna(inplace=True)"
   ]
  },
  {
   "cell_type": "code",
   "execution_count": 5,
   "id": "5b0a9171",
   "metadata": {},
   "outputs": [
    {
     "data": {
      "text/plain": [
       "130112"
      ]
     },
     "execution_count": 5,
     "metadata": {},
     "output_type": "execute_result"
    }
   ],
   "source": [
    "df.shape[0]"
   ]
  },
  {
   "cell_type": "markdown",
   "id": "0554cb60",
   "metadata": {},
   "source": [
    "Описание данных, на основе которых подготовлены датасеты:\n",
    "\n",
    "1. Паспорт пользователя (`user_passports`)\n",
    "- `execution_date`  —  дата, на которую актуальны данные о зарегистрированных пользователях\n",
    "- `created_at`  — дата регистрации аккаунта пользователя\n",
    "- `global_id`  — ID пользователя в продукте\n",
    "- `user_type_cars_name`  — тип кабинета пользователя((a) `cars_simple` — простой кабинет, (b) `cars_seller` — кабинет продавца, (c) `cars_dealer` — кабинет дилера)\n",
    "- `user_type_cars_id`  — id типа кабинета пользователя((a) 0 — простой кабинет, (b) 6 — кабинет продавца, (c) 7 — кабинет дилера)\n",
    "\n",
    "2. Размещенные объявления (`dp_live_adverts`) — таблица с оптимизированными данными `live_adverts`\n",
    "\n",
    "- `execution_date`  — дата, на которую объявление находилось в live\n",
    "- `advert_id`  — уникальный номер объявления\n",
    "- `created_at`  — дата, когда было создано объявление\n",
    "- `price`  — стоимость авто в объявлении\n",
    "- `region`  — город, в котором продается авто\n",
    "- `user_id`  — ID пользователя в продукте (global_id в паспорте пользователя)\n",
    "- `passport_id`  — локальный ID пользователя\n",
    "- `platform`  — платформа, через которую было размещено объявление((a) `android` — мобильное приложение, android, (b) `ios` — мобильное приложение, ios, (c) `desktop` — подано через сайт, (d) `mobile` — подано в мобильной версии сайта)\n",
    "- `auto_brand`  — марка авто\n",
    "- `auto_model`  — модель авто\n",
    "- `year`  — год выпуска авто\n",
    "- `userType`  — тип кабинета пользователя на момент размещения объявления в live\n",
    "\n",
    "3. Транзакции (`user_transaction`)\n",
    "\n",
    "- `payment_date`  — дата платежа\n",
    "- `type`  — вид оплачиваемой услуги\n",
    "- `sign`  — \"-1\" указывает, что была приобретена услуга и списана оплата\n",
    "- `amount`  — количество списанных денег"
   ]
  },
  {
   "cell_type": "code",
   "execution_count": 6,
   "id": "25be9a5a",
   "metadata": {},
   "outputs": [
    {
     "data": {
      "text/html": [
       "<div>\n",
       "<style scoped>\n",
       "    .dataframe tbody tr th:only-of-type {\n",
       "        vertical-align: middle;\n",
       "    }\n",
       "\n",
       "    .dataframe tbody tr th {\n",
       "        vertical-align: top;\n",
       "    }\n",
       "\n",
       "    .dataframe thead th {\n",
       "        text-align: right;\n",
       "    }\n",
       "</style>\n",
       "<table border=\"1\" class=\"dataframe\">\n",
       "  <thead>\n",
       "    <tr style=\"text-align: right;\">\n",
       "      <th></th>\n",
       "      <th>passport_id</th>\n",
       "      <th>region</th>\n",
       "      <th>platform</th>\n",
       "      <th>user_type_cars_name</th>\n",
       "      <th>number_ads</th>\n",
       "      <th>revenue</th>\n",
       "    </tr>\n",
       "  </thead>\n",
       "  <tbody>\n",
       "    <tr>\n",
       "      <th>0</th>\n",
       "      <td>144161634</td>\n",
       "      <td>Санкт-Петербург</td>\n",
       "      <td>android</td>\n",
       "      <td>cars_seller</td>\n",
       "      <td>2</td>\n",
       "      <td>1080</td>\n",
       "    </tr>\n",
       "    <tr>\n",
       "      <th>1</th>\n",
       "      <td>132683716</td>\n",
       "      <td>Калининград</td>\n",
       "      <td>android</td>\n",
       "      <td>cars_simple</td>\n",
       "      <td>1</td>\n",
       "      <td>190</td>\n",
       "    </tr>\n",
       "    <tr>\n",
       "      <th>2</th>\n",
       "      <td>142653188</td>\n",
       "      <td>Санкт-Петербург</td>\n",
       "      <td>android</td>\n",
       "      <td>cars_seller</td>\n",
       "      <td>1</td>\n",
       "      <td>0</td>\n",
       "    </tr>\n",
       "    <tr>\n",
       "      <th>3</th>\n",
       "      <td>124199631</td>\n",
       "      <td>Казань</td>\n",
       "      <td>android</td>\n",
       "      <td>cars_simple</td>\n",
       "      <td>1</td>\n",
       "      <td>190</td>\n",
       "    </tr>\n",
       "    <tr>\n",
       "      <th>4</th>\n",
       "      <td>144045240</td>\n",
       "      <td>Казань</td>\n",
       "      <td>android</td>\n",
       "      <td>cars_simple</td>\n",
       "      <td>1</td>\n",
       "      <td>0</td>\n",
       "    </tr>\n",
       "  </tbody>\n",
       "</table>\n",
       "</div>"
      ],
      "text/plain": [
       "   passport_id           region platform user_type_cars_name  number_ads  \\\n",
       "0    144161634  Санкт-Петербург  android         cars_seller           2   \n",
       "1    132683716      Калининград  android         cars_simple           1   \n",
       "2    142653188  Санкт-Петербург  android         cars_seller           1   \n",
       "3    124199631           Казань  android         cars_simple           1   \n",
       "4    144045240           Казань  android         cars_simple           1   \n",
       "\n",
       "   revenue  \n",
       "0     1080  \n",
       "1      190  \n",
       "2        0  \n",
       "3      190  \n",
       "4        0  "
      ]
     },
     "execution_count": 6,
     "metadata": {},
     "output_type": "execute_result"
    }
   ],
   "source": [
    "df.head()"
   ]
  },
  {
   "cell_type": "markdown",
   "id": "fc7a2673",
   "metadata": {},
   "source": [
    "### Задание 1\n",
    "Разделите пользователей на две группы по размеру выручки: платящие (revenue > 0) и неплатящие (revenue = 0). Добавьте эту информацию в новый столбец 'vas'. Найдите среднюю по всему датасету долю платящих.\n",
    "\n",
    "Введите ответ в поле ниже с точностью до ТРЕХ знаков в десятичной части.\n",
    "\n",
    "Используйте точку для разделения целой и дробной части."
   ]
  },
  {
   "cell_type": "code",
   "execution_count": 7,
   "id": "1e31fd85",
   "metadata": {},
   "outputs": [],
   "source": [
    "df[\"vas\"] = df[\"revenue\"].apply(lambda x: 1 if x > 0 else 0)"
   ]
  },
  {
   "cell_type": "code",
   "execution_count": 8,
   "id": "e1caa54f",
   "metadata": {},
   "outputs": [
    {
     "data": {
      "text/plain": [
       "0.523"
      ]
     },
     "execution_count": 8,
     "metadata": {},
     "output_type": "execute_result"
    }
   ],
   "source": [
    "float(round(df[df[\"vas\"] == 1].shape[0] / df.shape[0], 3))"
   ]
  },
  {
   "cell_type": "markdown",
   "id": "9b74d5b9",
   "metadata": {},
   "source": [
    "### Задание 2 (1/4)\n",
    "Получите случайную стратифицированную выборку размером ~5% от исходного датасета `homework_task_2` (уже очищенного от данных с пропусками). Для формирования выборки используйте параметр `frac=0.05`.\n",
    "\n",
    "Необходимо стратифицировать выборку по следующим параметрам `['region', 'platform', 'user_type_cars_name', 'vas']`, сохранив соотношения как в исходном датасете. Порядок указания параметров, по которым мы стратифицируем, стоит оставить таким же, как в задании.\n",
    "\n",
    "При формировании стратифицированной выборки используйте `np.random.seed(42)`, чтобы у всех получился одинаковый датасет."
   ]
  },
  {
   "cell_type": "code",
   "execution_count": 9,
   "id": "2008f0b4",
   "metadata": {},
   "outputs": [
    {
     "name": "stderr",
     "output_type": "stream",
     "text": [
      "/var/folders/m6/gnxqn1753_g808tzdcqqmdq80000gn/T/ipykernel_37227/983177164.py:5: FutureWarning: DataFrameGroupBy.apply operated on the grouping columns. This behavior is deprecated, and in a future version of pandas the grouping columns will be excluded from the operation. Either pass `include_groups=False` to exclude the groupings or explicitly select the grouping columns after groupby to silence this warning.\n",
      "  ).apply(lambda x: x.sample(frac=0.05))\n"
     ]
    }
   ],
   "source": [
    "# Получим 5%-ю стратифицированную выборку по платформе\n",
    "np.random.seed(42)\n",
    "strat_sample_dataset_1 = df.groupby(\n",
    "    [\"region\", \"platform\", \"user_type_cars_name\", \"vas\"], group_keys=False\n",
    ").apply(lambda x: x.sample(frac=0.05))"
   ]
  },
  {
   "cell_type": "markdown",
   "id": "ceb1ab80",
   "metadata": {},
   "source": [
    "#### Задание 2 (2/4)\n",
    "Найдите размер полученной выборки.\n",
    "Введите ответ в поле ниже в формате целого числа."
   ]
  },
  {
   "cell_type": "code",
   "execution_count": 10,
   "id": "b6d9965f",
   "metadata": {},
   "outputs": [
    {
     "data": {
      "text/plain": [
       "6478"
      ]
     },
     "execution_count": 10,
     "metadata": {},
     "output_type": "execute_result"
    }
   ],
   "source": [
    "strat_sample_dataset_1.shape[0]"
   ]
  },
  {
   "cell_type": "markdown",
   "id": "cad68e7c",
   "metadata": {},
   "source": [
    "#### Задание 2 (3/4)\n",
    "Найдите средний процент платящих пользователей по стратифицированной выборке.\n",
    "\n",
    "Введите ответ в поле ниже с точностью до трех знаков в десятичной части.\n",
    "\n",
    "Используйте точку для разделения целой и дробной части."
   ]
  },
  {
   "cell_type": "code",
   "execution_count": 11,
   "id": "e7ddcd6b",
   "metadata": {},
   "outputs": [
    {
     "data": {
      "text/plain": [
       "0.522"
      ]
     },
     "execution_count": 11,
     "metadata": {},
     "output_type": "execute_result"
    }
   ],
   "source": [
    "float(\n",
    "    round(\n",
    "        strat_sample_dataset_1[strat_sample_dataset_1[\"vas\"] == 1].shape[0]\n",
    "        / strat_sample_dataset_1.shape[0],\n",
    "        3,\n",
    "    )\n",
    ")"
   ]
  },
  {
   "cell_type": "markdown",
   "id": "380a0ad4",
   "metadata": {},
   "source": [
    "### Задание 2 (4/4)\n",
    "Найдите долю платформы `android` в стратифицированной выборке.\n",
    "\n",
    "Введите ответ в поле ниже с точностью до трех знаков в десятичной части.\n",
    "\n",
    "Используйте точку для разделения целой и дробной части."
   ]
  },
  {
   "cell_type": "code",
   "execution_count": 12,
   "id": "479bd389",
   "metadata": {},
   "outputs": [
    {
     "data": {
      "text/html": [
       "<div>\n",
       "<style scoped>\n",
       "    .dataframe tbody tr th:only-of-type {\n",
       "        vertical-align: middle;\n",
       "    }\n",
       "\n",
       "    .dataframe tbody tr th {\n",
       "        vertical-align: top;\n",
       "    }\n",
       "\n",
       "    .dataframe thead th {\n",
       "        text-align: right;\n",
       "    }\n",
       "</style>\n",
       "<table border=\"1\" class=\"dataframe\">\n",
       "  <thead>\n",
       "    <tr style=\"text-align: right;\">\n",
       "      <th></th>\n",
       "      <th>passport_id</th>\n",
       "      <th>region</th>\n",
       "      <th>platform</th>\n",
       "      <th>user_type_cars_name</th>\n",
       "      <th>number_ads</th>\n",
       "      <th>revenue</th>\n",
       "      <th>vas</th>\n",
       "    </tr>\n",
       "  </thead>\n",
       "  <tbody>\n",
       "    <tr>\n",
       "      <th>37149</th>\n",
       "      <td>123719335</td>\n",
       "      <td>Волгоград</td>\n",
       "      <td>android</td>\n",
       "      <td>cars_seller</td>\n",
       "      <td>1</td>\n",
       "      <td>0</td>\n",
       "      <td>0</td>\n",
       "    </tr>\n",
       "    <tr>\n",
       "      <th>36801</th>\n",
       "      <td>135496561</td>\n",
       "      <td>Волгоград</td>\n",
       "      <td>android</td>\n",
       "      <td>cars_seller</td>\n",
       "      <td>1</td>\n",
       "      <td>205</td>\n",
       "      <td>1</td>\n",
       "    </tr>\n",
       "    <tr>\n",
       "      <th>80767</th>\n",
       "      <td>142257024</td>\n",
       "      <td>Волгоград</td>\n",
       "      <td>android</td>\n",
       "      <td>cars_seller</td>\n",
       "      <td>2</td>\n",
       "      <td>410</td>\n",
       "      <td>1</td>\n",
       "    </tr>\n",
       "    <tr>\n",
       "      <th>103975</th>\n",
       "      <td>135092709</td>\n",
       "      <td>Волгоград</td>\n",
       "      <td>android</td>\n",
       "      <td>cars_seller</td>\n",
       "      <td>2</td>\n",
       "      <td>720</td>\n",
       "      <td>1</td>\n",
       "    </tr>\n",
       "    <tr>\n",
       "      <th>108591</th>\n",
       "      <td>123972460</td>\n",
       "      <td>Волгоград</td>\n",
       "      <td>android</td>\n",
       "      <td>cars_seller</td>\n",
       "      <td>1</td>\n",
       "      <td>205</td>\n",
       "      <td>1</td>\n",
       "    </tr>\n",
       "  </tbody>\n",
       "</table>\n",
       "</div>"
      ],
      "text/plain": [
       "        passport_id     region platform user_type_cars_name  number_ads  \\\n",
       "37149     123719335  Волгоград  android         cars_seller           1   \n",
       "36801     135496561  Волгоград  android         cars_seller           1   \n",
       "80767     142257024  Волгоград  android         cars_seller           2   \n",
       "103975    135092709  Волгоград  android         cars_seller           2   \n",
       "108591    123972460  Волгоград  android         cars_seller           1   \n",
       "\n",
       "        revenue  vas  \n",
       "37149         0    0  \n",
       "36801       205    1  \n",
       "80767       410    1  \n",
       "103975      720    1  \n",
       "108591      205    1  "
      ]
     },
     "execution_count": 12,
     "metadata": {},
     "output_type": "execute_result"
    }
   ],
   "source": [
    "strat_sample_dataset_1.head()"
   ]
  },
  {
   "cell_type": "code",
   "execution_count": 13,
   "id": "a5f46e6a",
   "metadata": {},
   "outputs": [
    {
     "data": {
      "text/plain": [
       "0.642"
      ]
     },
     "execution_count": 13,
     "metadata": {},
     "output_type": "execute_result"
    }
   ],
   "source": [
    "float(\n",
    "    round(\n",
    "        strat_sample_dataset_1[\n",
    "            strat_sample_dataset_1[\"platform\"] == \"android\"\n",
    "        ].shape[0]\n",
    "        / strat_sample_dataset_1.shape[0],\n",
    "        3,\n",
    "    )\n",
    ")"
   ]
  },
  {
   "cell_type": "markdown",
   "id": "d368311a",
   "metadata": {},
   "source": [
    "### Задание 3 (1/3)\n",
    "\n",
    "Проверьте полученную выборку на репрезентативность по нескольким параметрам:\n",
    "- по параметру неплатящих пользователей (`выборка['vas'] = 0`);\n",
    "- по платформе Андроид (`выборка['platform'] = 'android'`);\n",
    "- по типу профессионального кабинета cars_seller (`выборка['user_type_cars_name'] = 'cars_seller'`).\n",
    "\n",
    "Введите значение p-value через `z-тест` с точностью до трех знаков в десятичной части для каждого из параметров в этом и следующих степах.\n",
    "\n",
    "p-value для проверки по параметру неплатящих пользователей:\n",
    "\n"
   ]
  },
  {
   "cell_type": "code",
   "execution_count": 14,
   "id": "fcdf93b1",
   "metadata": {},
   "outputs": [
    {
     "data": {
      "text/html": [
       "<div>\n",
       "<style scoped>\n",
       "    .dataframe tbody tr th:only-of-type {\n",
       "        vertical-align: middle;\n",
       "    }\n",
       "\n",
       "    .dataframe tbody tr th {\n",
       "        vertical-align: top;\n",
       "    }\n",
       "\n",
       "    .dataframe thead th {\n",
       "        text-align: right;\n",
       "    }\n",
       "</style>\n",
       "<table border=\"1\" class=\"dataframe\">\n",
       "  <thead>\n",
       "    <tr style=\"text-align: right;\">\n",
       "      <th></th>\n",
       "      <th>passport_id</th>\n",
       "      <th>region</th>\n",
       "      <th>platform</th>\n",
       "      <th>user_type_cars_name</th>\n",
       "      <th>number_ads</th>\n",
       "      <th>revenue</th>\n",
       "      <th>vas</th>\n",
       "    </tr>\n",
       "  </thead>\n",
       "  <tbody>\n",
       "    <tr>\n",
       "      <th>37149</th>\n",
       "      <td>123719335</td>\n",
       "      <td>Волгоград</td>\n",
       "      <td>android</td>\n",
       "      <td>cars_seller</td>\n",
       "      <td>1</td>\n",
       "      <td>0</td>\n",
       "      <td>0</td>\n",
       "    </tr>\n",
       "    <tr>\n",
       "      <th>36801</th>\n",
       "      <td>135496561</td>\n",
       "      <td>Волгоград</td>\n",
       "      <td>android</td>\n",
       "      <td>cars_seller</td>\n",
       "      <td>1</td>\n",
       "      <td>205</td>\n",
       "      <td>1</td>\n",
       "    </tr>\n",
       "    <tr>\n",
       "      <th>80767</th>\n",
       "      <td>142257024</td>\n",
       "      <td>Волгоград</td>\n",
       "      <td>android</td>\n",
       "      <td>cars_seller</td>\n",
       "      <td>2</td>\n",
       "      <td>410</td>\n",
       "      <td>1</td>\n",
       "    </tr>\n",
       "    <tr>\n",
       "      <th>103975</th>\n",
       "      <td>135092709</td>\n",
       "      <td>Волгоград</td>\n",
       "      <td>android</td>\n",
       "      <td>cars_seller</td>\n",
       "      <td>2</td>\n",
       "      <td>720</td>\n",
       "      <td>1</td>\n",
       "    </tr>\n",
       "    <tr>\n",
       "      <th>108591</th>\n",
       "      <td>123972460</td>\n",
       "      <td>Волгоград</td>\n",
       "      <td>android</td>\n",
       "      <td>cars_seller</td>\n",
       "      <td>1</td>\n",
       "      <td>205</td>\n",
       "      <td>1</td>\n",
       "    </tr>\n",
       "  </tbody>\n",
       "</table>\n",
       "</div>"
      ],
      "text/plain": [
       "        passport_id     region platform user_type_cars_name  number_ads  \\\n",
       "37149     123719335  Волгоград  android         cars_seller           1   \n",
       "36801     135496561  Волгоград  android         cars_seller           1   \n",
       "80767     142257024  Волгоград  android         cars_seller           2   \n",
       "103975    135092709  Волгоград  android         cars_seller           2   \n",
       "108591    123972460  Волгоград  android         cars_seller           1   \n",
       "\n",
       "        revenue  vas  \n",
       "37149         0    0  \n",
       "36801       205    1  \n",
       "80767       410    1  \n",
       "103975      720    1  \n",
       "108591      205    1  "
      ]
     },
     "execution_count": 14,
     "metadata": {},
     "output_type": "execute_result"
    }
   ],
   "source": [
    "strat_sample_dataset_1.head()"
   ]
  },
  {
   "cell_type": "code",
   "execution_count": 15,
   "id": "4e227414",
   "metadata": {},
   "outputs": [
    {
     "name": "stdout",
     "output_type": "stream",
     "text": [
      "Z-статистика: 0.093, p-значение: 0.926\n"
     ]
    }
   ],
   "source": [
    "sample_success = strat_sample_dataset_1[\n",
    "    strat_sample_dataset_1[\"vas\"] == 0\n",
    "].shape[0]\n",
    "sample_size = strat_sample_dataset_1.shape[0]\n",
    "population_prop = df[df[\"vas\"] == 0].shape[0] / df.shape[0]\n",
    "\n",
    "z_stat, p_value = proportions_ztest(\n",
    "    count=sample_success, nobs=sample_size, value=population_prop\n",
    ")\n",
    "\n",
    "print(f\"Z-статистика: {z_stat:.3f}, p-значение: {p_value:.3f}\")"
   ]
  },
  {
   "cell_type": "code",
   "execution_count": 16,
   "id": "59900220",
   "metadata": {},
   "outputs": [],
   "source": [
    "def sample_representativity_ztest_check(main_df, sample_df, parameter, value):\n",
    "    \"\"\"проверка стратифицированной выборки на репрезентативность по выбранному параметру\n",
    "    main_df - генеральная совокупность\n",
    "    sample_df - выборка\n",
    "    parameter - проверяемый параметр\n",
    "    значение проверяемого параметра  для z-test\n",
    "    \"\"\"\n",
    "    count = np.array(\n",
    "        [\n",
    "            len(sample_df[sample_df[parameter] == value]),\n",
    "            len(main_df[main_df[parameter] == value]),\n",
    "        ]\n",
    "    )\n",
    "    nobs = np.array([len(sample_df), len(main_df)])\n",
    "    stat, pval = proportions_ztest(count, nobs)\n",
    "    print(\"p-value =\", \"{0:0.3f}\".format(pval))\n",
    "\n",
    "    if pval < 0.05:\n",
    "        print(\"выборка по выбранному значению параметра не репрезентативна\")\n",
    "    else:\n",
    "        print(\"выборка по выбранному значению параметра репрезентативна\")"
   ]
  },
  {
   "cell_type": "code",
   "execution_count": 17,
   "id": "b362f6fe",
   "metadata": {},
   "outputs": [
    {
     "name": "stdout",
     "output_type": "stream",
     "text": [
      "p-value = 0.928\n",
      "выборка по выбранному значению параметра репрезентативна\n"
     ]
    }
   ],
   "source": [
    "sample_representativity_ztest_check(df, strat_sample_dataset_1, \"vas\", 0)"
   ]
  },
  {
   "cell_type": "markdown",
   "id": "45b3687c",
   "metadata": {},
   "source": [
    "### Задание 3 (2/3)\n",
    "p-value для проверки по платформе Андроид:"
   ]
  },
  {
   "cell_type": "code",
   "execution_count": 18,
   "id": "6e2b9a6c",
   "metadata": {},
   "outputs": [
    {
     "name": "stdout",
     "output_type": "stream",
     "text": [
      "p-value = 0.836\n",
      "выборка по выбранному значению параметра репрезентативна\n"
     ]
    }
   ],
   "source": [
    "sample_representativity_ztest_check(\n",
    "    df, strat_sample_dataset_1, \"platform\", \"android\"\n",
    ")"
   ]
  },
  {
   "cell_type": "markdown",
   "id": "34b717a1",
   "metadata": {},
   "source": [
    "### Задание 3 (3/3)\n",
    "p-value для проверки по типу профессионального кабинета:"
   ]
  },
  {
   "cell_type": "code",
   "execution_count": 19,
   "id": "c98968c3",
   "metadata": {},
   "outputs": [
    {
     "name": "stdout",
     "output_type": "stream",
     "text": [
      "p-value = 0.843\n",
      "выборка по выбранному значению параметра репрезентативна\n"
     ]
    }
   ],
   "source": [
    "sample_representativity_ztest_check(\n",
    "    df, strat_sample_dataset_1, \"user_type_cars_name\", \"cars_seller\"\n",
    ")"
   ]
  },
  {
   "cell_type": "markdown",
   "id": "50f65d75",
   "metadata": {},
   "source": [
    "### Задание 4\n",
    "Переходим к работе с новым датасетом (`homework_task_3.csv`, скачать данные можно в первом степе). В предложенном датасете пользователи разбиты на контрольную (А) и тестовую группы (B).\n",
    "\n",
    "Дизайном эксперимента предполагается, что группы представлены в равных пропорциях. Проверьте, присутствует ли в данных нарушение сплитования (SRM) с помощью критерия chi-квадрат.\n",
    "\n",
    "Присутствует ли нарушение SRM согласно chi-квадрат критерию на уровне значимости alpha = 0.05:"
   ]
  },
  {
   "cell_type": "code",
   "execution_count": 20,
   "id": "74675c80",
   "metadata": {},
   "outputs": [],
   "source": [
    "df = pd.read_csv(\"homework_task_3.csv\")"
   ]
  },
  {
   "cell_type": "code",
   "execution_count": 21,
   "id": "de5d1096",
   "metadata": {},
   "outputs": [
    {
     "data": {
      "text/html": [
       "<div>\n",
       "<style scoped>\n",
       "    .dataframe tbody tr th:only-of-type {\n",
       "        vertical-align: middle;\n",
       "    }\n",
       "\n",
       "    .dataframe tbody tr th {\n",
       "        vertical-align: top;\n",
       "    }\n",
       "\n",
       "    .dataframe thead th {\n",
       "        text-align: right;\n",
       "    }\n",
       "</style>\n",
       "<table border=\"1\" class=\"dataframe\">\n",
       "  <thead>\n",
       "    <tr style=\"text-align: right;\">\n",
       "      <th></th>\n",
       "      <th>Unnamed: 0</th>\n",
       "      <th>passport_id</th>\n",
       "      <th>region</th>\n",
       "      <th>platform</th>\n",
       "      <th>user_type_cars_name</th>\n",
       "      <th>number_ads</th>\n",
       "      <th>revenue</th>\n",
       "      <th>vas</th>\n",
       "      <th>combined</th>\n",
       "      <th>combined_weight</th>\n",
       "      <th>group</th>\n",
       "    </tr>\n",
       "  </thead>\n",
       "  <tbody>\n",
       "    <tr>\n",
       "      <th>0</th>\n",
       "      <td>105602</td>\n",
       "      <td>136957831</td>\n",
       "      <td>Волгоград</td>\n",
       "      <td>android</td>\n",
       "      <td>cars_seller</td>\n",
       "      <td>1</td>\n",
       "      <td>0</td>\n",
       "      <td>0</td>\n",
       "      <td>('Волгоград', 'android', 'cars_seller', 0)</td>\n",
       "      <td>0.000007</td>\n",
       "      <td>['A']</td>\n",
       "    </tr>\n",
       "    <tr>\n",
       "      <th>1</th>\n",
       "      <td>46619</td>\n",
       "      <td>142530464</td>\n",
       "      <td>Волгоград</td>\n",
       "      <td>android</td>\n",
       "      <td>cars_seller</td>\n",
       "      <td>1</td>\n",
       "      <td>0</td>\n",
       "      <td>0</td>\n",
       "      <td>('Волгоград', 'android', 'cars_seller', 0)</td>\n",
       "      <td>0.000007</td>\n",
       "      <td>['B']</td>\n",
       "    </tr>\n",
       "    <tr>\n",
       "      <th>2</th>\n",
       "      <td>97503</td>\n",
       "      <td>143220356</td>\n",
       "      <td>Волгоград</td>\n",
       "      <td>android</td>\n",
       "      <td>cars_seller</td>\n",
       "      <td>2</td>\n",
       "      <td>0</td>\n",
       "      <td>0</td>\n",
       "      <td>('Волгоград', 'android', 'cars_seller', 0)</td>\n",
       "      <td>0.000007</td>\n",
       "      <td>['B']</td>\n",
       "    </tr>\n",
       "    <tr>\n",
       "      <th>3</th>\n",
       "      <td>35633</td>\n",
       "      <td>137497307</td>\n",
       "      <td>Волгоград</td>\n",
       "      <td>android</td>\n",
       "      <td>cars_seller</td>\n",
       "      <td>1</td>\n",
       "      <td>0</td>\n",
       "      <td>0</td>\n",
       "      <td>('Волгоград', 'android', 'cars_seller', 0)</td>\n",
       "      <td>0.000007</td>\n",
       "      <td>['A']</td>\n",
       "    </tr>\n",
       "    <tr>\n",
       "      <th>4</th>\n",
       "      <td>52222</td>\n",
       "      <td>131622431</td>\n",
       "      <td>Волгоград</td>\n",
       "      <td>android</td>\n",
       "      <td>cars_seller</td>\n",
       "      <td>1</td>\n",
       "      <td>0</td>\n",
       "      <td>0</td>\n",
       "      <td>('Волгоград', 'android', 'cars_seller', 0)</td>\n",
       "      <td>0.000007</td>\n",
       "      <td>['A']</td>\n",
       "    </tr>\n",
       "  </tbody>\n",
       "</table>\n",
       "</div>"
      ],
      "text/plain": [
       "   Unnamed: 0  passport_id     region platform user_type_cars_name  \\\n",
       "0      105602    136957831  Волгоград  android         cars_seller   \n",
       "1       46619    142530464  Волгоград  android         cars_seller   \n",
       "2       97503    143220356  Волгоград  android         cars_seller   \n",
       "3       35633    137497307  Волгоград  android         cars_seller   \n",
       "4       52222    131622431  Волгоград  android         cars_seller   \n",
       "\n",
       "   number_ads  revenue  vas                                    combined  \\\n",
       "0           1        0    0  ('Волгоград', 'android', 'cars_seller', 0)   \n",
       "1           1        0    0  ('Волгоград', 'android', 'cars_seller', 0)   \n",
       "2           2        0    0  ('Волгоград', 'android', 'cars_seller', 0)   \n",
       "3           1        0    0  ('Волгоград', 'android', 'cars_seller', 0)   \n",
       "4           1        0    0  ('Волгоград', 'android', 'cars_seller', 0)   \n",
       "\n",
       "   combined_weight  group  \n",
       "0         0.000007  ['A']  \n",
       "1         0.000007  ['B']  \n",
       "2         0.000007  ['B']  \n",
       "3         0.000007  ['A']  \n",
       "4         0.000007  ['A']  "
      ]
     },
     "execution_count": 21,
     "metadata": {},
     "output_type": "execute_result"
    }
   ],
   "source": [
    "df.head()"
   ]
  },
  {
   "cell_type": "code",
   "execution_count": 22,
   "id": "b984e56b",
   "metadata": {},
   "outputs": [],
   "source": [
    "observed = [\n",
    "    df[df[\"group\"] == \"['A']\"].shape[0],\n",
    "    df[df[\"group\"] == \"['B']\"].shape[0],\n",
    "]\n",
    "ratio = 50\n",
    "alpha = 0.05"
   ]
  },
  {
   "cell_type": "code",
   "execution_count": 23,
   "id": "68358d6d",
   "metadata": {},
   "outputs": [
    {
     "name": "stdout",
     "output_type": "stream",
     "text": [
      "Real sample sizes: [11748, 14270]\n",
      "Expected sample sizes: [13009.0, 13009.0]\n",
      "SRM, присутствует!!!\n",
      "Power_divergenceResult(statistic=244.46475516949803, pvalue=4.180479887875548e-55)\n"
     ]
    }
   ],
   "source": [
    "total_traffic = sum(observed)\n",
    "\n",
    "expected = [\n",
    "    (total_traffic * ratio) / 100,\n",
    "    (total_traffic * (100 - ratio) / 100),\n",
    "]  # ожидаемые размеры групп если бы ratio выполнялось полностью\n",
    "print(\"Real sample sizes:\", observed)\n",
    "print(\"Expected sample sizes:\", expected)\n",
    "\n",
    "chi = ss.chisquare(\n",
    "    observed, f_exp=expected\n",
    ")  # считаем результаты точечной оценки доли через хи-квадрат критерий\n",
    "\n",
    "if chi[1] < alpha:\n",
    "    print(\"SRM, присутствует!!!\")\n",
    "else:\n",
    "    print(\"SRM отсутствует\")\n",
    "print(chi)"
   ]
  },
  {
   "cell_type": "markdown",
   "id": "677cb4e2",
   "metadata": {},
   "source": [
    "### Задание 5\n",
    "Используя метод SSRM, рассмотренный в лекции, определите, на каком числе пользователей метод позволит сказать о присутствии SRM для датасета из предыдущего задания.\n",
    "\n",
    "Для выполнения задания нужно установить модуль `!pip install ssrm-test -q`\n",
    "\n",
    "Введите ответ в поле ниже. В ответе должно быть целое число.\n",
    "\n",
    ">**Внимание!**\n",
    ">\n",
    ">В нашем учебном датасете мы явно не указываем дату появления пользователя в тесте. Для простоты допускаем, что пользователи уже отсортированы по мере появления в тесте. В реальных данных нужно следить за сохранением последовательности наблюдений в последовательном тестировании."
   ]
  },
  {
   "cell_type": "code",
   "execution_count": 24,
   "id": "557484ba",
   "metadata": {},
   "outputs": [],
   "source": [
    "!pip install ssrm-test -q"
   ]
  },
  {
   "cell_type": "code",
   "execution_count": 25,
   "id": "f52669f5",
   "metadata": {},
   "outputs": [
    {
     "data": {
      "text/plain": [
       "array([[1, 0],\n",
       "       [0, 1],\n",
       "       [1, 0],\n",
       "       ...,\n",
       "       [1, 0],\n",
       "       [1, 0],\n",
       "       [1, 0]])"
      ]
     },
     "execution_count": 25,
     "metadata": {},
     "output_type": "execute_result"
    }
   ],
   "source": [
    "from scipy.stats import multinomial\n",
    "\n",
    "np.random.seed(1)\n",
    "\n",
    "# Планируемое распределение трафика между группами\n",
    "p_0 = [0.5, 0.5]\n",
    "\n",
    "# Реальное распределение трафика между группами\n",
    "p = [0.51, 0.49]\n",
    "\n",
    "# Заданное число пользователей (большой размер выбори потребует время для проведения вычислений)\n",
    "n = 163707\n",
    "\n",
    "# Получение синтетических данных\n",
    "data = multinomial.rvs(1, p, size=n)\n",
    "data"
   ]
  },
  {
   "cell_type": "code",
   "execution_count": 26,
   "id": "94f2f4da",
   "metadata": {},
   "outputs": [
    {
     "data": {
      "text/html": [
       "<div>\n",
       "<style scoped>\n",
       "    .dataframe tbody tr th:only-of-type {\n",
       "        vertical-align: middle;\n",
       "    }\n",
       "\n",
       "    .dataframe tbody tr th {\n",
       "        vertical-align: top;\n",
       "    }\n",
       "\n",
       "    .dataframe thead th {\n",
       "        text-align: right;\n",
       "    }\n",
       "</style>\n",
       "<table border=\"1\" class=\"dataframe\">\n",
       "  <thead>\n",
       "    <tr style=\"text-align: right;\">\n",
       "      <th></th>\n",
       "      <th>Unnamed: 0</th>\n",
       "      <th>passport_id</th>\n",
       "      <th>region</th>\n",
       "      <th>platform</th>\n",
       "      <th>user_type_cars_name</th>\n",
       "      <th>number_ads</th>\n",
       "      <th>revenue</th>\n",
       "      <th>vas</th>\n",
       "      <th>combined</th>\n",
       "      <th>combined_weight</th>\n",
       "      <th>group</th>\n",
       "    </tr>\n",
       "  </thead>\n",
       "  <tbody>\n",
       "    <tr>\n",
       "      <th>0</th>\n",
       "      <td>105602</td>\n",
       "      <td>136957831</td>\n",
       "      <td>Волгоград</td>\n",
       "      <td>android</td>\n",
       "      <td>cars_seller</td>\n",
       "      <td>1</td>\n",
       "      <td>0</td>\n",
       "      <td>0</td>\n",
       "      <td>('Волгоград', 'android', 'cars_seller', 0)</td>\n",
       "      <td>0.000007</td>\n",
       "      <td>['A']</td>\n",
       "    </tr>\n",
       "    <tr>\n",
       "      <th>1</th>\n",
       "      <td>46619</td>\n",
       "      <td>142530464</td>\n",
       "      <td>Волгоград</td>\n",
       "      <td>android</td>\n",
       "      <td>cars_seller</td>\n",
       "      <td>1</td>\n",
       "      <td>0</td>\n",
       "      <td>0</td>\n",
       "      <td>('Волгоград', 'android', 'cars_seller', 0)</td>\n",
       "      <td>0.000007</td>\n",
       "      <td>['B']</td>\n",
       "    </tr>\n",
       "    <tr>\n",
       "      <th>2</th>\n",
       "      <td>97503</td>\n",
       "      <td>143220356</td>\n",
       "      <td>Волгоград</td>\n",
       "      <td>android</td>\n",
       "      <td>cars_seller</td>\n",
       "      <td>2</td>\n",
       "      <td>0</td>\n",
       "      <td>0</td>\n",
       "      <td>('Волгоград', 'android', 'cars_seller', 0)</td>\n",
       "      <td>0.000007</td>\n",
       "      <td>['B']</td>\n",
       "    </tr>\n",
       "    <tr>\n",
       "      <th>3</th>\n",
       "      <td>35633</td>\n",
       "      <td>137497307</td>\n",
       "      <td>Волгоград</td>\n",
       "      <td>android</td>\n",
       "      <td>cars_seller</td>\n",
       "      <td>1</td>\n",
       "      <td>0</td>\n",
       "      <td>0</td>\n",
       "      <td>('Волгоград', 'android', 'cars_seller', 0)</td>\n",
       "      <td>0.000007</td>\n",
       "      <td>['A']</td>\n",
       "    </tr>\n",
       "    <tr>\n",
       "      <th>4</th>\n",
       "      <td>52222</td>\n",
       "      <td>131622431</td>\n",
       "      <td>Волгоград</td>\n",
       "      <td>android</td>\n",
       "      <td>cars_seller</td>\n",
       "      <td>1</td>\n",
       "      <td>0</td>\n",
       "      <td>0</td>\n",
       "      <td>('Волгоград', 'android', 'cars_seller', 0)</td>\n",
       "      <td>0.000007</td>\n",
       "      <td>['A']</td>\n",
       "    </tr>\n",
       "    <tr>\n",
       "      <th>...</th>\n",
       "      <td>...</td>\n",
       "      <td>...</td>\n",
       "      <td>...</td>\n",
       "      <td>...</td>\n",
       "      <td>...</td>\n",
       "      <td>...</td>\n",
       "      <td>...</td>\n",
       "      <td>...</td>\n",
       "      <td>...</td>\n",
       "      <td>...</td>\n",
       "      <td>...</td>\n",
       "    </tr>\n",
       "    <tr>\n",
       "      <th>26013</th>\n",
       "      <td>115718</td>\n",
       "      <td>137800551</td>\n",
       "      <td>Челябинск</td>\n",
       "      <td>ios</td>\n",
       "      <td>cars_simple</td>\n",
       "      <td>1</td>\n",
       "      <td>715</td>\n",
       "      <td>1</td>\n",
       "      <td>('Челябинск', 'ios', 'cars_simple', 1)</td>\n",
       "      <td>0.000007</td>\n",
       "      <td>['A']</td>\n",
       "    </tr>\n",
       "    <tr>\n",
       "      <th>26014</th>\n",
       "      <td>49803</td>\n",
       "      <td>132964441</td>\n",
       "      <td>Челябинск</td>\n",
       "      <td>ios</td>\n",
       "      <td>cars_simple</td>\n",
       "      <td>1</td>\n",
       "      <td>1365</td>\n",
       "      <td>1</td>\n",
       "      <td>('Челябинск', 'ios', 'cars_simple', 1)</td>\n",
       "      <td>0.000007</td>\n",
       "      <td>['B']</td>\n",
       "    </tr>\n",
       "    <tr>\n",
       "      <th>26015</th>\n",
       "      <td>6330</td>\n",
       "      <td>142012244</td>\n",
       "      <td>Челябинск</td>\n",
       "      <td>ios</td>\n",
       "      <td>cars_simple</td>\n",
       "      <td>1</td>\n",
       "      <td>190</td>\n",
       "      <td>1</td>\n",
       "      <td>('Челябинск', 'ios', 'cars_simple', 1)</td>\n",
       "      <td>0.000007</td>\n",
       "      <td>['A']</td>\n",
       "    </tr>\n",
       "    <tr>\n",
       "      <th>26016</th>\n",
       "      <td>70319</td>\n",
       "      <td>143397390</td>\n",
       "      <td>Челябинск</td>\n",
       "      <td>ios</td>\n",
       "      <td>cars_simple</td>\n",
       "      <td>1</td>\n",
       "      <td>360</td>\n",
       "      <td>1</td>\n",
       "      <td>('Челябинск', 'ios', 'cars_simple', 1)</td>\n",
       "      <td>0.000007</td>\n",
       "      <td>['B']</td>\n",
       "    </tr>\n",
       "    <tr>\n",
       "      <th>26017</th>\n",
       "      <td>127052</td>\n",
       "      <td>124480358</td>\n",
       "      <td>Челябинск</td>\n",
       "      <td>mobile</td>\n",
       "      <td>cars_simple</td>\n",
       "      <td>1</td>\n",
       "      <td>250</td>\n",
       "      <td>1</td>\n",
       "      <td>('Челябинск', 'mobile', 'cars_simple', 1)</td>\n",
       "      <td>0.000007</td>\n",
       "      <td>['B']</td>\n",
       "    </tr>\n",
       "  </tbody>\n",
       "</table>\n",
       "<p>26018 rows × 11 columns</p>\n",
       "</div>"
      ],
      "text/plain": [
       "       Unnamed: 0  passport_id     region platform user_type_cars_name  \\\n",
       "0          105602    136957831  Волгоград  android         cars_seller   \n",
       "1           46619    142530464  Волгоград  android         cars_seller   \n",
       "2           97503    143220356  Волгоград  android         cars_seller   \n",
       "3           35633    137497307  Волгоград  android         cars_seller   \n",
       "4           52222    131622431  Волгоград  android         cars_seller   \n",
       "...           ...          ...        ...      ...                 ...   \n",
       "26013      115718    137800551  Челябинск      ios         cars_simple   \n",
       "26014       49803    132964441  Челябинск      ios         cars_simple   \n",
       "26015        6330    142012244  Челябинск      ios         cars_simple   \n",
       "26016       70319    143397390  Челябинск      ios         cars_simple   \n",
       "26017      127052    124480358  Челябинск   mobile         cars_simple   \n",
       "\n",
       "       number_ads  revenue  vas                                    combined  \\\n",
       "0               1        0    0  ('Волгоград', 'android', 'cars_seller', 0)   \n",
       "1               1        0    0  ('Волгоград', 'android', 'cars_seller', 0)   \n",
       "2               2        0    0  ('Волгоград', 'android', 'cars_seller', 0)   \n",
       "3               1        0    0  ('Волгоград', 'android', 'cars_seller', 0)   \n",
       "4               1        0    0  ('Волгоград', 'android', 'cars_seller', 0)   \n",
       "...           ...      ...  ...                                         ...   \n",
       "26013           1      715    1      ('Челябинск', 'ios', 'cars_simple', 1)   \n",
       "26014           1     1365    1      ('Челябинск', 'ios', 'cars_simple', 1)   \n",
       "26015           1      190    1      ('Челябинск', 'ios', 'cars_simple', 1)   \n",
       "26016           1      360    1      ('Челябинск', 'ios', 'cars_simple', 1)   \n",
       "26017           1      250    1   ('Челябинск', 'mobile', 'cars_simple', 1)   \n",
       "\n",
       "       combined_weight  group  \n",
       "0             0.000007  ['A']  \n",
       "1             0.000007  ['B']  \n",
       "2             0.000007  ['B']  \n",
       "3             0.000007  ['A']  \n",
       "4             0.000007  ['A']  \n",
       "...                ...    ...  \n",
       "26013         0.000007  ['A']  \n",
       "26014         0.000007  ['B']  \n",
       "26015         0.000007  ['A']  \n",
       "26016         0.000007  ['B']  \n",
       "26017         0.000007  ['B']  \n",
       "\n",
       "[26018 rows x 11 columns]"
      ]
     },
     "execution_count": 26,
     "metadata": {},
     "output_type": "execute_result"
    }
   ],
   "source": [
    "df"
   ]
  },
  {
   "cell_type": "code",
   "execution_count": 27,
   "id": "a06470d3",
   "metadata": {},
   "outputs": [],
   "source": [
    "df[\"group_a\"] = df[\"group\"].apply(lambda x: 1 if \"['A']\" in x else 0)\n",
    "df[\"group_b\"] = df[\"group\"].apply(lambda x: 1 if \"['B']\" in x else 0)"
   ]
  },
  {
   "cell_type": "code",
   "execution_count": 28,
   "id": "9627e1a2",
   "metadata": {},
   "outputs": [],
   "source": [
    "data = df[[\"group_a\", \"group_b\"]]"
   ]
  },
  {
   "cell_type": "code",
   "execution_count": 31,
   "id": "a7c627b2",
   "metadata": {},
   "outputs": [
    {
     "data": {
      "image/png": "[encoded data removed]",
      "text/plain": [
       "<Figure size 640x480 with 1 Axes>"
      ]
     },
     "metadata": {},
     "output_type": "display_data"
    }
   ],
   "source": [
    "from ssrm_test import ssrm_test\n",
    "import matplotlib.pyplot as plt\n",
    "\n",
    "p_0 = [0.5, 0.5]\n",
    "n = df[\"passport_id\"].nunique()\n",
    "\n",
    "pvals = ssrm_test.sequential_p_values(data.values, p_0)\n",
    "fig = plt.figure()\n",
    "plt.plot(pvals)\n",
    "fig.suptitle(\"Последовательное p-value для тестировния SRM\", fontsize=20)\n",
    "plt.xlabel(\"Трафик\", fontsize=16)\n",
    "plt.ylabel(\"p-value\", fontsize=16)\n",
    "plt.ylim(0, 1)\n",
    "plt.show()"
   ]
  },
  {
   "cell_type": "code",
   "execution_count": 32,
   "id": "22422f85",
   "metadata": {},
   "outputs": [
    {
     "name": "stdout",
     "output_type": "stream",
     "text": [
      "SSRM отклонило нулевую гипотезу об отсутствии SRM при уровне значимости alpha=0.05 после 3023 пользователей\n",
      "Это 12% от общего числа пользователей для этого эксперимента\n"
     ]
    }
   ],
   "source": [
    "sig_reached = np.argmax(np.array(pvals) < 0.05)\n",
    "print(\n",
    "    \"SSRM отклонило нулевую гипотезу об отсутствии SRM при уровне значимости alpha=0.05 после {} пользователей\".format(\n",
    "        sig_reached\n",
    "    )\n",
    ")\n",
    "print(\n",
    "    \"Это {}% от общего числа пользователей для этого эксперимента\".format(\n",
    "        round(100 * sig_reached / n), 3\n",
    "    )\n",
    ")"
   ]
  }
 ],
 "metadata": {
  "kernelspec": {
   "display_name": ".venv",
   "language": "python",
   "name": "python3"
  },
  "language_info": {
   "codemirror_mode": {
    "name": "ipython",
    "version": 3
   },
   "file_extension": ".py",
   "mimetype": "text/x-python",
   "name": "python",
   "nbconvert_exporter": "python",
   "pygments_lexer": "ipython3",
   "version": "3.11.2"
  }
 },
 "nbformat": 4,
 "nbformat_minor": 5
}
