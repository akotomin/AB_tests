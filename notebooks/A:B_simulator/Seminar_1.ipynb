{
 "cells": [
  {
   "cell_type": "code",
   "execution_count": 1,
   "id": "9f3a398d",
   "metadata": {},
   "outputs": [],
   "source": [
    "import pandas as pd"
   ]
  },
  {
   "cell_type": "markdown",
   "id": "7dad8208",
   "metadata": {},
   "source": [
    "### Задача 1. Популярные товары\n",
    "\n",
    "Определите топ-3 товара по суммарной выручке."
   ]
  },
  {
   "cell_type": "code",
   "execution_count": 2,
   "id": "49df484c",
   "metadata": {},
   "outputs": [],
   "source": [
    "df_sales_detail = pd.read_csv('2022-04-01T12_df_sales_detail.csv')"
   ]
  },
  {
   "cell_type": "code",
   "execution_count": 3,
   "id": "b3758b6c",
   "metadata": {},
   "outputs": [],
   "source": [
    "top_3 = df_sales_detail.groupby('good').agg({'price':'sum'}).sort_values('price', ascending=False).reset_index().head(3)"
   ]
  },
  {
   "cell_type": "code",
   "execution_count": 4,
   "id": "56ab6aeb",
   "metadata": {},
   "outputs": [
    {
     "data": {
      "text/html": [
       "<div>\n",
       "<style scoped>\n",
       "    .dataframe tbody tr th:only-of-type {\n",
       "        vertical-align: middle;\n",
       "    }\n",
       "\n",
       "    .dataframe tbody tr th {\n",
       "        vertical-align: top;\n",
       "    }\n",
       "\n",
       "    .dataframe thead th {\n",
       "        text-align: right;\n",
       "    }\n",
       "</style>\n",
       "<table border=\"1\" class=\"dataframe\">\n",
       "  <thead>\n",
       "    <tr style=\"text-align: right;\">\n",
       "      <th></th>\n",
       "      <th>good</th>\n",
       "      <th>price</th>\n",
       "    </tr>\n",
       "  </thead>\n",
       "  <tbody>\n",
       "    <tr>\n",
       "      <th>0</th>\n",
       "      <td>chefs pizza</td>\n",
       "      <td>24558240</td>\n",
       "    </tr>\n",
       "    <tr>\n",
       "      <th>1</th>\n",
       "      <td>double pepperoni pizza</td>\n",
       "      <td>22558380</td>\n",
       "    </tr>\n",
       "    <tr>\n",
       "      <th>2</th>\n",
       "      <td>chicken bbq pizza</td>\n",
       "      <td>17622540</td>\n",
       "    </tr>\n",
       "  </tbody>\n",
       "</table>\n",
       "</div>"
      ],
      "text/plain": [
       "                     good     price\n",
       "0             chefs pizza  24558240\n",
       "1  double pepperoni pizza  22558380\n",
       "2       chicken bbq pizza  17622540"
      ]
     },
     "execution_count": 4,
     "metadata": {},
     "output_type": "execute_result"
    }
   ],
   "source": [
    "top_3"
   ]
  },
  {
   "cell_type": "markdown",
   "id": "f6f386d8",
   "metadata": {},
   "source": [
    "### Задача 2. Время от захода на сайт до покупки\n",
    "\n",
    "Оцените средний срок, который проходит от захода пользователя на сайт до совершения покупки. Будем считать, что заход на сайт относится к покупке, если он был совершён не ранее, чем за два часа до совершения покупки. Другими словами, для каждой покупки нужно посчитать время, которое проходит от покупки до первого захода на сайт того же пользователя в течение двух часов перед покупкой. И от полученных значений времени посчитать среднее."
   ]
  },
  {
   "cell_type": "code",
   "execution_count": 5,
   "id": "3c89b007",
   "metadata": {},
   "outputs": [],
   "source": [
    "df_sales = pd.read_csv('2022-04-01T12_df_sales.csv')"
   ]
  },
  {
   "cell_type": "code",
   "execution_count": 6,
   "id": "b326206d",
   "metadata": {},
   "outputs": [],
   "source": [
    "df_web_logs = pd.read_csv('2022-04-01T12_df_web_logs.csv')"
   ]
  },
  {
   "cell_type": "code",
   "execution_count": 7,
   "id": "7b54d3b9",
   "metadata": {},
   "outputs": [],
   "source": [
    "df_merged = df_web_logs.merge(df_sales, on='user_id', how='inner', suffixes=('_left', '_right'))"
   ]
  },
  {
   "cell_type": "code",
   "execution_count": 8,
   "id": "091e86cc",
   "metadata": {},
   "outputs": [],
   "source": [
    "df_merged[['date_right', 'date_left']] = df_merged[['date_right', 'date_left']].apply(pd.to_datetime)"
   ]
  },
  {
   "cell_type": "code",
   "execution_count": 9,
   "id": "94d4efd1",
   "metadata": {},
   "outputs": [],
   "source": [
    "df_delta = df_merged.groupby('user_id').agg(lend_date=('date_left', 'min'),\n",
    "                                buy_date=('date_right', 'min'))"
   ]
  },
  {
   "cell_type": "code",
   "execution_count": 10,
   "id": "40adefdc",
   "metadata": {},
   "outputs": [
    {
     "data": {
      "text/plain": [
       "17"
      ]
     },
     "execution_count": 10,
     "metadata": {},
     "output_type": "execute_result"
    }
   ],
   "source": [
    "df_delta['deliver_delta'] = df_delta['buy_date'] - df_delta['lend_date']\n",
    "round(df_delta.query('(buy_date - lend_date) <= \"2 hours\"').deliver_delta.mean().seconds / 60)"
   ]
  },
  {
   "cell_type": "markdown",
   "id": "0184f7b2",
   "metadata": {},
   "source": [
    "### Задача 3. Удержание клиентов\n",
    "\n",
    "Интересно, как много пользователей возвращается к нам из месяца в месяц. Какая доля пользователей, совершивших покупку в феврале, совершила покупку и в марте?\n",
    "\n",
    "Ответ округлите с точностью до 2-го знака после точки."
   ]
  },
  {
   "cell_type": "code",
   "execution_count": 11,
   "id": "7e959295",
   "metadata": {},
   "outputs": [],
   "source": [
    "df_sales['date'] = df_sales.date.apply(pd.to_datetime)"
   ]
  },
  {
   "cell_type": "code",
   "execution_count": 69,
   "id": "3d25df47",
   "metadata": {},
   "outputs": [],
   "source": [
    "february_users = df_sales[df_sales['date'].dt.month == 2]['user_id'].unique()"
   ]
  },
  {
   "cell_type": "code",
   "execution_count": 70,
   "id": "6bdcc0f7",
   "metadata": {},
   "outputs": [],
   "source": [
    "march_users = df_sales[df_sales['date'].dt.month == 3]['user_id'].unique()"
   ]
  },
  {
   "cell_type": "code",
   "execution_count": 71,
   "id": "91943fc2",
   "metadata": {},
   "outputs": [
    {
     "data": {
      "text/plain": [
       "0.66"
      ]
     },
     "execution_count": 71,
     "metadata": {},
     "output_type": "execute_result"
    }
   ],
   "source": [
    "round(len(set(february_users) & set(march_users)) / len(february_users), 2)"
   ]
  }
 ],
 "metadata": {
  "kernelspec": {
   "display_name": "Python 3 (ipykernel)",
   "language": "python",
   "name": "python3"
  },
  "language_info": {
   "codemirror_mode": {
    "name": "ipython",
    "version": 3
   },
   "file_extension": ".py",
   "mimetype": "text/x-python",
   "name": "python",
   "nbconvert_exporter": "python",
   "pygments_lexer": "ipython3",
   "version": "3.11.2"
  }
 },
 "nbformat": 4,
 "nbformat_minor": 5
}
