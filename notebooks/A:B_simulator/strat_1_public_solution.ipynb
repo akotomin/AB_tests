{
 "cells": [
  {
   "cell_type": "code",
   "execution_count": 1,
   "metadata": {},
   "outputs": [],
   "source": [
    "import pandas as pd\n",
    "import numpy as np\n",
    "import matplotlib.pyplot as plt"
   ]
  },
  {
   "cell_type": "markdown",
   "metadata": {},
   "source": [
    "## 1. Загрузка данных"
   ]
  },
  {
   "cell_type": "code",
   "execution_count": 2,
   "metadata": {},
   "outputs": [
    {
     "data": {
      "text/html": [
       "<div>\n",
       "<style scoped>\n",
       "    .dataframe tbody tr th:only-of-type {\n",
       "        vertical-align: middle;\n",
       "    }\n",
       "\n",
       "    .dataframe tbody tr th {\n",
       "        vertical-align: top;\n",
       "    }\n",
       "\n",
       "    .dataframe thead th {\n",
       "        text-align: right;\n",
       "    }\n",
       "</style>\n",
       "<table border=\"1\" class=\"dataframe\">\n",
       "  <thead>\n",
       "    <tr style=\"text-align: right;\">\n",
       "      <th></th>\n",
       "      <th>x1</th>\n",
       "      <th>x2</th>\n",
       "      <th>x3</th>\n",
       "      <th>x4</th>\n",
       "      <th>x5</th>\n",
       "      <th>x6</th>\n",
       "      <th>x7</th>\n",
       "      <th>x8</th>\n",
       "      <th>x9</th>\n",
       "      <th>x10</th>\n",
       "      <th>y</th>\n",
       "    </tr>\n",
       "  </thead>\n",
       "  <tbody>\n",
       "    <tr>\n",
       "      <th>0</th>\n",
       "      <td>0.869</td>\n",
       "      <td>30</td>\n",
       "      <td>33.8</td>\n",
       "      <td>0</td>\n",
       "      <td>1</td>\n",
       "      <td>0.2</td>\n",
       "      <td>1992</td>\n",
       "      <td>1</td>\n",
       "      <td>1</td>\n",
       "      <td>1</td>\n",
       "      <td>1903</td>\n",
       "    </tr>\n",
       "    <tr>\n",
       "      <th>1</th>\n",
       "      <td>0.759</td>\n",
       "      <td>27</td>\n",
       "      <td>21.7</td>\n",
       "      <td>2</td>\n",
       "      <td>0</td>\n",
       "      <td>3.5</td>\n",
       "      <td>1995</td>\n",
       "      <td>1</td>\n",
       "      <td>1</td>\n",
       "      <td>2</td>\n",
       "      <td>1313</td>\n",
       "    </tr>\n",
       "    <tr>\n",
       "      <th>2</th>\n",
       "      <td>0.456</td>\n",
       "      <td>29</td>\n",
       "      <td>37.6</td>\n",
       "      <td>2</td>\n",
       "      <td>0</td>\n",
       "      <td>3.1</td>\n",
       "      <td>1993</td>\n",
       "      <td>0</td>\n",
       "      <td>0</td>\n",
       "      <td>0</td>\n",
       "      <td>1484</td>\n",
       "    </tr>\n",
       "    <tr>\n",
       "      <th>3</th>\n",
       "      <td>0.060</td>\n",
       "      <td>35</td>\n",
       "      <td>27.5</td>\n",
       "      <td>2</td>\n",
       "      <td>0</td>\n",
       "      <td>4.7</td>\n",
       "      <td>1988</td>\n",
       "      <td>0</td>\n",
       "      <td>0</td>\n",
       "      <td>1</td>\n",
       "      <td>1188</td>\n",
       "    </tr>\n",
       "    <tr>\n",
       "      <th>4</th>\n",
       "      <td>0.939</td>\n",
       "      <td>19</td>\n",
       "      <td>30.7</td>\n",
       "      <td>0</td>\n",
       "      <td>0</td>\n",
       "      <td>3.6</td>\n",
       "      <td>2003</td>\n",
       "      <td>1</td>\n",
       "      <td>1</td>\n",
       "      <td>2</td>\n",
       "      <td>842</td>\n",
       "    </tr>\n",
       "    <tr>\n",
       "      <th>5</th>\n",
       "      <td>0.261</td>\n",
       "      <td>25</td>\n",
       "      <td>22.6</td>\n",
       "      <td>2</td>\n",
       "      <td>1</td>\n",
       "      <td>5.0</td>\n",
       "      <td>1998</td>\n",
       "      <td>1</td>\n",
       "      <td>0</td>\n",
       "      <td>1</td>\n",
       "      <td>972</td>\n",
       "    </tr>\n",
       "    <tr>\n",
       "      <th>6</th>\n",
       "      <td>0.427</td>\n",
       "      <td>32</td>\n",
       "      <td>24.8</td>\n",
       "      <td>0</td>\n",
       "      <td>0</td>\n",
       "      <td>3.8</td>\n",
       "      <td>1991</td>\n",
       "      <td>0</td>\n",
       "      <td>1</td>\n",
       "      <td>1</td>\n",
       "      <td>748</td>\n",
       "    </tr>\n",
       "    <tr>\n",
       "      <th>7</th>\n",
       "      <td>0.260</td>\n",
       "      <td>34</td>\n",
       "      <td>23.6</td>\n",
       "      <td>2</td>\n",
       "      <td>0</td>\n",
       "      <td>2.2</td>\n",
       "      <td>1989</td>\n",
       "      <td>0</td>\n",
       "      <td>0</td>\n",
       "      <td>1</td>\n",
       "      <td>1312</td>\n",
       "    </tr>\n",
       "    <tr>\n",
       "      <th>8</th>\n",
       "      <td>0.554</td>\n",
       "      <td>25</td>\n",
       "      <td>27.5</td>\n",
       "      <td>2</td>\n",
       "      <td>0</td>\n",
       "      <td>0.9</td>\n",
       "      <td>1997</td>\n",
       "      <td>1</td>\n",
       "      <td>1</td>\n",
       "      <td>0</td>\n",
       "      <td>1263</td>\n",
       "    </tr>\n",
       "    <tr>\n",
       "      <th>9</th>\n",
       "      <td>0.114</td>\n",
       "      <td>31</td>\n",
       "      <td>25.4</td>\n",
       "      <td>0</td>\n",
       "      <td>0</td>\n",
       "      <td>0.5</td>\n",
       "      <td>1991</td>\n",
       "      <td>0</td>\n",
       "      <td>1</td>\n",
       "      <td>2</td>\n",
       "      <td>1779</td>\n",
       "    </tr>\n",
       "  </tbody>\n",
       "</table>\n",
       "</div>"
      ],
      "text/plain": [
       "      x1  x2    x3  x4  x5   x6    x7  x8  x9  x10     y\n",
       "0  0.869  30  33.8   0   1  0.2  1992   1   1    1  1903\n",
       "1  0.759  27  21.7   2   0  3.5  1995   1   1    2  1313\n",
       "2  0.456  29  37.6   2   0  3.1  1993   0   0    0  1484\n",
       "3  0.060  35  27.5   2   0  4.7  1988   0   0    1  1188\n",
       "4  0.939  19  30.7   0   0  3.6  2003   1   1    2   842\n",
       "5  0.261  25  22.6   2   1  5.0  1998   1   0    1   972\n",
       "6  0.427  32  24.8   0   0  3.8  1991   0   1    1   748\n",
       "7  0.260  34  23.6   2   0  2.2  1989   0   0    1  1312\n",
       "8  0.554  25  27.5   2   0  0.9  1997   1   1    0  1263\n",
       "9  0.114  31  25.4   0   0  0.5  1991   0   1    2  1779"
      ]
     },
     "execution_count": 2,
     "metadata": {},
     "output_type": "execute_result"
    }
   ],
   "source": [
    "df = pd.read_csv('stratification_task_data_public.csv')\n",
    "df.head(10)"
   ]
  },
  {
   "cell_type": "markdown",
   "metadata": {},
   "source": [
    "## 2. Вычисление дисперсии\n",
    "\n",
    "Посчитаем дисперсию без разбиения на страты, чтобы знать с чем сравниваться в дальнейшем."
   ]
  },
  {
   "cell_type": "code",
   "execution_count": 3,
   "metadata": {},
   "outputs": [],
   "source": [
    "def calculate_strat_var(df):\n",
    "    \"\"\"Вычисляет стратифицированную дисперсию.\"\"\"\n",
    "    strat_vars = df.groupby('strat')['y'].var()\n",
    "    weights = df['strat'].value_counts(normalize=True)\n",
    "    stratified_var = (strat_vars * weights).sum()\n",
    "    return stratified_var"
   ]
  },
  {
   "cell_type": "code",
   "execution_count": 4,
   "metadata": {},
   "outputs": [
    {
     "data": {
      "text/plain": [
       "66078.09433343346"
      ]
     },
     "execution_count": 4,
     "metadata": {},
     "output_type": "execute_result"
    }
   ],
   "source": [
    "df['strat'] = 0\n",
    "calculate_strat_var(df)"
   ]
  },
  {
   "cell_type": "markdown",
   "metadata": {},
   "source": [
    "## 3. Снижаем дисперсию\n",
    "\n",
    "### 3.1. Категориальные признаки\n",
    "\n",
    "Чтобы дисперсия снизилась, нужно разбить на страты так, чтобы средние значения в стратах отличались.\n",
    "\n",
    "Посчитаем количество уникальных значений в столбцах"
   ]
  },
  {
   "cell_type": "code",
   "execution_count": 5,
   "metadata": {},
   "outputs": [
    {
     "data": {
      "text/plain": [
       "x1       1001\n",
       "x2         36\n",
       "x3        414\n",
       "x4          3\n",
       "x5          2\n",
       "x6        238\n",
       "x7         35\n",
       "x8          2\n",
       "x9          2\n",
       "x10         9\n",
       "y        1313\n",
       "strat       1\n",
       "dtype: int64"
      ]
     },
     "execution_count": 5,
     "metadata": {},
     "output_type": "execute_result"
    }
   ],
   "source": [
    "df.nunique()"
   ]
  },
  {
   "cell_type": "markdown",
   "metadata": {},
   "source": [
    "Сначала рассмотрим признаки, у которых сравнительно мало уникальных значений. Такие признаки называют категориальными. Часто с их помощью кодируют значения мужчина/женщина, android/ios, онлайн/оффлайн и так далее.\n",
    "\n",
    "- Вычислим для каждого значения признака среднее значение метрики;\n",
    "- Попробуем использовать каждый признак как способ разбиения на страты, вычислим дисперсии."
   ]
  },
  {
   "cell_type": "code",
   "execution_count": 6,
   "metadata": {},
   "outputs": [
    {
     "name": "stdout",
     "output_type": "stream",
     "text": [
      "feature = x4\n",
      "x4\n",
      "0    1360\n",
      "1    1375\n",
      "2    1367\n",
      "Name: y, dtype: int64\n",
      "var = 66054\n",
      "\n",
      "feature = x5\n",
      "x5\n",
      "0    1361\n",
      "1    1377\n",
      "Name: y, dtype: int64\n",
      "var = 66022\n",
      "\n",
      "feature = x8\n",
      "x8\n",
      "0    1320\n",
      "1    1393\n",
      "Name: y, dtype: int64\n",
      "var = 64859\n",
      "\n",
      "feature = x9\n",
      "x9\n",
      "0    1375\n",
      "1    1363\n",
      "Name: y, dtype: int64\n",
      "var = 66051\n",
      "\n"
     ]
    }
   ],
   "source": [
    "features_one = ['x4', 'x5', 'x8', 'x9']\n",
    "\n",
    "for feature in features_one:\n",
    "    print(f'feature = {feature}')\n",
    "    print(df.groupby(feature)['y'].mean().astype(int))\n",
    "    df['strat'] = df[feature]\n",
    "    print(f'var = {calculate_strat_var(df):0.0f}')\n",
    "    print()\n",
    "    "
   ]
  },
  {
   "cell_type": "markdown",
   "metadata": {},
   "source": [
    "Отличия среднего значения метрики между стратами получились небольшими. Дисперсия уменьшилась в лучшем случае до `64859` для признака `x8`.\n",
    "\n",
    "Можно рассмотреть комбинации признаков. Например, составить стату из комбинаций признаков `x8` и `x9`:\n",
    "\n",
    "- страта 1: `x8=0, x9=0`\n",
    "- страта 2: `x8=0, x9=1`\n",
    "- страта 3: `x8=1, x9=0`\n",
    "- страта 4: `x8=1, x9=1`\n",
    "\n",
    "Такой подход может дать значитальное снижение дисперсии. При желании, можете это реализовать."
   ]
  },
  {
   "cell_type": "markdown",
   "metadata": {},
   "source": [
    "### 3.2. Непрерывные признаки\n",
    "\n",
    "Непрерывные признаки - это данные, которые могут принимать любые значения в некотором интервале.\n",
    "\n",
    "Разобъём признаки на группы по квантилям, это обеспечит более-менее равномерное распределение объектов по стратам отличие среднего значения признака между стратами. Вычислим средние значения метрики для групп, построим графики и вычислим дисперсии."
   ]
  },
  {
   "cell_type": "code",
   "execution_count": 7,
   "metadata": {
    "scrolled": false
   },
   "outputs": [
    {
     "name": "stdout",
     "output_type": "stream",
     "text": [
      "feature = x1\n",
      "var = 66064\n"
     ]
    },
    {
     "data": {
      "image/png": "[encoded data removed]",
      "text/plain": [
       "<Figure size 432x288 with 1 Axes>"
      ]
     },
     "metadata": {
      "needs_background": "light"
     },
     "output_type": "display_data"
    },
    {
     "name": "stdout",
     "output_type": "stream",
     "text": [
      "\n",
      "feature = x3\n",
      "var = 65321\n"
     ]
    },
    {
     "data": {
      "image/png": "[encoded data removed]",
      "text/plain": [
       "<Figure size 432x288 with 1 Axes>"
      ]
     },
     "metadata": {
      "needs_background": "light"
     },
     "output_type": "display_data"
    },
    {
     "name": "stdout",
     "output_type": "stream",
     "text": [
      "\n",
      "feature = x6\n",
      "var = 66003\n"
     ]
    },
    {
     "data": {
      "image/png": "[encoded data removed]",
      "text/plain": [
       "<Figure size 432x288 with 1 Axes>"
      ]
     },
     "metadata": {
      "needs_background": "light"
     },
     "output_type": "display_data"
    },
    {
     "name": "stdout",
     "output_type": "stream",
     "text": [
      "\n"
     ]
    }
   ],
   "source": [
    "features_two = ['x1', 'x3', 'x6']\n",
    "quantile_number = 20\n",
    "\n",
    "for feature in features_two:\n",
    "    print(f'feature = {feature}')\n",
    "    quantiles = np.linspace(1/quantile_number, 1, quantile_number)\n",
    "    quantile_values = np.quantile(df[feature].values, quantiles)\n",
    "    df['strat'] = [np.sum(x > quantile_values) for x in df[feature].values]\n",
    "    print(f'var = {calculate_strat_var(df):0.0f}')\n",
    "    df.groupby('strat')['y'].mean().plot(kind='bar')\n",
    "    plt.title('Среднее значение y')\n",
    "    plt.show()\n",
    "    print()\n",
    "    "
   ]
  },
  {
   "cell_type": "markdown",
   "metadata": {},
   "source": [
    "Сильных зависимостей целевой переменной от значений непрерывных признаков не видно. Лучшее снижение дисперсии получено при разбиении по признаку `x3`, дисперсия равна `65321`."
   ]
  },
  {
   "cell_type": "markdown",
   "metadata": {},
   "source": [
    "### 3.3. Остальные признаки\n",
    "\n",
    "Рассмотрим оставшиеся признаки, которые и не непрерывные, и к категориальным относятся с натяжкой из-за сравнительно большого количества категорий. Если использовать эти признаки в качестве страт, то доля некоторых страт будет меньше 5%, что не подходит по условию.\n",
    "\n",
    "Признаки `x2` и `x7` похожи на возраст и год рождения, они очень скоррелированы. Будем рассматривать только один из них, так как второй несёт мало дополнительной информации."
   ]
  },
  {
   "cell_type": "code",
   "execution_count": 8,
   "metadata": {},
   "outputs": [
    {
     "data": {
      "text/html": [
       "<div>\n",
       "<style scoped>\n",
       "    .dataframe tbody tr th:only-of-type {\n",
       "        vertical-align: middle;\n",
       "    }\n",
       "\n",
       "    .dataframe tbody tr th {\n",
       "        vertical-align: top;\n",
       "    }\n",
       "\n",
       "    .dataframe thead th {\n",
       "        text-align: right;\n",
       "    }\n",
       "</style>\n",
       "<table border=\"1\" class=\"dataframe\">\n",
       "  <thead>\n",
       "    <tr style=\"text-align: right;\">\n",
       "      <th></th>\n",
       "      <th>x2</th>\n",
       "      <th>x7</th>\n",
       "    </tr>\n",
       "  </thead>\n",
       "  <tbody>\n",
       "    <tr>\n",
       "      <th>0</th>\n",
       "      <td>30</td>\n",
       "      <td>1992</td>\n",
       "    </tr>\n",
       "    <tr>\n",
       "      <th>1</th>\n",
       "      <td>27</td>\n",
       "      <td>1995</td>\n",
       "    </tr>\n",
       "    <tr>\n",
       "      <th>2</th>\n",
       "      <td>29</td>\n",
       "      <td>1993</td>\n",
       "    </tr>\n",
       "    <tr>\n",
       "      <th>3</th>\n",
       "      <td>35</td>\n",
       "      <td>1988</td>\n",
       "    </tr>\n",
       "    <tr>\n",
       "      <th>4</th>\n",
       "      <td>19</td>\n",
       "      <td>2003</td>\n",
       "    </tr>\n",
       "  </tbody>\n",
       "</table>\n",
       "</div>"
      ],
      "text/plain": [
       "   x2    x7\n",
       "0  30  1992\n",
       "1  27  1995\n",
       "2  29  1993\n",
       "3  35  1988\n",
       "4  19  2003"
      ]
     },
     "execution_count": 8,
     "metadata": {},
     "output_type": "execute_result"
    }
   ],
   "source": [
    "df[['x2', 'x7']].head()"
   ]
  },
  {
   "cell_type": "code",
   "execution_count": 9,
   "metadata": {},
   "outputs": [
    {
     "data": {
      "text/html": [
       "<div>\n",
       "<style scoped>\n",
       "    .dataframe tbody tr th:only-of-type {\n",
       "        vertical-align: middle;\n",
       "    }\n",
       "\n",
       "    .dataframe tbody tr th {\n",
       "        vertical-align: top;\n",
       "    }\n",
       "\n",
       "    .dataframe thead th {\n",
       "        text-align: right;\n",
       "    }\n",
       "</style>\n",
       "<table border=\"1\" class=\"dataframe\">\n",
       "  <thead>\n",
       "    <tr style=\"text-align: right;\">\n",
       "      <th></th>\n",
       "      <th>x2</th>\n",
       "      <th>x7</th>\n",
       "    </tr>\n",
       "  </thead>\n",
       "  <tbody>\n",
       "    <tr>\n",
       "      <th>x2</th>\n",
       "      <td>1.000000</td>\n",
       "      <td>-0.994133</td>\n",
       "    </tr>\n",
       "    <tr>\n",
       "      <th>x7</th>\n",
       "      <td>-0.994133</td>\n",
       "      <td>1.000000</td>\n",
       "    </tr>\n",
       "  </tbody>\n",
       "</table>\n",
       "</div>"
      ],
      "text/plain": [
       "          x2        x7\n",
       "x2  1.000000 -0.994133\n",
       "x7 -0.994133  1.000000"
      ]
     },
     "execution_count": 9,
     "metadata": {},
     "output_type": "execute_result"
    }
   ],
   "source": [
    "# корреляция\n",
    "df[['x2', 'x7']].corr()"
   ]
  },
  {
   "cell_type": "markdown",
   "metadata": {},
   "source": [
    "Вычислим средние значения целевой переменной и количество объектов для каждого значения признака, построим графики и вычислим дисперсии."
   ]
  },
  {
   "cell_type": "code",
   "execution_count": 10,
   "metadata": {},
   "outputs": [
    {
     "name": "stdout",
     "output_type": "stream",
     "text": [
      "feature = x2\n",
      "var = 47232\n"
     ]
    },
    {
     "data": {
      "image/png": "[encoded data removed]",
      "text/plain": [
       "<Figure size 432x288 with 1 Axes>"
      ]
     },
     "metadata": {
      "needs_background": "light"
     },
     "output_type": "display_data"
    },
    {
     "name": "stdout",
     "output_type": "stream",
     "text": [
      "\n",
      "feature = x10\n",
      "var = 63756\n"
     ]
    },
    {
     "data": {
      "image/png": "[encoded data removed]",
      "text/plain": [
       "<Figure size 432x288 with 1 Axes>"
      ]
     },
     "metadata": {
      "needs_background": "light"
     },
     "output_type": "display_data"
    },
    {
     "name": "stdout",
     "output_type": "stream",
     "text": [
      "\n"
     ]
    }
   ],
   "source": [
    "features_three = ['x2', 'x10']\n",
    "\n",
    "for feature in features_three:\n",
    "    print(f'feature = {feature}')\n",
    "    df['strat'] = df[feature]\n",
    "    print(f'var = {calculate_strat_var(df):0.0f}')\n",
    "    df.groupby('strat')['y'].agg(['mean', 'count']).plot(kind='bar')\n",
    "    plt.title('Среднее значение y и кол-во объектов')\n",
    "    plt.show()\n",
    "    print()\n",
    "    "
   ]
  },
  {
   "cell_type": "markdown",
   "metadata": {},
   "source": [
    "Распределение на страты по признаку `x2` снизило дисперсию до `47232`. Но при таком разбиении у нас некоторые страты составляют менее 5% данных. Объединим некоторые старты вместе, так чтобы доли страт были не менее 5%.\n",
    "\n",
    "- 23 и меньше\n",
    "- 24 и 25\n",
    "- с 26 до 33 - каждое значение отдельная страта\n",
    "- 34 и 35\n",
    "- 36 и более"
   ]
  },
  {
   "cell_type": "code",
   "execution_count": 11,
   "metadata": {},
   "outputs": [
    {
     "name": "stdout",
     "output_type": "stream",
     "text": [
      "var = 49120\n",
      "min_part = 0.060\n"
     ]
    }
   ],
   "source": [
    "def get_strat_one(x):\n",
    "    if x < 24:\n",
    "        return 23\n",
    "    elif x < 26:\n",
    "        return 25\n",
    "    elif x < 34:\n",
    "        return x\n",
    "    elif x < 36:\n",
    "        return 35\n",
    "    else:\n",
    "        return 36\n",
    "\n",
    "df['strat'] = [get_strat_one(x) for x in df['x2']]\n",
    "print(f'var = {calculate_strat_var(df):0.0f}')\n",
    "min_part = df['strat'].value_counts(normalize=True).min()\n",
    "print(f\"min_part = {min_part:0.3f}\")"
   ]
  },
  {
   "cell_type": "markdown",
   "metadata": {},
   "source": [
    "Поличили дисперсию `49120` и минимальную долю страты `6%`.\n",
    "\n",
    "Распределение среднего значения метрики в зависимости от `x2` похоже на симметричное с осью симметрии около `x2=30`. Средние значения метрики для симметричных значений `x2` похожи. Можно разбить на страты с учётом симметрии."
   ]
  },
  {
   "cell_type": "code",
   "execution_count": 12,
   "metadata": {},
   "outputs": [
    {
     "name": "stdout",
     "output_type": "stream",
     "text": [
      "var = 49851\n",
      "min_part = 0.211\n"
     ]
    }
   ],
   "source": [
    "def get_strat_two(x):\n",
    "    if (x < 25) or (x > 35):\n",
    "        return 1\n",
    "    elif (x < 27) or (x > 33):\n",
    "        return 2\n",
    "    elif (x < 29) or (x > 31):\n",
    "        return 3\n",
    "    else:\n",
    "        return 4\n",
    "\n",
    "df['strat'] = [get_strat_two(x) for x in df['x2']]\n",
    "print(f'var = {calculate_strat_var(df):0.0f}')\n",
    "min_part = df['strat'].value_counts(normalize=True).min()\n",
    "print(f\"min_part = {min_part:0.3f}\")"
   ]
  },
  {
   "cell_type": "markdown",
   "metadata": {},
   "source": [
    "Получили прирно такую же дисперсию, а минимальный размер увеличился. Это даёт возможность произвести дополнительное разбиение по другим признакам."
   ]
  },
  {
   "cell_type": "markdown",
   "metadata": {},
   "source": [
    "### 3.4. Страты из нескольких признаков.\n",
    "\n",
    "Попробуем объединить разбиение на страты по признаку `x2` с разбиением по другим признакам.\n",
    "\n",
    "В разделе 3.1. минимальная дисперсия была при разбиении по признаку `x8`, попробуем использовать его. "
   ]
  },
  {
   "cell_type": "code",
   "execution_count": 13,
   "metadata": {},
   "outputs": [
    {
     "name": "stdout",
     "output_type": "stream",
     "text": [
      "var = 48502\n",
      "min_part = 0.076\n"
     ]
    }
   ],
   "source": [
    "df['strat'] = [str(get_strat_two(a)) + str(b) for a, b in df[['x2', 'x8']].values]\n",
    "print(f'var = {calculate_strat_var(df):0.0f}')\n",
    "min_part = df['strat'].value_counts(normalize=True).min()\n",
    "print(f\"min_part = {min_part:0.3f}\")\n"
   ]
  },
  {
   "cell_type": "markdown",
   "metadata": {},
   "source": [
    "Новый рекорд! Дисперсия равна `48502`."
   ]
  }
 ],
 "metadata": {
  "kernelspec": {
   "display_name": "Python 3 (ipykernel)",
   "language": "python",
   "name": "python3"
  },
  "language_info": {
   "codemirror_mode": {
    "name": "ipython",
    "version": 3
   },
   "file_extension": ".py",
   "mimetype": "text/x-python",
   "name": "python",
   "nbconvert_exporter": "python",
   "pygments_lexer": "ipython3",
   "version": "3.11.2"
  }
 },
 "nbformat": 4,
 "nbformat_minor": 4
}
