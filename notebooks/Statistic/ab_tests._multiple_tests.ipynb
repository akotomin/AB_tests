{
 "cells": [
  {
   "cell_type": "code",
   "execution_count": 2,
   "id": "0be7c482",
   "metadata": {},
   "outputs": [],
   "source": [
    "import pandas as pd\n",
    "import numpy as np\n",
    "import matplotlib.pyplot as plt\n",
    "import pylab\n",
    "import scipy.stats as stats\n",
    "from tqdm.notebook import tqdm\n",
    "from scipy.stats import ttest_ind\n",
    "\n",
    "\n",
    "ayu_colors = {\n",
    "    \"axes.facecolor\": \"#1F2430\",  # фон графика\n",
    "    \"figure.facecolor\": \"#1F2430\",  # фон фигуры\n",
    "    \"text.color\": \"#CBCCC6\",  # цвет текста\n",
    "    \"axes.labelcolor\": \"#CBCCC6\",  # цвет подписей осей\n",
    "    \"xtick.color\": \"#707A8C\",  # цвет делений оси X\n",
    "    \"ytick.color\": \"#707A8C\",  # цвет делений оси Y\n",
    "    \"grid.color\": \"#232834\",  # цвет сетки\n",
    "    \"axes.prop_cycle\": plt.cycler(\n",
    "        color=[\"#8dd3c7\", \"#feffb3\", \"#bfbbd9\", \"#fa8174\", \"#81b1d2\"]\n",
    "    ),  # цвета линий как в dark_background\n",
    "}\n",
    "\n",
    "plt.rcParams.update(ayu_colors)"
   ]
  },
  {
   "cell_type": "code",
   "execution_count": 15,
   "id": "914878db",
   "metadata": {},
   "outputs": [],
   "source": [
    "cards = np.random.binomial(1, 0.5, size=10)\n",
    "guess = np.random.binomial(1, 0.5, size=10)"
   ]
  },
  {
   "cell_type": "code",
   "execution_count": 21,
   "id": "790755dd",
   "metadata": {},
   "outputs": [
    {
     "data": {
      "text/plain": [
       "2"
      ]
     },
     "execution_count": 21,
     "metadata": {},
     "output_type": "execute_result"
    }
   ],
   "source": [
    "int((guess == cards).sum())"
   ]
  },
  {
   "cell_type": "code",
   "execution_count": 31,
   "id": "cb4a2bea",
   "metadata": {},
   "outputs": [],
   "source": [
    "result = []\n",
    "\n",
    "for _ in range(1000):\n",
    "    cards = np.random.binomial(1, 0.5, size=10)\n",
    "    guess = np.random.binomial(1, 0.5, size=10)\n",
    "    if all(cards == guess):\n",
    "        result.append(10)\n",
    "    elif int((guess == cards).sum()) == 9:\n",
    "        result.append(9)\n",
    "    else:\n",
    "        continue"
   ]
  },
  {
   "cell_type": "code",
   "execution_count": 32,
   "id": "09f10923",
   "metadata": {},
   "outputs": [
    {
     "data": {
      "text/plain": [
       "0.009"
      ]
     },
     "execution_count": 32,
     "metadata": {},
     "output_type": "execute_result"
    }
   ],
   "source": [
    "len(result) / 1000"
   ]
  },
  {
   "cell_type": "code",
   "execution_count": null,
   "id": "5e9240b7",
   "metadata": {},
   "outputs": [],
   "source": []
  }
 ],
 "metadata": {
  "kernelspec": {
   "display_name": ".venv",
   "language": "python",
   "name": "python3"
  },
  "language_info": {
   "codemirror_mode": {
    "name": "ipython",
    "version": 3
   },
   "file_extension": ".py",
   "mimetype": "text/x-python",
   "name": "python",
   "nbconvert_exporter": "python",
   "pygments_lexer": "ipython3",
   "version": "3.11.2"
  }
 },
 "nbformat": 4,
 "nbformat_minor": 5
}
