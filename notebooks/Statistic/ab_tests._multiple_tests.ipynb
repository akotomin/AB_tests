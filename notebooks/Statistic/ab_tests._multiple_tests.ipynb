{
 "cells": [
  {
   "cell_type": "code",
   "execution_count": null,
   "id": "0be7c482",
   "metadata": {},
   "outputs": [],
   "source": [
    "import pandas as pd\n",
    "import numpy as np\n",
    "import matplotlib.pyplot as plt\n",
    "import scipy.stats as stats\n",
    "from tqdm.notebook import tqdm\n",
    "from scipy.stats import ttest_ind\n",
    "\n",
    "\n",
    "ayu_colors = {\n",
    "    \"axes.facecolor\": \"#1F2430\",  # фон графика\n",
    "    \"figure.facecolor\": \"#1F2430\",  # фон фигуры\n",
    "    \"text.color\": \"#CBCCC6\",  # цвет текста\n",
    "    \"axes.labelcolor\": \"#CBCCC6\",  # цвет подписей осей\n",
    "    \"xtick.color\": \"#707A8C\",  # цвет делений оси X\n",
    "    \"ytick.color\": \"#707A8C\",  # цвет делений оси Y\n",
    "    \"grid.color\": \"#232834\",  # цвет сетки\n",
    "    \"axes.prop_cycle\": plt.cycler(\n",
    "        color=[\"#8dd3c7\", \"#feffb3\", \"#bfbbd9\", \"#fa8174\", \"#81b1d2\"]\n",
    "    ),  # цвета линий как в dark_background\n",
    "}\n",
    "\n",
    "plt.rcParams.update(ayu_colors)"
   ]
  },
  {
   "cell_type": "code",
   "execution_count": 15,
   "id": "914878db",
   "metadata": {},
   "outputs": [],
   "source": [
    "cards = np.random.binomial(1, 0.5, size=10)\n",
    "guess = np.random.binomial(1, 0.5, size=10)"
   ]
  },
  {
   "cell_type": "code",
   "execution_count": 21,
   "id": "790755dd",
   "metadata": {},
   "outputs": [
    {
     "data": {
      "text/plain": [
       "2"
      ]
     },
     "execution_count": 21,
     "metadata": {},
     "output_type": "execute_result"
    }
   ],
   "source": [
    "int((guess == cards).sum())"
   ]
  },
  {
   "cell_type": "code",
   "execution_count": 31,
   "id": "cb4a2bea",
   "metadata": {},
   "outputs": [],
   "source": [
    "result = []\n",
    "\n",
    "for _ in range(1000):\n",
    "    cards = np.random.binomial(1, 0.5, size=10)\n",
    "    guess = np.random.binomial(1, 0.5, size=10)\n",
    "    if all(cards == guess):\n",
    "        result.append(10)\n",
    "    elif int((guess == cards).sum()) == 9:\n",
    "        result.append(9)\n",
    "    else:\n",
    "        continue"
   ]
  },
  {
   "cell_type": "code",
   "execution_count": 36,
   "id": "09f10923",
   "metadata": {},
   "outputs": [
    {
     "data": {
      "text/plain": [
       "0.009"
      ]
     },
     "execution_count": 36,
     "metadata": {},
     "output_type": "execute_result"
    }
   ],
   "source": [
    "len(result) / 1000"
   ]
  },
  {
   "cell_type": "markdown",
   "id": "5e9240b7",
   "metadata": {},
   "source": [
    "test_1 \\\n",
    "control_1 \\\n",
    "test_2 \\\n",
    "control_2 \n",
    "\n",
    "При увеличении количества экспериментов повышается вероятность того, что хотя бы один эксперимент будет успешным по чистой случайности. \\\n",
    "Проверим эту гипотезу можно по формуле $1-(1-\\alpha)^{n}$, где $n$ - количество экспериментов и с помощью monte-carlo"
   ]
  },
  {
   "cell_type": "code",
   "execution_count": 59,
   "id": "a9ec0277",
   "metadata": {},
   "outputs": [],
   "source": [
    "from statsmodels.stats.proportion import proportions_ztest\n",
    "\n",
    "\n",
    "def experiment(baseline, size, effect=None):\n",
    "    if effect is None:\n",
    "        a = np.random.binomial(1, baseline, size)\n",
    "        b = np.random.binomial(1, baseline, size)\n",
    "    else:\n",
    "        a = np.random.binomial(1, baseline, size)\n",
    "        b = np.random.binomial(1, baseline + effect, size)\n",
    "    _, pval = proportions_ztest(\n",
    "        [a.sum(), b.sum()], [len(a), len(b)], alternative=\"two-sided\"\n",
    "    )\n",
    "\n",
    "    return pval"
   ]
  },
  {
   "cell_type": "code",
   "execution_count": 64,
   "id": "0e3d110e",
   "metadata": {},
   "outputs": [
    {
     "data": {
      "application/vnd.jupyter.widget-view+json": {
       "model_id": "5f281c0cda84406e9bf8590dd775869a",
       "version_major": 2,
       "version_minor": 0
      },
      "text/plain": [
       "  0%|          | 0/10000 [00:00<?, ?it/s]"
      ]
     },
     "metadata": {},
     "output_type": "display_data"
    },
    {
     "data": {
      "text/plain": [
       "np.float64(0.0985)"
      ]
     },
     "execution_count": 64,
     "metadata": {},
     "output_type": "execute_result"
    }
   ],
   "source": [
    "np.mean(\n",
    "    [\n",
    "        any([experiment(0.2, 1030) < 0.05 for _ in range(2)])\n",
    "        for _ in tqdm(range(10000))\n",
    "    ]\n",
    ")"
   ]
  },
  {
   "cell_type": "code",
   "execution_count": 66,
   "id": "c4b30e4e",
   "metadata": {},
   "outputs": [
    {
     "data": {
      "text/plain": [
       "0.09750000000000003"
      ]
     },
     "execution_count": 66,
     "metadata": {},
     "output_type": "execute_result"
    }
   ],
   "source": [
    "1 - (1 - 0.05) ** 2"
   ]
  },
  {
   "cell_type": "markdown",
   "id": "56007905",
   "metadata": {},
   "source": [
    "Воспользуемся поправкой Бонферрони:"
   ]
  },
  {
   "cell_type": "code",
   "execution_count": 67,
   "id": "aa21e00d",
   "metadata": {},
   "outputs": [
    {
     "data": {
      "application/vnd.jupyter.widget-view+json": {
       "model_id": "663151d9560f498781bc4f0cd5094a8d",
       "version_major": 2,
       "version_minor": 0
      },
      "text/plain": [
       "  0%|          | 0/10000 [00:00<?, ?it/s]"
      ]
     },
     "metadata": {},
     "output_type": "display_data"
    },
    {
     "data": {
      "text/plain": [
       "np.float64(0.0506)"
      ]
     },
     "execution_count": 67,
     "metadata": {},
     "output_type": "execute_result"
    }
   ],
   "source": [
    "np.mean(\n",
    "    [\n",
    "        any([experiment(0.2, 1030) < (0.05 / 2) for _ in range(2)])\n",
    "        for _ in tqdm(range(10000))\n",
    "    ]\n",
    ")"
   ]
  },
  {
   "cell_type": "markdown",
   "id": "124a3942",
   "metadata": {},
   "source": [
    "Но снижая $\\alpha$ мы снижаем и мощность наших тестов"
   ]
  },
  {
   "cell_type": "code",
   "execution_count": null,
   "id": "255cd013",
   "metadata": {},
   "outputs": [],
   "source": []
  }
 ],
 "metadata": {
  "kernelspec": {
   "display_name": ".venv",
   "language": "python",
   "name": "python3"
  },
  "language_info": {
   "codemirror_mode": {
    "name": "ipython",
    "version": 3
   },
   "file_extension": ".py",
   "mimetype": "text/x-python",
   "name": "python",
   "nbconvert_exporter": "python",
   "pygments_lexer": "ipython3",
   "version": "3.11.2"
  }
 },
 "nbformat": 4,
 "nbformat_minor": 5
}
