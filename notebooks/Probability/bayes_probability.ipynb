{
 "cells": [
  {
   "cell_type": "markdown",
   "id": "ad61f29b",
   "metadata": {},
   "source": [
    "# Формула Байеса:\n",
    "\n",
    "$$P(H_1|A) = \\frac{P(H_1)P(A|H_1)}{P(A)}$$\n",
    "\n",
    "\n",
    "### <span style=\"color:rgb(65, 137, 253)\">Задание 1</span>\n",
    "\n",
    "Из 500 компьютеров  180 принадлежат к 1 партии, 170 – ко второй партии, остальные к третьей. В первой партии 3% брака, во второй — 2%, в третьей – 6%. Случайно выбирается один компьютер. Определить вероятность того, что выбранный компьютер – бракованный.  Округлите полученный ответ до десятитысячных. В качестве разделителя используйте точку."
   ]
  },
  {
   "cell_type": "code",
   "execution_count": 1,
   "id": "3de26bcd",
   "metadata": {},
   "outputs": [
    {
     "data": {
      "text/plain": [
       "0.0356"
      ]
     },
     "execution_count": 1,
     "metadata": {},
     "output_type": "execute_result"
    }
   ],
   "source": [
    "first_comp = 180\n",
    "second_comp = 170\n",
    "third_comp = 500 - first_comp - second_comp\n",
    "deffect_pct_first = 0.03\n",
    "deffect_pct_second = 0.02\n",
    "deffect_pct_third = 0.06\n",
    "\n",
    "round(\n",
    "    first_comp / 500 * deffect_pct_first\n",
    "    + second_comp / 500 * deffect_pct_second\n",
    "    + third_comp / 500 * deffect_pct_third,\n",
    "    4,\n",
    ")"
   ]
  },
  {
   "cell_type": "markdown",
   "id": "49134652",
   "metadata": {},
   "source": [
    "### <span style=\"color:rgb(65, 137, 253)\">Задание 2</span>\n",
    "\n",
    "Есть компания с программистами. В ней на языке Java пишут в 3 раза больше человек, чем на языке C++. Программистов на языке C++ в 4 раза больше, чем на Python. Вероятность сделать работу за один день для Java-программиста — 0,85, для программиста на языке C++ 0,9, а для Python программиста 0,8. Найти вероятность того, что программист, выбранный наугад, сделает работу за один день. Ответ округлите до сотых. В качестве десятичного разделителя используйте точку."
   ]
  },
  {
   "cell_type": "code",
   "execution_count": 2,
   "id": "bad32103",
   "metadata": {},
   "outputs": [
    {
     "data": {
      "text/plain": [
       "0.86"
      ]
     },
     "execution_count": 2,
     "metadata": {},
     "output_type": "execute_result"
    }
   ],
   "source": [
    "python_progs = 1\n",
    "c_2plus_progs = python_progs * 4\n",
    "java_progs = c_2plus_progs * 3\n",
    "all_progs = python_progs + c_2plus_progs + java_progs\n",
    "mistake_chance_python = 0.8\n",
    "mistake_chance_c_2plus = 0.9\n",
    "mistake_chance_java = 0.85\n",
    "\n",
    "round(\n",
    "    python_progs / all_progs * mistake_chance_python\n",
    "    + c_2plus_progs / all_progs * mistake_chance_c_2plus\n",
    "    + java_progs / all_progs * mistake_chance_java,\n",
    "    2,\n",
    ")"
   ]
  },
  {
   "cell_type": "markdown",
   "id": "485035b9",
   "metadata": {},
   "source": [
    "### <span style=\"color:rgb(65, 137, 253)\">Задание 3</span>\n",
    "\n",
    "Из 40 снайперов 18 попадает в цель с вероятностью 0,9, 8 — с вероятностью 0,4 и 14 – с вероятностью 0,7. Случайно выбранный снайпер произвел выстрел, поразив цель. Мы хотим вычислить, снайпер из какой группы наиболее вероятно совершил этот выстрел. \n",
    "\n",
    "В ответ запишите наибольшую вероятность, округленную до тысячных. В качестве разделителя используйте точку.\n",
    "\n",
    "$$P(H_1|A) = \\frac{P(H_1)P(A|H_1)}{P(A)}$$"
   ]
  },
  {
   "cell_type": "code",
   "execution_count": 3,
   "id": "bc01399e",
   "metadata": {},
   "outputs": [
    {
     "name": "stdout",
     "output_type": "stream",
     "text": [
      "[('profi', 0.555), ('average', 0.336), ('noobs', 0.11)]\n"
     ]
    }
   ],
   "source": [
    "all_snipers = 40\n",
    "profi = 18\n",
    "average = 14\n",
    "noobs = 8\n",
    "profi_chance = 0.9\n",
    "average_chance = 0.7\n",
    "noob_chance = 0.4\n",
    "p_a = (\n",
    "    profi_chance * profi / all_snipers\n",
    "    + average_chance * average / all_snipers\n",
    "    + noob_chance * noobs / all_snipers\n",
    ")\n",
    "\n",
    "p_profi = round(profi_chance * profi / all_snipers / p_a, 3)\n",
    "p_average = round(average_chance * average / all_snipers / p_a, 3)\n",
    "p_noobs = round(noob_chance * noobs / all_snipers / p_a, 3)\n",
    "dct = dict(profi=p_profi, average=p_average, noobs=p_noobs)\n",
    "\n",
    "print(sorted(dct.items(), key=lambda item: item[1], reverse=True))"
   ]
  },
  {
   "cell_type": "markdown",
   "id": "9b64868c",
   "metadata": {},
   "source": [
    "### <span style=\"color:rgb(65, 137, 253)\">Задание 4</span>\n",
    "\n",
    "Есть 4 кубика. На трех из них окрашена белым половина граней, а на четвертом кубике всего одна грань из шести белая. Наудачу выбранный кубик подбрасывается семь раз. Найти вероятность того, что был выбран четвертый кубик, если при семи подбрасываниях белая грань выпала ровно один раз.  Ответ округлите до тысячных. Используйте точку в качестве десятичного разделителя.\n",
    "\n",
    "<span style=\"color:rgb(234, 75, 39)\">Решение: </span>\n",
    "\n",
    "Пусть H1 - это событие, когда выбирают 1-ый, 2-ой или 3-ий кубик, а H2 — когда выбирают 4-ый кубик.\n",
    "\n",
    "Тогда по классическому определению вероятности: $P(H1)= \\frac{3}{4}$ и $P(H2)= \\frac{1}{4}$\n",
    "\n",
    "Для события H1 вероятность появления белой грани p=0.5.\n",
    "Посчитаем вероятность того, что при n=7 (семи бросках) белая грань выпадает ровно k=1. Используем формулу Бернулли:"
   ]
  },
  {
   "cell_type": "code",
   "execution_count": 4,
   "id": "b31c488c",
   "metadata": {},
   "outputs": [],
   "source": [
    "from scipy import special\n",
    "\n",
    "n = 7\n",
    "k = 1\n",
    "p = 0.5\n",
    "q = 1 - p\n",
    "\n",
    "p_a_h1 = round(special.comb(n, k) * pow(p, k) * pow(q, n - k), 4)"
   ]
  },
  {
   "cell_type": "markdown",
   "id": "c7dc18bb",
   "metadata": {},
   "source": [
    "Это будет вероятностью $P(A∣H1)$, то есть вероятностью выпадения 1 белой грани при 7 бросках, при условии, что мы выбрали обычный кубик с гранями 3 к 3 \\\n",
    "Найдем тоже самое значение для кубика с одной белой гранью, то есть $P(A∣H2)$:"
   ]
  },
  {
   "cell_type": "code",
   "execution_count": 5,
   "id": "9f2fd227",
   "metadata": {},
   "outputs": [],
   "source": [
    "n_h2 = 7\n",
    "k_h2 = 1\n",
    "p_h2 = 1 / 6\n",
    "q_h2 = 1 - p_h2\n",
    "\n",
    "p_a_h2 = round(special.comb(n_h2, k_h2) * pow(p_h2, k_h2) * pow(q_h2, n_h2 - k_h2), 4)"
   ]
  },
  {
   "cell_type": "markdown",
   "id": "1b9b78f9",
   "metadata": {},
   "source": [
    "Теперь найдем вероятность выпадения белой грани для любого кубика, то есть $P(A)$, после чего расчитаем общую формулу для вероятности того, что был выбран четвертый кубик:"
   ]
  },
  {
   "cell_type": "code",
   "execution_count": 6,
   "id": "80f92b97",
   "metadata": {},
   "outputs": [
    {
     "name": "stdout",
     "output_type": "stream",
     "text": [
      "0.704\n"
     ]
    }
   ],
   "source": [
    "p_h1 = 3 / 4\n",
    "p_h2 = 1 / 4\n",
    "p_a = p_h1 * p_a_h1 + p_h2 * p_a_h2\n",
    "\n",
    "p_h2_a = p_h2 * p_a_h2 / p_a\n",
    "print(round(p_h2_a, 3))"
   ]
  },
  {
   "cell_type": "markdown",
   "id": "62e96040",
   "metadata": {},
   "source": [
    "### <span style=\"color:rgb(65, 137, 253)\">Задание 5</span>\n",
    "\n",
    "На гитхабе лежит 12 скриптов, написанных аналитиком №1, 20 скриптов — написанных аналитиком №2 и 18 скриптов — написанных аналитиком №3. Вероятность того, что скрипт, написанный аналитиком №1, работает  без ошибок, равна 0,9; для скриптов, написанных аналитиками  №2 и №3, эти вероятности соответственно равны 0,6 и 0,9.\n",
    "\n",
    "Нужно найти вероятность того, что случайно взятый скрипт будет работать без ошибок. В ответ запишите число, округленное до сотых. В качестве десятичного разделителя используйте точку.\n",
    "\n",
    "<span style=\"color:rgb(234, 75, 39)\">Решение: </span>\n",
    "\n",
    "Пусть H1 - это событие, когда выбранный скрипт написал аналитик №1, тогда H2 - выбранный скрипт написал аналитик №2 и H3 - выбранный скрипт написал аналитик №3\n",
    "\n"
   ]
  },
  {
   "cell_type": "code",
   "execution_count": 7,
   "id": "2fd889af",
   "metadata": {},
   "outputs": [],
   "source": [
    "analyst1_scripts = 12\n",
    "analyst2_scripts = 20\n",
    "analyst3_scripts = 18\n",
    "first_analyst_chance = 0.9\n",
    "second_analyst_chance = 0.6\n",
    "third_analyst_chance = 0.9\n",
    "all_scripts = analyst1_scripts + analyst2_scripts + analyst3_scripts\n",
    "\n",
    "p_h1 = analyst1_scripts / all_scripts\n",
    "p_h2 = analyst2_scripts / all_scripts\n",
    "p_h3 = analyst3_scripts / all_scripts"
   ]
  },
  {
   "cell_type": "markdown",
   "id": "83eb9655",
   "metadata": {},
   "source": [
    "в таком случае вероятность того, что выбранный скрипт, будет работать без ошибок будет равна:"
   ]
  },
  {
   "cell_type": "code",
   "execution_count": 8,
   "id": "a1bced51",
   "metadata": {},
   "outputs": [
    {
     "data": {
      "text/plain": [
       "0.78"
      ]
     },
     "execution_count": 8,
     "metadata": {},
     "output_type": "execute_result"
    }
   ],
   "source": [
    "round(\n",
    "    p_h1 * first_analyst_chance\n",
    "    + p_h2 * second_analyst_chance\n",
    "    + p_h3 * third_analyst_chance,\n",
    "    2,\n",
    ")"
   ]
  },
  {
   "cell_type": "markdown",
   "id": "d3595783",
   "metadata": {},
   "source": [
    "### <span style=\"color:rgb(65, 137, 253)\">Задание 6</span>\n",
    "\n",
    "Известно, что около 60% всех людей в городе болеют заболеванием А. Для определения того, заболел человек или нет, проводится тест, точность которого составляет 99%. Вы получили положительный тест, какова вероятность того, что вы реально больны?\n",
    "\n",
    "Округлите ответ до тысячных, в качестве десятичного раделителя используйте точку.\n",
    "\n",
    "<span style=\"color:rgb(234, 75, 39)\">Решение: </span>\n",
    "\n",
    "Нашей гипотезой я вляется то, что человек болен, при условии положительного теста, то есть $P(H_1 | A)$\n",
    "\n",
    "В таком случае вероятность того, что человек болен равна 0.6 и это $P(H_1)$ \\\n",
    "Вероятность, что тест покажет, что человек болен, при условии, что он болен нам тоже известна, то есть $P(A| H_1) = 0.99$\n",
    "\n",
    "Нам неизвестна вероятность $P(A)$, это вероятность того, что тест покажет, что человек болен, которая складывается из вероятности того, что человек болен и тест показал, что он болен, и вероятности того, что человек здоров и тест ошибся"
   ]
  },
  {
   "cell_type": "code",
   "execution_count": 9,
   "id": "c91f682a",
   "metadata": {},
   "outputs": [
    {
     "data": {
      "text/plain": [
       "0.993"
      ]
     },
     "execution_count": 9,
     "metadata": {},
     "output_type": "execute_result"
    }
   ],
   "source": [
    "p_h1 = 0.6\n",
    "p_a_h1 = 0.99\n",
    "\n",
    "p_h1_a = p_h1 * p_a_h1 / (p_h1 * p_a_h1 + (1 - p_h1) * (1 - p_a_h1))\n",
    "round(p_h1_a, 3)"
   ]
  },
  {
   "cell_type": "markdown",
   "id": "5c4c1deb",
   "metadata": {},
   "source": [
    "### <span style=\"color:rgb(65, 137, 253)\">Задание 7</span>\n",
    "\n",
    "Три фабрики производят лампочки. Фабрика А производит 20% всех лампочек, 50% лампочек производится на фабрике В и оставшиеся 30% на фабрике С. 2% лампочек, произведенных на фабрике А, 1% лампочек, произведенных на фабрике В, и 3% лампочек, произведенных на фабрике С, являются бракованными.На рынке наугад выбирается лампочка и оказывается бракованной. Какова вероятность того, что эта лампочка была произведена на заводе B?\n",
    "\n",
    "Ответ округлите до тысячных, в качестве разделителя  используйте точку."
   ]
  },
  {
   "cell_type": "code",
   "execution_count": 10,
   "id": "c074023d",
   "metadata": {},
   "outputs": [
    {
     "data": {
      "text/plain": [
       "0.278"
      ]
     },
     "execution_count": 10,
     "metadata": {},
     "output_type": "execute_result"
    }
   ],
   "source": [
    "a_fabric = 0.2\n",
    "b_fabric = 0.5\n",
    "c_fabric = 0.3\n",
    "deffect_a = 0.02\n",
    "deffect_b = 0.01\n",
    "deffect_c = 0.03\n",
    "\n",
    "round(\n",
    "    b_fabric\n",
    "    * deffect_b\n",
    "    / (a_fabric * deffect_a + b_fabric * deffect_b + c_fabric * deffect_c),\n",
    "    3,\n",
    ")"
   ]
  },
  {
   "cell_type": "markdown",
   "id": "4f328912",
   "metadata": {},
   "source": [
    "### <span style=\"color:rgb(65, 137, 253)\">Задание 8</span>\n",
    "\n",
    "Система РЛС (радиолокационная система) может обнаружить присутствие самолета в 98% случаев. Однако если в зоне действия радара нет самолета, система все равно сообщает (ложно), что самолет присутствует, в 5% случаев. В любой момент времени вероятность того, что самолет находится в зоне действия радара, составляет 7%. Какова вероятность того, что самолет находится в зоне действия радара, учитывая, что на радаре нет самолета?\n",
    "\n",
    "Ответ округлите до десятитысячных, в качестве десятичного разделителя используйте точку.\n",
    "\n",
    "<span style=\"color:rgb(234, 75, 39)\">Решение: </span>\n",
    "\n",
    "$H_1$ − событие, соответствующее тому, что самолет в зоне $P(H_1) = 0.07$ \\\n",
    "$A$ − событие, соответствующее тому, что на радаре нет самолета\n",
    "\n",
    "Тогда:\n",
    "\n",
    "- $P(H_1|A)$ - вероятность, что самолёт есть, если радар его не видит (**то, что мы ищем в задаче**)\n",
    "- $P(A|H_1)$ - вероятность, что радар ничего не увидит, если самолёт прилетит (**в условии указана обратная вероятность - что радар увидит реально летящий самолёт**)\n",
    "\n",
    "$P(A|H_1) = 1 - 0.98$\n",
    "\n",
    "А вероятность того, что самолет не обнаружат, если его реально нет в зоне:\n",
    "\n",
    "$P(A∣!H_1)=1−0.05=0.95$\n",
    "\n",
    "Воспользуемся теоремой Байеса:\n",
    "\n",
    "$$P(H_1∣A) = \\frac{P(A∣H_1)∗P(H_1)}{P(A)} = \\frac{P(A∣H_1)∗P(H_1)}{P(A∣H_1)∗P(H_1)+P(A∣!H_1)∗P(!H_1)}$$\n"
   ]
  },
  {
   "cell_type": "code",
   "execution_count": 11,
   "id": "99c7b266",
   "metadata": {},
   "outputs": [
    {
     "data": {
      "text/plain": [
       "0.0016"
      ]
     },
     "execution_count": 11,
     "metadata": {},
     "output_type": "execute_result"
    }
   ],
   "source": [
    "p_h1 = 0.07\n",
    "p_a_h1 = 1 - 0.98\n",
    "\n",
    "p_a = p_a_h1 * p_h1 + (1 - 0.05) * (1 - p_h1)\n",
    "p_h1_a = p_h1 * (1 - 0.98) / p_a\n",
    "round(p_h1_a, 4)"
   ]
  },
  {
   "cell_type": "markdown",
   "id": "4a999dac",
   "metadata": {},
   "source": [
    "### <span style=\"color:rgb(65, 137, 253)\">Задание 9</span>\n",
    "\n",
    "Система РЛС (радиолокационная система) может обнаружить присутствие самолета в 98% случаев. Однако если в зоне действия радара нет самолета, система все равно сообщает (ложно), что самолет присутствует, в 5% случаев. В любой момент времени вероятность того, что самолет находится в зоне действия радара, составляет 7%.Какова вероятность того, что самолет находится в зоне действия радара, учитывая, что радар показывает наличие самолета?\n",
    "\n",
    "Ответ округлите до тысячных, в качестве десятичного разделителя используйте точку.\n",
    "\n",
    "<span style=\"color:rgb(234, 75, 39)\">Решение: </span>\n",
    "\n",
    "$H_1$ − событие, соответствующее тому, что самолет в зоне $P(H_1) = 0.07$ \\\n",
    "$A$ − событие, соответствующее тому, что на радаре есть самолет\n",
    "\n",
    "Тогда $P(A)$ расчитывается следующим образом:\n",
    "$$P(A) = P(A|H_1) * P(H_1) + 0.05 * (1 - P(H_1))$$"
   ]
  },
  {
   "cell_type": "code",
   "execution_count": 14,
   "id": "89cbe704",
   "metadata": {},
   "outputs": [
    {
     "data": {
      "text/plain": [
       "0.596"
      ]
     },
     "execution_count": 14,
     "metadata": {},
     "output_type": "execute_result"
    }
   ],
   "source": [
    "p_h1 = 0.07\n",
    "p_a_h1 = 0.98\n",
    "\n",
    "p_a = p_a_h1 * p_h1 + 0.05 * (1 - p_h1)\n",
    "p_h1_a = p_h1 * p_a_h1 / p_a\n",
    "round(p_h1_a, 4)"
   ]
  },
  {
   "cell_type": "markdown",
   "id": "9996ab51",
   "metadata": {},
   "source": [
    "### <span style=\"color:rgb(65, 137, 253)\">Задание 10</span>\n",
    "\n",
    "Передатчик аварийного локатора самолета (ELT) - это устройство, предназначенное для передачи сигнала в случае аварии. Компания A производит 80% всех ELT на рынке, компания B - 15%, а компания C - остальные 5%. Уровень дефектности ELT, произведенных компанией A, составляет 4%, компанией B - 6%, а компанией C - 9%. Случайно выбранный ELT был протестирован и оказался бракованным. Найдите вероятность того, что он был произведен компанией A.\n",
    "\n",
    "Округлите ответ до тысячных, в качестве десятичного разделителя используйте точку.\n"
   ]
  },
  {
   "cell_type": "code",
   "execution_count": 16,
   "id": "e6d96af2",
   "metadata": {},
   "outputs": [
    {
     "data": {
      "text/plain": [
       "0.703"
      ]
     },
     "execution_count": 16,
     "metadata": {},
     "output_type": "execute_result"
    }
   ],
   "source": [
    "a = 0.8\n",
    "b = 0.15\n",
    "c = 0.05\n",
    "deffect_a = 0.04\n",
    "deffect_b = 0.06\n",
    "deffect_c = 0.09\n",
    "\n",
    "round(\n",
    "    a * deffect_a / (a * deffect_a + b * deffect_b + c * deffect_c),\n",
    "    3,\n",
    ")"
   ]
  },
  {
   "cell_type": "code",
   "execution_count": null,
   "id": "bff1a4c9",
   "metadata": {},
   "outputs": [],
   "source": []
  }
 ],
 "metadata": {
  "kernelspec": {
   "display_name": ".venv",
   "language": "python",
   "name": "python3"
  },
  "language_info": {
   "codemirror_mode": {
    "name": "ipython",
    "version": 3
   },
   "file_extension": ".py",
   "mimetype": "text/x-python",
   "name": "python",
   "nbconvert_exporter": "python",
   "pygments_lexer": "ipython3",
   "version": "3.11.2"
  }
 },
 "nbformat": 4,
 "nbformat_minor": 5
}
