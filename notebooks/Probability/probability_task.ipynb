{
 "cells": [
  {
   "cell_type": "code",
   "execution_count": 2,
   "metadata": {},
   "outputs": [],
   "source": [
    "import pandas as pd\n",
    "import numpy as np"
   ]
  },
  {
   "attachments": {},
   "cell_type": "markdown",
   "metadata": {},
   "source": [
    "Определить вероятность того, что в группе, состоящей из 23 человек, у двух людей будет совпадение дней рождения(число и месяц)."
   ]
  },
  {
   "cell_type": "code",
   "execution_count": 4,
   "metadata": {},
   "outputs": [],
   "source": [
    "bd = pd.Series(range(1, 366))"
   ]
  },
  {
   "cell_type": "code",
   "execution_count": 8,
   "metadata": {},
   "outputs": [],
   "source": [
    "t = bd.sample(23, replace=True)"
   ]
  },
  {
   "cell_type": "code",
   "execution_count": 21,
   "metadata": {},
   "outputs": [],
   "source": [
    "rooms = [bd.sample(100, replace=True).duplicated().max() for _ in range(10000)]"
   ]
  },
  {
   "cell_type": "code",
   "execution_count": 22,
   "metadata": {},
   "outputs": [
    {
     "data": {
      "text/plain": [
       "np.float64(1.0)"
      ]
     },
     "execution_count": 22,
     "metadata": {},
     "output_type": "execute_result"
    }
   ],
   "source": [
    "np.mean(rooms)"
   ]
  },
  {
   "cell_type": "code",
   "execution_count": 47,
   "metadata": {},
   "outputs": [
    {
     "data": {
      "text/plain": [
       "0.5072972343239854"
      ]
     },
     "execution_count": 47,
     "metadata": {},
     "output_type": "execute_result"
    }
   ],
   "source": [
    "from math import factorial\n",
    "\n",
    "1 - factorial(365)/(pow(365, 23)*factorial(365-23))"
   ]
  },
  {
   "attachments": {},
   "cell_type": "markdown",
   "metadata": {},
   "source": [
    "Экзамен проходит по следующей схеме:\n",
    "Если некоторый билет уже был вытянут, то после ответа экзаменатор откладывает его в сторону. Студент выучил 20 билетов из 30. Когда ему выгоднее идти, первым или вторым, чтобы вероятность вытянуть выученный билет была больше?"
   ]
  },
  {
   "cell_type": "code",
   "execution_count": 53,
   "metadata": {},
   "outputs": [
    {
     "name": "stdout",
     "output_type": "stream",
     "text": [
      "0.6666666666666666 0.6724137931034483\n"
     ]
    }
   ],
   "source": [
    "print(20/30, (19/29 + 20/29)/ 2)"
   ]
  },
  {
   "cell_type": "code",
   "execution_count": 52,
   "metadata": {},
   "outputs": [
    {
     "data": {
      "text/plain": [
       "0.6896551724137931"
      ]
     },
     "execution_count": 52,
     "metadata": {},
     "output_type": "execute_result"
    }
   ],
   "source": [
    "20/29"
   ]
  },
  {
   "cell_type": "code",
   "execution_count": 96,
   "metadata": {},
   "outputs": [],
   "source": [
    "from random import shuffle\n",
    "\n",
    "n = 10000\n",
    "tickets = list(range(1, 31))\n",
    "student = list(range(1, 21))\n",
    "result = []\n",
    "second_result = []\n",
    "\n",
    "for i in range(n):\n",
    "    shuffle(tickets)\n",
    "    result.append(tickets[0] in student)\n",
    "    second_result.append(tickets[1] in student)"
   ]
  },
  {
   "cell_type": "code",
   "execution_count": 97,
   "metadata": {},
   "outputs": [
    {
     "data": {
      "text/plain": [
       "np.float64(0.6702)"
      ]
     },
     "execution_count": 97,
     "metadata": {},
     "output_type": "execute_result"
    }
   ],
   "source": [
    "np.mean(result)"
   ]
  },
  {
   "cell_type": "code",
   "execution_count": 98,
   "metadata": {},
   "outputs": [
    {
     "data": {
      "text/plain": [
       "np.float64(0.6697)"
      ]
     },
     "execution_count": 98,
     "metadata": {},
     "output_type": "execute_result"
    }
   ],
   "source": [
    "np.mean(second_result)"
   ]
  },
  {
   "attachments": {},
   "cell_type": "markdown",
   "metadata": {},
   "source": [
    "Ночью произошло ДТП с участием такси. В городе работают две компании такси - \"Синие\" и \"Зеленые\". \"Зеленым\" принадлежит 85% такси, \"Синим\" 15%. Свидетель аварии утверждает, что такси принадлежало \"Синим\". Следственный эксперимент показал, что ночью свидетель верно определяет цвет таки в 80%. Какова вероятность того, что такси действительно принадлежало \"Синим\"?\n",
    "\n",
    "$$P(H1/A) = \\frac{P(H1)*P(A/H1)}{P(A)}$$\n",
    "\n",
    "- $P(H1/A)$ - вероятность того, что такси является синим при условии, что свидетель сказал, что оно синее\n",
    "- $P(H1)$ - вероятность того, что такси является синим\n",
    "- $P(A/H1)$ - вероятность того, что свидетель сказал, что такси синее, когда такси действительно синее\n",
    "- $P(A)$ - вероятность того, что свидетель скажет, что свидетель назовет виновыми в аварии синих"
   ]
  },
  {
   "cell_type": "code",
   "execution_count": 131,
   "metadata": {},
   "outputs": [
    {
     "data": {
      "text/plain": [
       "0.4137931034482758"
      ]
     },
     "execution_count": 131,
     "metadata": {},
     "output_type": "execute_result"
    }
   ],
   "source": [
    "p_h1_a = 0.15\n",
    "p_h1 = 0.8\n",
    "p_a = 0.15 * 0.8 + 0.85 * 0.2\n",
    "p_h1_a * p_h1 / p_a"
   ]
  },
  {
   "attachments": {},
   "cell_type": "markdown",
   "metadata": {},
   "source": [
    "Проверим с помощью monte carlo. \\\n",
    "С помощью random binomial создадим вероятность появления синего такси:"
   ]
  },
  {
   "cell_type": "code",
   "execution_count": 108,
   "metadata": {},
   "outputs": [
    {
     "data": {
      "text/plain": [
       "1"
      ]
     },
     "execution_count": 108,
     "metadata": {},
     "output_type": "execute_result"
    }
   ],
   "source": [
    "np.random.binomial(1, 0.15)"
   ]
  },
  {
   "cell_type": "code",
   "execution_count": 109,
   "metadata": {},
   "outputs": [],
   "source": [
    "def witness(taxi):\n",
    "    if np.random.binomial(1, 0.8):\n",
    "        return taxi\n",
    "    return 1 - taxi"
   ]
  },
  {
   "attachments": {},
   "cell_type": "markdown",
   "metadata": {},
   "source": [
    "Тогда 0 - зеленое такси, 1 - синее такси"
   ]
  },
  {
   "cell_type": "code",
   "execution_count": 112,
   "metadata": {},
   "outputs": [
    {
     "data": {
      "text/plain": [
       "1"
      ]
     },
     "execution_count": 112,
     "metadata": {},
     "output_type": "execute_result"
    }
   ],
   "source": [
    "witness(0)\n"
   ]
  },
  {
   "cell_type": "code",
   "execution_count": 119,
   "metadata": {},
   "outputs": [],
   "source": [
    "n = 100000\n",
    "result = []\n",
    "for _ in range(n):\n",
    "    taxi = np.random.binomial(1, 0.15)\n",
    "    witness_answer = witness(taxi)\n",
    "    result.append((taxi, witness_answer))"
   ]
  },
  {
   "cell_type": "code",
   "execution_count": 120,
   "metadata": {},
   "outputs": [],
   "source": [
    "df = pd.DataFrame(result, columns=['taxi', 'witness_answer'])"
   ]
  },
  {
   "cell_type": "code",
   "execution_count": 121,
   "metadata": {},
   "outputs": [
    {
     "data": {
      "text/plain": [
       "witness_answer\n",
       "0   0.042\n",
       "1   0.410\n",
       "Name: taxi, dtype: float64"
      ]
     },
     "execution_count": 121,
     "metadata": {},
     "output_type": "execute_result"
    }
   ],
   "source": [
    "df.groupby('witness_answer')['taxi'].mean()"
   ]
  },
  {
   "attachments": {},
   "cell_type": "markdown",
   "metadata": {},
   "source": [
    "Русская рулетка. Есть револьвер, с 2 вставленными подряд патронами. Первый крутит барабан, стреляет и остается жив. Твоя очередь. Тебе предлагается покрутить барабан перед выстрелом. Согласишься или сразу выстрелишь и почему?"
   ]
  },
  {
   "cell_type": "code",
   "execution_count": 134,
   "metadata": {},
   "outputs": [],
   "source": [
    "chamber = [1, 1, 0, 0, 0, 0]"
   ]
  },
  {
   "cell_type": "code",
   "execution_count": 135,
   "metadata": {},
   "outputs": [],
   "source": [
    "def one_turn(chamber):\n",
    "    new_chamber = [0, 0, 0, 0, 0, 0]\n",
    "    n = len(chamber)\n",
    "    for i in range(n):\n",
    "        if i < n-1:\n",
    "            new_chamber[i+1] = chamber[i]\n",
    "        else:\n",
    "            new_chamber[0] = chamber[i]\n",
    "    return new_chamber"
   ]
  },
  {
   "cell_type": "code",
   "execution_count": 137,
   "metadata": {},
   "outputs": [
    {
     "data": {
      "text/plain": [
       "[0, 1, 1, 0, 0, 0]"
      ]
     },
     "execution_count": 137,
     "metadata": {},
     "output_type": "execute_result"
    }
   ],
   "source": [
    "one_turn(chamber)"
   ]
  },
  {
   "cell_type": "code",
   "execution_count": 138,
   "metadata": {},
   "outputs": [],
   "source": [
    "def spin_chamber(chamber):\n",
    "    n = np.random.randint(1, 7)\n",
    "    for i in range(n):\n",
    "        chamber = one_turn(chamber)\n",
    "    return chamber"
   ]
  },
  {
   "cell_type": "code",
   "execution_count": 148,
   "metadata": {},
   "outputs": [
    {
     "data": {
      "text/plain": [
       "[0, 0, 0, 1, 1, 0]   0.170\n",
       "[1, 1, 0, 0, 0, 0]   0.169\n",
       "[0, 0, 1, 1, 0, 0]   0.167\n",
       "[0, 0, 0, 0, 1, 1]   0.166\n",
       "[1, 0, 0, 0, 0, 1]   0.165\n",
       "[0, 1, 1, 0, 0, 0]   0.163\n",
       "Name: proportion, dtype: float64"
      ]
     },
     "execution_count": 148,
     "metadata": {},
     "output_type": "execute_result"
    }
   ],
   "source": [
    "pd.Series([spin_chamber(chamber) for i in range(10000)]).value_counts(normalize=True)"
   ]
  },
  {
   "cell_type": "code",
   "execution_count": 149,
   "metadata": {},
   "outputs": [],
   "source": [
    "# Заряжаем револьвер\n",
    "chamber = [1, 1, 0, 0, 0, 0]\n",
    "# Первый игрок крутит барабан\n",
    "chamber = spin_chamber(chamber)\n",
    "# Первый игрок стреляет\n",
    "chamber = one_turn(chamber)\n",
    "p1 = chamber[0]\n",
    "chamber[0] = 0\n",
    "# Второй игрок вращает барабан -- нужно ли это действие?\n",
    "chamber = spin_chamber(chamber)\n",
    "# Второй игрок стреляет\n",
    "chamber = one_turn(chamber)\n",
    "p2 = chamber[0]"
   ]
  },
  {
   "cell_type": "code",
   "execution_count": 152,
   "metadata": {},
   "outputs": [],
   "source": [
    "n = 10000\n",
    "result = []\n",
    "\n",
    "for _ in range(n):\n",
    "    # Заряжаем револьвер\n",
    "    chamber = [1, 1, 0, 0, 0, 0]\n",
    "    # Первый игрок крутит барабан\n",
    "    chamber = spin_chamber(chamber)\n",
    "    # Первый игрок стреляет\n",
    "    chamber = one_turn(chamber)\n",
    "    p1 = chamber[0]\n",
    "    if p1 == 1:\n",
    "        continue\n",
    "\n",
    "    chamber_wt = one_turn(chamber)\n",
    "    p2_wt = chamber_wt[0]\n",
    "    # Второй игрок вращает барабан -- нужно ли это действие?\n",
    "    chamber = spin_chamber(chamber)\n",
    "    # Второй игрок стреляет\n",
    "    chamber = one_turn(chamber)\n",
    "    p2 = chamber[0]\n",
    "\n",
    "    result.append((p2_wt, p2))"
   ]
  },
  {
   "cell_type": "code",
   "execution_count": 156,
   "metadata": {},
   "outputs": [],
   "source": [
    "df = pd.DataFrame(result, columns=['p2_wt', 'p2'])"
   ]
  },
  {
   "cell_type": "code",
   "execution_count": 158,
   "metadata": {},
   "outputs": [
    {
     "name": "stdout",
     "output_type": "stream",
     "text": [
      "0.24746509919177076 0.3252020573108009\n"
     ]
    }
   ],
   "source": [
    "print(df['p2_wt'].mean(), df['p2'].mean())"
   ]
  },
  {
   "cell_type": "code",
   "execution_count": null,
   "metadata": {},
   "outputs": [],
   "source": [
    "6 * pow(1/3, )"
   ]
  },
  {
   "cell_type": "code",
   "execution_count": 163,
   "metadata": {},
   "outputs": [
    {
     "data": {
      "text/plain": [
       "15.0"
      ]
     },
     "execution_count": 163,
     "metadata": {},
     "output_type": "execute_result"
    }
   ],
   "source": [
    "factorial(6)/(factorial(4)*factorial(2))"
   ]
  },
  {
   "cell_type": "code",
   "execution_count": null,
   "metadata": {},
   "outputs": [],
   "source": []
  }
 ],
 "metadata": {
  "kernelspec": {
   "display_name": ".venv",
   "language": "python",
   "name": "python3"
  },
  "language_info": {
   "codemirror_mode": {
    "name": "ipython",
    "version": 3
   },
   "file_extension": ".py",
   "mimetype": "text/x-python",
   "name": "python",
   "nbconvert_exporter": "python",
   "pygments_lexer": "ipython3",
   "version": "3.11.2"
  },
  "orig_nbformat": 4
 },
 "nbformat": 4,
 "nbformat_minor": 2
}
